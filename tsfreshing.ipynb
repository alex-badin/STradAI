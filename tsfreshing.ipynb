{
 "cells": [
  {
   "cell_type": "markdown",
   "metadata": {},
   "source": [
    "## Features prep"
   ]
  },
  {
   "cell_type": "code",
   "execution_count": 36,
   "metadata": {},
   "outputs": [
    {
     "name": "stderr",
     "output_type": "stream",
     "text": [
      "/Users/oslikdau/miniforge3/envs/time-series/lib/python3.8/site-packages/statsmodels/tools/_testing.py:19: FutureWarning: pandas.util.testing is deprecated. Use the functions in the public API at pandas.testing instead.\n",
      "  import pandas.util.testing as tm\n",
      "/Users/oslikdau/miniforge3/envs/time-series/lib/python3.8/site-packages/statsmodels/tsa/base/tsa_model.py:8: FutureWarning: pandas.Int64Index is deprecated and will be removed from pandas in a future version. Use pandas.Index with the appropriate dtype instead.\n",
      "  from pandas import (to_datetime, Int64Index, DatetimeIndex, Period,\n",
      "/Users/oslikdau/miniforge3/envs/time-series/lib/python3.8/site-packages/statsmodels/tsa/base/tsa_model.py:8: FutureWarning: pandas.Float64Index is deprecated and will be removed from pandas in a future version. Use pandas.Index with the appropriate dtype instead.\n",
      "  from pandas import (to_datetime, Int64Index, DatetimeIndex, Period,\n",
      "/Users/oslikdau/miniforge3/envs/time-series/lib/python3.8/site-packages/dask/dataframe/utils.py:366: FutureWarning: pandas.Int64Index is deprecated and will be removed from pandas in a future version. Use pandas.Index with the appropriate dtype instead.\n",
      "  _numeric_index_types = (pd.Int64Index, pd.Float64Index, pd.UInt64Index)\n",
      "/Users/oslikdau/miniforge3/envs/time-series/lib/python3.8/site-packages/dask/dataframe/utils.py:366: FutureWarning: pandas.Float64Index is deprecated and will be removed from pandas in a future version. Use pandas.Index with the appropriate dtype instead.\n",
      "  _numeric_index_types = (pd.Int64Index, pd.Float64Index, pd.UInt64Index)\n",
      "/Users/oslikdau/miniforge3/envs/time-series/lib/python3.8/site-packages/dask/dataframe/utils.py:366: FutureWarning: pandas.UInt64Index is deprecated and will be removed from pandas in a future version. Use pandas.Index with the appropriate dtype instead.\n",
      "  _numeric_index_types = (pd.Int64Index, pd.Float64Index, pd.UInt64Index)\n"
     ]
    }
   ],
   "source": [
    "import pandas as pd\n",
    "from tsfresh import extract_features, select_features\n",
    "from tsfresh.utilities.dataframe_functions import roll_time_series, make_forecasting_frame\n",
    "from tsfresh.utilities.dataframe_functions import impute"
   ]
  },
  {
   "cell_type": "code",
   "execution_count": 3,
   "metadata": {},
   "outputs": [
    {
     "data": {
      "text/plain": [
       "'/Users/oslikdau/Documents/GitHub/ds_bootcamp/Project'"
      ]
     },
     "execution_count": 3,
     "metadata": {},
     "output_type": "execute_result"
    }
   ],
   "source": [
    "pwd"
   ]
  },
  {
   "cell_type": "code",
   "execution_count": 4,
   "metadata": {},
   "outputs": [
    {
     "data": {
      "text/plain": [
       "(615169, 10)"
      ]
     },
     "execution_count": 4,
     "metadata": {},
     "output_type": "execute_result"
    }
   ],
   "source": [
    "df_all = pd.read_csv('all_data_surges.csv')\n",
    "df_all.shape"
   ]
  },
  {
   "cell_type": "code",
   "execution_count": 5,
   "metadata": {},
   "outputs": [
    {
     "data": {
      "text/plain": [
       "(75902, 10)"
      ]
     },
     "execution_count": 5,
     "metadata": {},
     "output_type": "execute_result"
    }
   ],
   "source": [
    "df_all_2019 = df_all[(df_all['Date']>'2019-01-01')]\n",
    "df_all_2019.shape"
   ]
  },
  {
   "cell_type": "code",
   "execution_count": 6,
   "metadata": {},
   "outputs": [
    {
     "name": "stderr",
     "output_type": "stream",
     "text": [
      "Rolling:   0%|          | 0/20 [00:00<?, ?it/s]/Users/oslikdau/miniforge3/envs/time-series/lib/python3.8/site-packages/statsmodels/tools/_testing.py:19: FutureWarning: pandas.util.testing is deprecated. Use the functions in the public API at pandas.testing instead.\n",
      "  import pandas.util.testing as tm\n",
      "/Users/oslikdau/miniforge3/envs/time-series/lib/python3.8/site-packages/statsmodels/tools/_testing.py:19: FutureWarning: pandas.util.testing is deprecated. Use the functions in the public API at pandas.testing instead.\n",
      "  import pandas.util.testing as tm\n",
      "/Users/oslikdau/miniforge3/envs/time-series/lib/python3.8/site-packages/statsmodels/tools/_testing.py:19: FutureWarning: pandas.util.testing is deprecated. Use the functions in the public API at pandas.testing instead.\n",
      "  import pandas.util.testing as tm\n",
      "/Users/oslikdau/miniforge3/envs/time-series/lib/python3.8/site-packages/statsmodels/tools/_testing.py:19: FutureWarning: pandas.util.testing is deprecated. Use the functions in the public API at pandas.testing instead.\n",
      "  import pandas.util.testing as tm\n",
      "/Users/oslikdau/miniforge3/envs/time-series/lib/python3.8/site-packages/statsmodels/tsa/base/tsa_model.py:8: FutureWarning: pandas.Int64Index is deprecated and will be removed from pandas in a future version. Use pandas.Index with the appropriate dtype instead.\n",
      "  from pandas import (to_datetime, Int64Index, DatetimeIndex, Period,\n",
      "/Users/oslikdau/miniforge3/envs/time-series/lib/python3.8/site-packages/statsmodels/tsa/base/tsa_model.py:8: FutureWarning: pandas.Float64Index is deprecated and will be removed from pandas in a future version. Use pandas.Index with the appropriate dtype instead.\n",
      "  from pandas import (to_datetime, Int64Index, DatetimeIndex, Period,\n",
      "/Users/oslikdau/miniforge3/envs/time-series/lib/python3.8/site-packages/statsmodels/tsa/base/tsa_model.py:8: FutureWarning: pandas.Int64Index is deprecated and will be removed from pandas in a future version. Use pandas.Index with the appropriate dtype instead.\n",
      "  from pandas import (to_datetime, Int64Index, DatetimeIndex, Period,\n",
      "/Users/oslikdau/miniforge3/envs/time-series/lib/python3.8/site-packages/statsmodels/tsa/base/tsa_model.py:8: FutureWarning: pandas.Float64Index is deprecated and will be removed from pandas in a future version. Use pandas.Index with the appropriate dtype instead.\n",
      "  from pandas import (to_datetime, Int64Index, DatetimeIndex, Period,\n",
      "/Users/oslikdau/miniforge3/envs/time-series/lib/python3.8/site-packages/statsmodels/tsa/base/tsa_model.py:8: FutureWarning: pandas.Int64Index is deprecated and will be removed from pandas in a future version. Use pandas.Index with the appropriate dtype instead.\n",
      "  from pandas import (to_datetime, Int64Index, DatetimeIndex, Period,\n",
      "/Users/oslikdau/miniforge3/envs/time-series/lib/python3.8/site-packages/statsmodels/tsa/base/tsa_model.py:8: FutureWarning: pandas.Float64Index is deprecated and will be removed from pandas in a future version. Use pandas.Index with the appropriate dtype instead.\n",
      "  from pandas import (to_datetime, Int64Index, DatetimeIndex, Period,\n",
      "/Users/oslikdau/miniforge3/envs/time-series/lib/python3.8/site-packages/statsmodels/tsa/base/tsa_model.py:8: FutureWarning: pandas.Int64Index is deprecated and will be removed from pandas in a future version. Use pandas.Index with the appropriate dtype instead.\n",
      "  from pandas import (to_datetime, Int64Index, DatetimeIndex, Period,\n",
      "/Users/oslikdau/miniforge3/envs/time-series/lib/python3.8/site-packages/statsmodels/tsa/base/tsa_model.py:8: FutureWarning: pandas.Float64Index is deprecated and will be removed from pandas in a future version. Use pandas.Index with the appropriate dtype instead.\n",
      "  from pandas import (to_datetime, Int64Index, DatetimeIndex, Period,\n",
      "/Users/oslikdau/miniforge3/envs/time-series/lib/python3.8/site-packages/dask/dataframe/utils.py:366: FutureWarning: pandas.Int64Index is deprecated and will be removed from pandas in a future version. Use pandas.Index with the appropriate dtype instead.\n",
      "  _numeric_index_types = (pd.Int64Index, pd.Float64Index, pd.UInt64Index)\n",
      "/Users/oslikdau/miniforge3/envs/time-series/lib/python3.8/site-packages/dask/dataframe/utils.py:366: FutureWarning: pandas.Float64Index is deprecated and will be removed from pandas in a future version. Use pandas.Index with the appropriate dtype instead.\n",
      "  _numeric_index_types = (pd.Int64Index, pd.Float64Index, pd.UInt64Index)\n",
      "/Users/oslikdau/miniforge3/envs/time-series/lib/python3.8/site-packages/dask/dataframe/utils.py:366: FutureWarning: pandas.UInt64Index is deprecated and will be removed from pandas in a future version. Use pandas.Index with the appropriate dtype instead.\n",
      "  _numeric_index_types = (pd.Int64Index, pd.Float64Index, pd.UInt64Index)\n",
      "/Users/oslikdau/miniforge3/envs/time-series/lib/python3.8/site-packages/dask/dataframe/utils.py:366: FutureWarning: pandas.Int64Index is deprecated and will be removed from pandas in a future version. Use pandas.Index with the appropriate dtype instead.\n",
      "  _numeric_index_types = (pd.Int64Index, pd.Float64Index, pd.UInt64Index)\n",
      "/Users/oslikdau/miniforge3/envs/time-series/lib/python3.8/site-packages/dask/dataframe/utils.py:366: FutureWarning: pandas.Float64Index is deprecated and will be removed from pandas in a future version. Use pandas.Index with the appropriate dtype instead.\n",
      "  _numeric_index_types = (pd.Int64Index, pd.Float64Index, pd.UInt64Index)\n",
      "/Users/oslikdau/miniforge3/envs/time-series/lib/python3.8/site-packages/dask/dataframe/utils.py:366: FutureWarning: pandas.UInt64Index is deprecated and will be removed from pandas in a future version. Use pandas.Index with the appropriate dtype instead.\n",
      "  _numeric_index_types = (pd.Int64Index, pd.Float64Index, pd.UInt64Index)\n",
      "/Users/oslikdau/miniforge3/envs/time-series/lib/python3.8/site-packages/dask/dataframe/utils.py:366: FutureWarning: pandas.Int64Index is deprecated and will be removed from pandas in a future version. Use pandas.Index with the appropriate dtype instead.\n",
      "  _numeric_index_types = (pd.Int64Index, pd.Float64Index, pd.UInt64Index)\n",
      "/Users/oslikdau/miniforge3/envs/time-series/lib/python3.8/site-packages/dask/dataframe/utils.py:366: FutureWarning: pandas.Float64Index is deprecated and will be removed from pandas in a future version. Use pandas.Index with the appropriate dtype instead.\n",
      "  _numeric_index_types = (pd.Int64Index, pd.Float64Index, pd.UInt64Index)\n",
      "/Users/oslikdau/miniforge3/envs/time-series/lib/python3.8/site-packages/dask/dataframe/utils.py:366: FutureWarning: pandas.UInt64Index is deprecated and will be removed from pandas in a future version. Use pandas.Index with the appropriate dtype instead.\n",
      "  _numeric_index_types = (pd.Int64Index, pd.Float64Index, pd.UInt64Index)\n",
      "/Users/oslikdau/miniforge3/envs/time-series/lib/python3.8/site-packages/dask/dataframe/utils.py:366: FutureWarning: pandas.Int64Index is deprecated and will be removed from pandas in a future version. Use pandas.Index with the appropriate dtype instead.\n",
      "  _numeric_index_types = (pd.Int64Index, pd.Float64Index, pd.UInt64Index)\n",
      "/Users/oslikdau/miniforge3/envs/time-series/lib/python3.8/site-packages/dask/dataframe/utils.py:366: FutureWarning: pandas.Float64Index is deprecated and will be removed from pandas in a future version. Use pandas.Index with the appropriate dtype instead.\n",
      "  _numeric_index_types = (pd.Int64Index, pd.Float64Index, pd.UInt64Index)\n",
      "/Users/oslikdau/miniforge3/envs/time-series/lib/python3.8/site-packages/dask/dataframe/utils.py:366: FutureWarning: pandas.UInt64Index is deprecated and will be removed from pandas in a future version. Use pandas.Index with the appropriate dtype instead.\n",
      "  _numeric_index_types = (pd.Int64Index, pd.Float64Index, pd.UInt64Index)\n",
      "Rolling: 100%|██████████| 20/20 [00:10<00:00,  1.90it/s]\n"
     ]
    }
   ],
   "source": [
    "df_rolled = roll_time_series(df_all_2019, column_id=\"Names\", column_sort=\"Date\",\n",
    "                             max_timeshift=20, min_timeshift=20)"
   ]
  },
  {
   "cell_type": "code",
   "execution_count": 7,
   "metadata": {},
   "outputs": [
    {
     "data": {
      "text/plain": [
       "(1551942, 11)"
      ]
     },
     "execution_count": 7,
     "metadata": {},
     "output_type": "execute_result"
    }
   ],
   "source": [
    "df_rolled.shape"
   ]
  },
  {
   "cell_type": "code",
   "execution_count": 8,
   "metadata": {},
   "outputs": [
    {
     "data": {
      "text/html": [
       "<div>\n",
       "<style scoped>\n",
       "    .dataframe tbody tr th:only-of-type {\n",
       "        vertical-align: middle;\n",
       "    }\n",
       "\n",
       "    .dataframe tbody tr th {\n",
       "        vertical-align: top;\n",
       "    }\n",
       "\n",
       "    .dataframe thead th {\n",
       "        text-align: right;\n",
       "    }\n",
       "</style>\n",
       "<table border=\"1\" class=\"dataframe\">\n",
       "  <thead>\n",
       "    <tr style=\"text-align: right;\">\n",
       "      <th></th>\n",
       "      <th>Unnamed: 0</th>\n",
       "      <th>Names</th>\n",
       "      <th>Date</th>\n",
       "      <th>Open</th>\n",
       "      <th>High</th>\n",
       "      <th>Low</th>\n",
       "      <th>Close</th>\n",
       "      <th>Volume</th>\n",
       "      <th>close_dif</th>\n",
       "      <th>surges</th>\n",
       "      <th>id</th>\n",
       "    </tr>\n",
       "  </thead>\n",
       "  <tbody>\n",
       "  </tbody>\n",
       "</table>\n",
       "</div>"
      ],
      "text/plain": [
       "Empty DataFrame\n",
       "Columns: [Unnamed: 0, Names, Date, Open, High, Low, Close, Volume, close_dif, surges, id]\n",
       "Index: []"
      ]
     },
     "execution_count": 8,
     "metadata": {},
     "output_type": "execute_result"
    }
   ],
   "source": [
    "df_rolled.dropna(axis=0, inplace=True)\n",
    "df_rolled[df_rolled['close_dif'].isna()]"
   ]
  },
  {
   "cell_type": "code",
   "execution_count": 9,
   "metadata": {},
   "outputs": [
    {
     "data": {
      "text/html": [
       "<div>\n",
       "<style scoped>\n",
       "    .dataframe tbody tr th:only-of-type {\n",
       "        vertical-align: middle;\n",
       "    }\n",
       "\n",
       "    .dataframe tbody tr th {\n",
       "        vertical-align: top;\n",
       "    }\n",
       "\n",
       "    .dataframe thead th {\n",
       "        text-align: right;\n",
       "    }\n",
       "</style>\n",
       "<table border=\"1\" class=\"dataframe\">\n",
       "  <thead>\n",
       "    <tr style=\"text-align: right;\">\n",
       "      <th></th>\n",
       "      <th>Unnamed: 0</th>\n",
       "      <th>Names</th>\n",
       "      <th>Date</th>\n",
       "      <th>Open</th>\n",
       "      <th>High</th>\n",
       "      <th>Low</th>\n",
       "      <th>Close</th>\n",
       "      <th>Volume</th>\n",
       "      <th>close_dif</th>\n",
       "      <th>surges</th>\n",
       "      <th>id</th>\n",
       "    </tr>\n",
       "  </thead>\n",
       "  <tbody>\n",
       "    <tr>\n",
       "      <th>0</th>\n",
       "      <td>195088</td>\n",
       "      <td>AAPL</td>\n",
       "      <td>2019-01-02</td>\n",
       "      <td>37.590927</td>\n",
       "      <td>38.551998</td>\n",
       "      <td>37.430747</td>\n",
       "      <td>38.326290</td>\n",
       "      <td>148158800.0</td>\n",
       "      <td>0.001141</td>\n",
       "      <td>False</td>\n",
       "      <td>(AAPL, 2019-01-31)</td>\n",
       "    </tr>\n",
       "    <tr>\n",
       "      <th>1</th>\n",
       "      <td>195089</td>\n",
       "      <td>AAPL</td>\n",
       "      <td>2019-01-03</td>\n",
       "      <td>34.943134</td>\n",
       "      <td>35.365424</td>\n",
       "      <td>34.462600</td>\n",
       "      <td>34.508713</td>\n",
       "      <td>365248800.0</td>\n",
       "      <td>-0.099607</td>\n",
       "      <td>True</td>\n",
       "      <td>(AAPL, 2019-01-31)</td>\n",
       "    </tr>\n",
       "    <tr>\n",
       "      <th>2</th>\n",
       "      <td>195090</td>\n",
       "      <td>AAPL</td>\n",
       "      <td>2019-01-04</td>\n",
       "      <td>35.076616</td>\n",
       "      <td>36.052248</td>\n",
       "      <td>34.899450</td>\n",
       "      <td>35.981865</td>\n",
       "      <td>234428400.0</td>\n",
       "      <td>0.042689</td>\n",
       "      <td>True</td>\n",
       "      <td>(AAPL, 2019-01-31)</td>\n",
       "    </tr>\n",
       "    <tr>\n",
       "      <th>3</th>\n",
       "      <td>195091</td>\n",
       "      <td>AAPL</td>\n",
       "      <td>2019-01-07</td>\n",
       "      <td>36.088647</td>\n",
       "      <td>36.120199</td>\n",
       "      <td>35.409102</td>\n",
       "      <td>35.901772</td>\n",
       "      <td>219111200.0</td>\n",
       "      <td>-0.002226</td>\n",
       "      <td>False</td>\n",
       "      <td>(AAPL, 2019-01-31)</td>\n",
       "    </tr>\n",
       "    <tr>\n",
       "      <th>4</th>\n",
       "      <td>195092</td>\n",
       "      <td>AAPL</td>\n",
       "      <td>2019-01-08</td>\n",
       "      <td>36.297360</td>\n",
       "      <td>36.845851</td>\n",
       "      <td>36.044959</td>\n",
       "      <td>36.586166</td>\n",
       "      <td>164101200.0</td>\n",
       "      <td>0.019063</td>\n",
       "      <td>False</td>\n",
       "      <td>(AAPL, 2019-01-31)</td>\n",
       "    </tr>\n",
       "    <tr>\n",
       "      <th>...</th>\n",
       "      <td>...</td>\n",
       "      <td>...</td>\n",
       "      <td>...</td>\n",
       "      <td>...</td>\n",
       "      <td>...</td>\n",
       "      <td>...</td>\n",
       "      <td>...</td>\n",
       "      <td>...</td>\n",
       "      <td>...</td>\n",
       "      <td>...</td>\n",
       "      <td>...</td>\n",
       "    </tr>\n",
       "    <tr>\n",
       "      <th>1551748</th>\n",
       "      <td>597771</td>\n",
       "      <td>ZS -</td>\n",
       "      <td>2022-01-07</td>\n",
       "      <td>258.380005</td>\n",
       "      <td>268.359985</td>\n",
       "      <td>254.350998</td>\n",
       "      <td>261.529999</td>\n",
       "      <td>1695800.0</td>\n",
       "      <td>0.005073</td>\n",
       "      <td>False</td>\n",
       "      <td>(ZS -, 2022-01-13)</td>\n",
       "    </tr>\n",
       "    <tr>\n",
       "      <th>1551749</th>\n",
       "      <td>597772</td>\n",
       "      <td>ZS -</td>\n",
       "      <td>2022-01-10</td>\n",
       "      <td>254.500000</td>\n",
       "      <td>276.019989</td>\n",
       "      <td>249.009995</td>\n",
       "      <td>275.649994</td>\n",
       "      <td>4333300.0</td>\n",
       "      <td>0.053990</td>\n",
       "      <td>True</td>\n",
       "      <td>(ZS -, 2022-01-13)</td>\n",
       "    </tr>\n",
       "    <tr>\n",
       "      <th>1551750</th>\n",
       "      <td>597773</td>\n",
       "      <td>ZS -</td>\n",
       "      <td>2022-01-11</td>\n",
       "      <td>270.450012</td>\n",
       "      <td>281.369995</td>\n",
       "      <td>267.329987</td>\n",
       "      <td>277.529999</td>\n",
       "      <td>1517900.0</td>\n",
       "      <td>0.006820</td>\n",
       "      <td>False</td>\n",
       "      <td>(ZS -, 2022-01-13)</td>\n",
       "    </tr>\n",
       "    <tr>\n",
       "      <th>1551751</th>\n",
       "      <td>597774</td>\n",
       "      <td>ZS -</td>\n",
       "      <td>2022-01-12</td>\n",
       "      <td>283.109985</td>\n",
       "      <td>288.609985</td>\n",
       "      <td>272.880005</td>\n",
       "      <td>273.980011</td>\n",
       "      <td>1881000.0</td>\n",
       "      <td>-0.012791</td>\n",
       "      <td>False</td>\n",
       "      <td>(ZS -, 2022-01-13)</td>\n",
       "    </tr>\n",
       "    <tr>\n",
       "      <th>1551752</th>\n",
       "      <td>597775</td>\n",
       "      <td>ZS -</td>\n",
       "      <td>2022-01-13</td>\n",
       "      <td>274.649994</td>\n",
       "      <td>277.269989</td>\n",
       "      <td>250.320007</td>\n",
       "      <td>250.470001</td>\n",
       "      <td>3130400.0</td>\n",
       "      <td>-0.085809</td>\n",
       "      <td>True</td>\n",
       "      <td>(ZS -, 2022-01-13)</td>\n",
       "    </tr>\n",
       "  </tbody>\n",
       "</table>\n",
       "<p>1551936 rows × 11 columns</p>\n",
       "</div>"
      ],
      "text/plain": [
       "         Unnamed: 0 Names        Date        Open        High         Low  \\\n",
       "0            195088  AAPL  2019-01-02   37.590927   38.551998   37.430747   \n",
       "1            195089  AAPL  2019-01-03   34.943134   35.365424   34.462600   \n",
       "2            195090  AAPL  2019-01-04   35.076616   36.052248   34.899450   \n",
       "3            195091  AAPL  2019-01-07   36.088647   36.120199   35.409102   \n",
       "4            195092  AAPL  2019-01-08   36.297360   36.845851   36.044959   \n",
       "...             ...   ...         ...         ...         ...         ...   \n",
       "1551748      597771  ZS -  2022-01-07  258.380005  268.359985  254.350998   \n",
       "1551749      597772  ZS -  2022-01-10  254.500000  276.019989  249.009995   \n",
       "1551750      597773  ZS -  2022-01-11  270.450012  281.369995  267.329987   \n",
       "1551751      597774  ZS -  2022-01-12  283.109985  288.609985  272.880005   \n",
       "1551752      597775  ZS -  2022-01-13  274.649994  277.269989  250.320007   \n",
       "\n",
       "              Close       Volume  close_dif  surges                  id  \n",
       "0         38.326290  148158800.0   0.001141   False  (AAPL, 2019-01-31)  \n",
       "1         34.508713  365248800.0  -0.099607    True  (AAPL, 2019-01-31)  \n",
       "2         35.981865  234428400.0   0.042689    True  (AAPL, 2019-01-31)  \n",
       "3         35.901772  219111200.0  -0.002226   False  (AAPL, 2019-01-31)  \n",
       "4         36.586166  164101200.0   0.019063   False  (AAPL, 2019-01-31)  \n",
       "...             ...          ...        ...     ...                 ...  \n",
       "1551748  261.529999    1695800.0   0.005073   False  (ZS -, 2022-01-13)  \n",
       "1551749  275.649994    4333300.0   0.053990    True  (ZS -, 2022-01-13)  \n",
       "1551750  277.529999    1517900.0   0.006820   False  (ZS -, 2022-01-13)  \n",
       "1551751  273.980011    1881000.0  -0.012791   False  (ZS -, 2022-01-13)  \n",
       "1551752  250.470001    3130400.0  -0.085809    True  (ZS -, 2022-01-13)  \n",
       "\n",
       "[1551936 rows x 11 columns]"
      ]
     },
     "execution_count": 9,
     "metadata": {},
     "output_type": "execute_result"
    }
   ],
   "source": [
    "df_rolled"
   ]
  },
  {
   "cell_type": "code",
   "execution_count": 10,
   "metadata": {},
   "outputs": [
    {
     "name": "stderr",
     "output_type": "stream",
     "text": [
      "Feature Extraction:   0%|          | 0/20 [00:00<?, ?it/s]/Users/oslikdau/miniforge3/envs/time-series/lib/python3.8/site-packages/statsmodels/tools/_testing.py:19: FutureWarning: pandas.util.testing is deprecated. Use the functions in the public API at pandas.testing instead.\n",
      "  import pandas.util.testing as tm\n",
      "/Users/oslikdau/miniforge3/envs/time-series/lib/python3.8/site-packages/statsmodels/tools/_testing.py:19: FutureWarning: pandas.util.testing is deprecated. Use the functions in the public API at pandas.testing instead.\n",
      "  import pandas.util.testing as tm\n",
      "/Users/oslikdau/miniforge3/envs/time-series/lib/python3.8/site-packages/statsmodels/tools/_testing.py:19: FutureWarning: pandas.util.testing is deprecated. Use the functions in the public API at pandas.testing instead.\n",
      "  import pandas.util.testing as tm\n",
      "/Users/oslikdau/miniforge3/envs/time-series/lib/python3.8/site-packages/statsmodels/tools/_testing.py:19: FutureWarning: pandas.util.testing is deprecated. Use the functions in the public API at pandas.testing instead.\n",
      "  import pandas.util.testing as tm\n",
      "/Users/oslikdau/miniforge3/envs/time-series/lib/python3.8/site-packages/statsmodels/tsa/base/tsa_model.py:8: FutureWarning: pandas.Int64Index is deprecated and will be removed from pandas in a future version. Use pandas.Index with the appropriate dtype instead.\n",
      "  from pandas import (to_datetime, Int64Index, DatetimeIndex, Period,\n",
      "/Users/oslikdau/miniforge3/envs/time-series/lib/python3.8/site-packages/statsmodels/tsa/base/tsa_model.py:8: FutureWarning: pandas.Float64Index is deprecated and will be removed from pandas in a future version. Use pandas.Index with the appropriate dtype instead.\n",
      "  from pandas import (to_datetime, Int64Index, DatetimeIndex, Period,\n",
      "/Users/oslikdau/miniforge3/envs/time-series/lib/python3.8/site-packages/statsmodels/tsa/base/tsa_model.py:8: FutureWarning: pandas.Int64Index is deprecated and will be removed from pandas in a future version. Use pandas.Index with the appropriate dtype instead.\n",
      "  from pandas import (to_datetime, Int64Index, DatetimeIndex, Period,\n",
      "/Users/oslikdau/miniforge3/envs/time-series/lib/python3.8/site-packages/statsmodels/tsa/base/tsa_model.py:8: FutureWarning: pandas.Float64Index is deprecated and will be removed from pandas in a future version. Use pandas.Index with the appropriate dtype instead.\n",
      "  from pandas import (to_datetime, Int64Index, DatetimeIndex, Period,\n",
      "/Users/oslikdau/miniforge3/envs/time-series/lib/python3.8/site-packages/statsmodels/tsa/base/tsa_model.py:8: FutureWarning: pandas.Int64Index is deprecated and will be removed from pandas in a future version. Use pandas.Index with the appropriate dtype instead.\n",
      "  from pandas import (to_datetime, Int64Index, DatetimeIndex, Period,\n",
      "/Users/oslikdau/miniforge3/envs/time-series/lib/python3.8/site-packages/statsmodels/tsa/base/tsa_model.py:8: FutureWarning: pandas.Float64Index is deprecated and will be removed from pandas in a future version. Use pandas.Index with the appropriate dtype instead.\n",
      "  from pandas import (to_datetime, Int64Index, DatetimeIndex, Period,\n",
      "/Users/oslikdau/miniforge3/envs/time-series/lib/python3.8/site-packages/statsmodels/tsa/base/tsa_model.py:8: FutureWarning: pandas.Int64Index is deprecated and will be removed from pandas in a future version. Use pandas.Index with the appropriate dtype instead.\n",
      "  from pandas import (to_datetime, Int64Index, DatetimeIndex, Period,\n",
      "/Users/oslikdau/miniforge3/envs/time-series/lib/python3.8/site-packages/statsmodels/tsa/base/tsa_model.py:8: FutureWarning: pandas.Float64Index is deprecated and will be removed from pandas in a future version. Use pandas.Index with the appropriate dtype instead.\n",
      "  from pandas import (to_datetime, Int64Index, DatetimeIndex, Period,\n",
      "/Users/oslikdau/miniforge3/envs/time-series/lib/python3.8/site-packages/dask/dataframe/utils.py:366: FutureWarning: pandas.Int64Index is deprecated and will be removed from pandas in a future version. Use pandas.Index with the appropriate dtype instead.\n",
      "  _numeric_index_types = (pd.Int64Index, pd.Float64Index, pd.UInt64Index)\n",
      "/Users/oslikdau/miniforge3/envs/time-series/lib/python3.8/site-packages/dask/dataframe/utils.py:366: FutureWarning: pandas.Int64Index is deprecated and will be removed from pandas in a future version. Use pandas.Index with the appropriate dtype instead.\n",
      "  _numeric_index_types = (pd.Int64Index, pd.Float64Index, pd.UInt64Index)\n",
      "/Users/oslikdau/miniforge3/envs/time-series/lib/python3.8/site-packages/dask/dataframe/utils.py:366: FutureWarning: pandas.Int64Index is deprecated and will be removed from pandas in a future version. Use pandas.Index with the appropriate dtype instead.\n",
      "  _numeric_index_types = (pd.Int64Index, pd.Float64Index, pd.UInt64Index)\n",
      "/Users/oslikdau/miniforge3/envs/time-series/lib/python3.8/site-packages/dask/dataframe/utils.py:366: FutureWarning: pandas.Int64Index is deprecated and will be removed from pandas in a future version. Use pandas.Index with the appropriate dtype instead.\n",
      "  _numeric_index_types = (pd.Int64Index, pd.Float64Index, pd.UInt64Index)\n",
      "/Users/oslikdau/miniforge3/envs/time-series/lib/python3.8/site-packages/dask/dataframe/utils.py:366: FutureWarning: pandas.Float64Index is deprecated and will be removed from pandas in a future version. Use pandas.Index with the appropriate dtype instead.\n",
      "  _numeric_index_types = (pd.Int64Index, pd.Float64Index, pd.UInt64Index)\n",
      "/Users/oslikdau/miniforge3/envs/time-series/lib/python3.8/site-packages/dask/dataframe/utils.py:366: FutureWarning: pandas.Float64Index is deprecated and will be removed from pandas in a future version. Use pandas.Index with the appropriate dtype instead.\n",
      "  _numeric_index_types = (pd.Int64Index, pd.Float64Index, pd.UInt64Index)\n",
      "/Users/oslikdau/miniforge3/envs/time-series/lib/python3.8/site-packages/dask/dataframe/utils.py:366: FutureWarning: pandas.Float64Index is deprecated and will be removed from pandas in a future version. Use pandas.Index with the appropriate dtype instead.\n",
      "  _numeric_index_types = (pd.Int64Index, pd.Float64Index, pd.UInt64Index)\n",
      "/Users/oslikdau/miniforge3/envs/time-series/lib/python3.8/site-packages/dask/dataframe/utils.py:366: FutureWarning: pandas.Float64Index is deprecated and will be removed from pandas in a future version. Use pandas.Index with the appropriate dtype instead.\n",
      "  _numeric_index_types = (pd.Int64Index, pd.Float64Index, pd.UInt64Index)\n",
      "/Users/oslikdau/miniforge3/envs/time-series/lib/python3.8/site-packages/dask/dataframe/utils.py:366: FutureWarning: pandas.UInt64Index is deprecated and will be removed from pandas in a future version. Use pandas.Index with the appropriate dtype instead.\n",
      "  _numeric_index_types = (pd.Int64Index, pd.Float64Index, pd.UInt64Index)\n",
      "/Users/oslikdau/miniforge3/envs/time-series/lib/python3.8/site-packages/dask/dataframe/utils.py:366: FutureWarning: pandas.UInt64Index is deprecated and will be removed from pandas in a future version. Use pandas.Index with the appropriate dtype instead.\n",
      "  _numeric_index_types = (pd.Int64Index, pd.Float64Index, pd.UInt64Index)\n",
      "/Users/oslikdau/miniforge3/envs/time-series/lib/python3.8/site-packages/dask/dataframe/utils.py:366: FutureWarning: pandas.UInt64Index is deprecated and will be removed from pandas in a future version. Use pandas.Index with the appropriate dtype instead.\n",
      "  _numeric_index_types = (pd.Int64Index, pd.Float64Index, pd.UInt64Index)\n",
      "/Users/oslikdau/miniforge3/envs/time-series/lib/python3.8/site-packages/dask/dataframe/utils.py:366: FutureWarning: pandas.UInt64Index is deprecated and will be removed from pandas in a future version. Use pandas.Index with the appropriate dtype instead.\n",
      "  _numeric_index_types = (pd.Int64Index, pd.Float64Index, pd.UInt64Index)\n",
      "Feature Extraction:  20%|██        | 4/20 [02:34<10:17, 38.61s/it]\n",
      "Process SpawnPoolWorker-7:\n",
      "Traceback (most recent call last):\n",
      "  File \"/Users/oslikdau/miniforge3/envs/time-series/lib/python3.8/multiprocessing/process.py\", line 315, in _bootstrap\n",
      "    self.run()\n",
      "  File \"/Users/oslikdau/miniforge3/envs/time-series/lib/python3.8/multiprocessing/process.py\", line 108, in run\n",
      "    self._target(*self._args, **self._kwargs)\n",
      "  File \"/Users/oslikdau/miniforge3/envs/time-series/lib/python3.8/multiprocessing/pool.py\", line 125, in worker\n",
      "    result = (True, func(*args, **kwds))\n",
      "  File \"/Users/oslikdau/miniforge3/envs/time-series/lib/python3.8/site-packages/tsfresh/utilities/distribution.py\", line 43, in _function_with_partly_reduce\n",
      "    results = list(itertools.chain.from_iterable(results))\n",
      "  File \"/Users/oslikdau/miniforge3/envs/time-series/lib/python3.8/site-packages/tsfresh/utilities/distribution.py\", line 42, in <genexpr>\n",
      "    results = (map_function(chunk, **kwargs) for chunk in chunk_list)\n",
      "  File \"/Users/oslikdau/miniforge3/envs/time-series/lib/python3.8/site-packages/tsfresh/feature_extraction/extraction.py\", line 328, in _do_extraction_on_chunk\n",
      "    return list(_f())\n",
      "  File \"/Users/oslikdau/miniforge3/envs/time-series/lib/python3.8/site-packages/tsfresh/feature_extraction/extraction.py\", line 322, in _f\n",
      "    for key, item in result:\n",
      "  File \"/Users/oslikdau/miniforge3/envs/time-series/lib/python3.8/site-packages/tsfresh/feature_extraction/extraction.py\", line 317, in <genexpr>\n",
      "    result = ((convert_to_output_format(param), func(x, **param)) for param in\n",
      "  File \"/Users/oslikdau/miniforge3/envs/time-series/lib/python3.8/site-packages/tsfresh/feature_extraction/feature_calculators.py\", line 1243, in number_cwt_peaks\n",
      "    return len(find_peaks_cwt(vector=x, widths=np.array(list(range(1, n + 1))), wavelet=ricker))\n",
      "  File \"/Users/oslikdau/miniforge3/envs/time-series/lib/python3.8/site-packages/scipy/signal/_peak_finding.py\", line 1294, in find_peaks_cwt\n",
      "    ridge_lines = _identify_ridge_lines(cwt_dat, max_distances, gap_thresh)\n",
      "  File \"/Users/oslikdau/miniforge3/envs/time-series/lib/python3.8/site-packages/scipy/signal/_peak_finding.py\", line 1118, in _identify_ridge_lines\n",
      "    rows, cols = np.zeros_like(sortargs), np.zeros_like(sortargs)\n",
      "  File \"<__array_function__ internals>\", line 180, in zeros_like\n",
      "  File \"/Users/oslikdau/miniforge3/envs/time-series/lib/python3.8/site-packages/numpy/core/numeric.py\", line 76, in zeros_like\n",
      "    @array_function_dispatch(_zeros_like_dispatcher)\n",
      "KeyboardInterrupt\n",
      "Process SpawnPoolWorker-6:\n",
      "Traceback (most recent call last):\n",
      "  File \"/Users/oslikdau/miniforge3/envs/time-series/lib/python3.8/multiprocessing/process.py\", line 315, in _bootstrap\n",
      "    self.run()\n",
      "  File \"/Users/oslikdau/miniforge3/envs/time-series/lib/python3.8/multiprocessing/process.py\", line 108, in run\n",
      "    self._target(*self._args, **self._kwargs)\n",
      "  File \"/Users/oslikdau/miniforge3/envs/time-series/lib/python3.8/multiprocessing/pool.py\", line 125, in worker\n",
      "    result = (True, func(*args, **kwds))\n",
      "  File \"/Users/oslikdau/miniforge3/envs/time-series/lib/python3.8/site-packages/tsfresh/utilities/distribution.py\", line 43, in _function_with_partly_reduce\n",
      "    results = list(itertools.chain.from_iterable(results))\n",
      "  File \"/Users/oslikdau/miniforge3/envs/time-series/lib/python3.8/site-packages/tsfresh/utilities/distribution.py\", line 42, in <genexpr>\n",
      "    results = (map_function(chunk, **kwargs) for chunk in chunk_list)\n",
      "  File \"/Users/oslikdau/miniforge3/envs/time-series/lib/python3.8/site-packages/tsfresh/feature_extraction/extraction.py\", line 328, in _do_extraction_on_chunk\n",
      "    return list(_f())\n",
      "  File \"/Users/oslikdau/miniforge3/envs/time-series/lib/python3.8/site-packages/tsfresh/feature_extraction/extraction.py\", line 314, in _f\n",
      "    result = func(x, param=parameter_list)\n",
      "  File \"/Users/oslikdau/miniforge3/envs/time-series/lib/python3.8/site-packages/tsfresh/feature_extraction/feature_calculators.py\", line 1968, in friedrich_coefficients\n",
      "    calculated[m][r] = _estimate_friedrich_coefficients(x, m, r)\n",
      "  File \"/Users/oslikdau/miniforge3/envs/time-series/lib/python3.8/site-packages/tsfresh/feature_extraction/feature_calculators.py\", line 150, in _estimate_friedrich_coefficients\n",
      "    quantiles = df.groupby('quantiles')\n",
      "  File \"/Users/oslikdau/miniforge3/envs/time-series/lib/python3.8/site-packages/pandas/core/frame.py\", line 7714, in groupby\n",
      "    return DataFrameGroupBy(\n",
      "  File \"/Users/oslikdau/miniforge3/envs/time-series/lib/python3.8/site-packages/pandas/core/groupby/groupby.py\", line 882, in __init__\n",
      "    grouper, exclusions, obj = get_grouper(\n",
      "  File \"/Users/oslikdau/miniforge3/envs/time-series/lib/python3.8/site-packages/pandas/core/groupby/grouper.py\", line 873, in get_grouper\n",
      "    in_axis, name, gpr = True, gpr, obj[gpr]\n",
      "  File \"/Users/oslikdau/miniforge3/envs/time-series/lib/python3.8/site-packages/pandas/core/frame.py\", line 3475, in __getitem__\n",
      "    return self._get_item_cache(key)\n",
      "KeyboardInterrupt\n",
      "Process SpawnPoolWorker-8:\n",
      "Traceback (most recent call last):\n",
      "  File \"/Users/oslikdau/miniforge3/envs/time-series/lib/python3.8/multiprocessing/process.py\", line 315, in _bootstrap\n",
      "    self.run()\n",
      "  File \"/Users/oslikdau/miniforge3/envs/time-series/lib/python3.8/multiprocessing/process.py\", line 108, in run\n",
      "    self._target(*self._args, **self._kwargs)\n",
      "  File \"/Users/oslikdau/miniforge3/envs/time-series/lib/python3.8/multiprocessing/pool.py\", line 125, in worker\n",
      "    result = (True, func(*args, **kwds))\n",
      "  File \"/Users/oslikdau/miniforge3/envs/time-series/lib/python3.8/site-packages/tsfresh/utilities/distribution.py\", line 43, in _function_with_partly_reduce\n",
      "    results = list(itertools.chain.from_iterable(results))\n",
      "  File \"/Users/oslikdau/miniforge3/envs/time-series/lib/python3.8/site-packages/tsfresh/utilities/distribution.py\", line 42, in <genexpr>\n",
      "    results = (map_function(chunk, **kwargs) for chunk in chunk_list)\n",
      "  File \"/Users/oslikdau/miniforge3/envs/time-series/lib/python3.8/site-packages/tsfresh/feature_extraction/extraction.py\", line 328, in _do_extraction_on_chunk\n",
      "    return list(_f())\n",
      "  File \"/Users/oslikdau/miniforge3/envs/time-series/lib/python3.8/site-packages/tsfresh/feature_extraction/extraction.py\", line 322, in _f\n",
      "    for key, item in result:\n",
      "  File \"/Users/oslikdau/miniforge3/envs/time-series/lib/python3.8/site-packages/tsfresh/feature_extraction/extraction.py\", line 317, in <genexpr>\n",
      "    result = ((convert_to_output_format(param), func(x, **param)) for param in\n",
      "  File \"/Users/oslikdau/miniforge3/envs/time-series/lib/python3.8/site-packages/tsfresh/feature_extraction/feature_calculators.py\", line 270, in large_standard_deviation\n",
      "    return np.std(x) > (r * (np.max(x) - np.min(x)))\n",
      "  File \"<__array_function__ internals>\", line 180, in std\n",
      "  File \"/Users/oslikdau/miniforge3/envs/time-series/lib/python3.8/site-packages/numpy/core/fromnumeric.py\", line 3615, in std\n",
      "    return _methods._std(a, axis=axis, dtype=dtype, out=out, ddof=ddof,\n",
      "  File \"/Users/oslikdau/miniforge3/envs/time-series/lib/python3.8/site-packages/numpy/core/_methods.py\", line 264, in _std\n",
      "    ret = _var(a, axis=axis, dtype=dtype, out=out, ddof=ddof,\n",
      "  File \"/Users/oslikdau/miniforge3/envs/time-series/lib/python3.8/site-packages/numpy/core/_methods.py\", line 199, in _var\n",
      "    rcount = _count_reduce_items(arr, axis, keepdims=keepdims, where=where)\n",
      "  File \"/Users/oslikdau/miniforge3/envs/time-series/lib/python3.8/site-packages/numpy/core/_methods.py\", line 76, in _count_reduce_items\n",
      "    items *= arr.shape[mu.normalize_axis_index(ax, arr.ndim)]\n",
      "KeyboardInterrupt\n",
      "Process SpawnPoolWorker-5:\n",
      "Traceback (most recent call last):\n",
      "  File \"/Users/oslikdau/miniforge3/envs/time-series/lib/python3.8/multiprocessing/process.py\", line 315, in _bootstrap\n",
      "    self.run()\n",
      "  File \"/Users/oslikdau/miniforge3/envs/time-series/lib/python3.8/multiprocessing/process.py\", line 108, in run\n",
      "    self._target(*self._args, **self._kwargs)\n",
      "  File \"/Users/oslikdau/miniforge3/envs/time-series/lib/python3.8/multiprocessing/pool.py\", line 125, in worker\n",
      "    result = (True, func(*args, **kwds))\n",
      "  File \"/Users/oslikdau/miniforge3/envs/time-series/lib/python3.8/site-packages/tsfresh/utilities/distribution.py\", line 43, in _function_with_partly_reduce\n",
      "    results = list(itertools.chain.from_iterable(results))\n",
      "  File \"/Users/oslikdau/miniforge3/envs/time-series/lib/python3.8/site-packages/tsfresh/utilities/distribution.py\", line 42, in <genexpr>\n",
      "    results = (map_function(chunk, **kwargs) for chunk in chunk_list)\n",
      "  File \"/Users/oslikdau/miniforge3/envs/time-series/lib/python3.8/site-packages/tsfresh/feature_extraction/extraction.py\", line 328, in _do_extraction_on_chunk\n",
      "    return list(_f())\n",
      "  File \"/Users/oslikdau/miniforge3/envs/time-series/lib/python3.8/site-packages/tsfresh/feature_extraction/extraction.py\", line 322, in _f\n",
      "    for key, item in result:\n",
      "  File \"/Users/oslikdau/miniforge3/envs/time-series/lib/python3.8/site-packages/tsfresh/feature_extraction/extraction.py\", line 317, in <genexpr>\n",
      "    result = ((convert_to_output_format(param), func(x, **param)) for param in\n",
      "  File \"/Users/oslikdau/miniforge3/envs/time-series/lib/python3.8/site-packages/tsfresh/feature_extraction/feature_calculators.py\", line 2004, in max_langevin_fixed_point\n",
      "    coeff = _estimate_friedrich_coefficients(x, m, r)\n",
      "  File \"/Users/oslikdau/miniforge3/envs/time-series/lib/python3.8/site-packages/tsfresh/feature_extraction/feature_calculators.py\", line 146, in _estimate_friedrich_coefficients\n",
      "    df['quantiles'] = pd.qcut(df.signal, r)\n",
      "  File \"/Users/oslikdau/miniforge3/envs/time-series/lib/python3.8/site-packages/pandas/core/generic.py\", line 5582, in __getattr__\n",
      "    return self[name]\n",
      "  File \"/Users/oslikdau/miniforge3/envs/time-series/lib/python3.8/site-packages/pandas/core/frame.py\", line 3475, in __getitem__\n",
      "    return self._get_item_cache(key)\n",
      "  File \"/Users/oslikdau/miniforge3/envs/time-series/lib/python3.8/site-packages/pandas/core/frame.py\", line 3939, in _get_item_cache\n",
      "    loc = self.columns.get_loc(item)\n",
      "  File \"/Users/oslikdau/miniforge3/envs/time-series/lib/python3.8/site-packages/pandas/core/indexes/base.py\", line 3619, in get_loc\n",
      "    casted_key = self._maybe_cast_indexer(key)\n",
      "  File \"/Users/oslikdau/miniforge3/envs/time-series/lib/python3.8/site-packages/pandas/core/indexes/base.py\", line 6289, in _maybe_cast_indexer\n",
      "    if not self.is_floating():\n",
      "  File \"/Users/oslikdau/miniforge3/envs/time-series/lib/python3.8/site-packages/pandas/core/indexes/base.py\", line 2386, in is_floating\n",
      "    return self.inferred_type in [\"floating\", \"mixed-integer-float\", \"integer-na\"]\n",
      "  File \"pandas/_libs/properties.pyx\", line 37, in pandas._libs.properties.CachedProperty.__get__\n",
      "  File \"/Users/oslikdau/miniforge3/envs/time-series/lib/python3.8/site-packages/pandas/core/indexes/base.py\", line 2601, in inferred_type\n",
      "    return lib.infer_dtype(self._values, skipna=False)\n",
      "  File \"pandas/_libs/lib.pyx\", line 1450, in pandas._libs.lib.infer_dtype\n",
      "  File \"pandas/_libs/lib.pyx\", line 1308, in pandas._libs.lib._try_infer_map\n",
      "  File \"/Users/oslikdau/miniforge3/envs/time-series/lib/python3.8/site-packages/numpy/core/_dtype.py\", line 339, in _name_get\n",
      "    name = _kind_name(dtype)\n",
      "  File \"/Users/oslikdau/miniforge3/envs/time-series/lib/python3.8/site-packages/numpy/core/_dtype.py\", line 26, in _kind_name\n",
      "    return _kind_to_stem[dtype.kind]\n",
      "KeyboardInterrupt\n"
     ]
    },
    {
     "ename": "KeyboardInterrupt",
     "evalue": "",
     "output_type": "error",
     "traceback": [
      "\u001b[0;31m---------------------------------------------------------------------------\u001b[0m",
      "\u001b[0;31mIndexError\u001b[0m                                Traceback (most recent call last)",
      "\u001b[0;32m~/miniforge3/envs/time-series/lib/python3.8/multiprocessing/pool.py\u001b[0m in \u001b[0;36mnext\u001b[0;34m(self, timeout)\u001b[0m\n\u001b[1;32m    850\u001b[0m             \u001b[0;32mtry\u001b[0m\u001b[0;34m:\u001b[0m\u001b[0;34m\u001b[0m\u001b[0;34m\u001b[0m\u001b[0m\n\u001b[0;32m--> 851\u001b[0;31m                 \u001b[0mitem\u001b[0m \u001b[0;34m=\u001b[0m \u001b[0mself\u001b[0m\u001b[0;34m.\u001b[0m\u001b[0m_items\u001b[0m\u001b[0;34m.\u001b[0m\u001b[0mpopleft\u001b[0m\u001b[0;34m(\u001b[0m\u001b[0;34m)\u001b[0m\u001b[0;34m\u001b[0m\u001b[0;34m\u001b[0m\u001b[0m\n\u001b[0m\u001b[1;32m    852\u001b[0m             \u001b[0;32mexcept\u001b[0m \u001b[0mIndexError\u001b[0m\u001b[0;34m:\u001b[0m\u001b[0;34m\u001b[0m\u001b[0;34m\u001b[0m\u001b[0m\n",
      "\u001b[0;31mIndexError\u001b[0m: pop from an empty deque",
      "\nDuring handling of the above exception, another exception occurred:\n",
      "\u001b[0;31mKeyboardInterrupt\u001b[0m                         Traceback (most recent call last)",
      "\u001b[0;32m/var/folders/00/jtb7c8xn51902fgjqt4qh5h80000gp/T/ipykernel_23630/1786666023.py\u001b[0m in \u001b[0;36m<module>\u001b[0;34m\u001b[0m\n\u001b[0;32m----> 1\u001b[0;31m X = extract_features(df_rolled.drop([\"Names\", 'Unnamed: 0'], axis=1), \n\u001b[0m\u001b[1;32m      2\u001b[0m                      \u001b[0mcolumn_id\u001b[0m\u001b[0;34m=\u001b[0m\u001b[0;34m\"id\"\u001b[0m\u001b[0;34m,\u001b[0m \u001b[0mcolumn_sort\u001b[0m\u001b[0;34m=\u001b[0m\u001b[0;34m\"Date\"\u001b[0m\u001b[0;34m,\u001b[0m \u001b[0mcolumn_value\u001b[0m\u001b[0;34m=\u001b[0m\u001b[0;34m\"close_dif\"\u001b[0m\u001b[0;34m,\u001b[0m\u001b[0;34m\u001b[0m\u001b[0;34m\u001b[0m\u001b[0m\n\u001b[1;32m      3\u001b[0m                      impute_function=impute, show_warnings=False)\n",
      "\u001b[0;32m~/miniforge3/envs/time-series/lib/python3.8/site-packages/tsfresh/feature_extraction/extraction.py\u001b[0m in \u001b[0;36mextract_features\u001b[0;34m(timeseries_container, default_fc_parameters, kind_to_fc_parameters, column_id, column_sort, column_kind, column_value, chunksize, n_jobs, show_warnings, disable_progressbar, impute_function, profile, profiling_filename, profiling_sorting, distributor, pivot)\u001b[0m\n\u001b[1;32m    149\u001b[0m             \u001b[0mwarnings\u001b[0m\u001b[0;34m.\u001b[0m\u001b[0msimplefilter\u001b[0m\u001b[0;34m(\u001b[0m\u001b[0;34m\"default\"\u001b[0m\u001b[0;34m)\u001b[0m\u001b[0;34m\u001b[0m\u001b[0;34m\u001b[0m\u001b[0m\n\u001b[1;32m    150\u001b[0m \u001b[0;34m\u001b[0m\u001b[0m\n\u001b[0;32m--> 151\u001b[0;31m         result = _do_extraction(df=timeseries_container,\n\u001b[0m\u001b[1;32m    152\u001b[0m                                 \u001b[0mcolumn_id\u001b[0m\u001b[0;34m=\u001b[0m\u001b[0mcolumn_id\u001b[0m\u001b[0;34m,\u001b[0m \u001b[0mcolumn_value\u001b[0m\u001b[0;34m=\u001b[0m\u001b[0mcolumn_value\u001b[0m\u001b[0;34m,\u001b[0m\u001b[0;34m\u001b[0m\u001b[0;34m\u001b[0m\u001b[0m\n\u001b[1;32m    153\u001b[0m                                 \u001b[0mcolumn_kind\u001b[0m\u001b[0;34m=\u001b[0m\u001b[0mcolumn_kind\u001b[0m\u001b[0;34m,\u001b[0m\u001b[0;34m\u001b[0m\u001b[0;34m\u001b[0m\u001b[0m\n",
      "\u001b[0;32m~/miniforge3/envs/time-series/lib/python3.8/site-packages/tsfresh/feature_extraction/extraction.py\u001b[0m in \u001b[0;36m_do_extraction\u001b[0;34m(df, column_id, column_value, column_kind, column_sort, default_fc_parameters, kind_to_fc_parameters, n_jobs, chunk_size, disable_progressbar, show_warnings, distributor, pivot)\u001b[0m\n\u001b[1;32m    251\u001b[0m                   kind_to_fc_parameters=kind_to_fc_parameters)\n\u001b[1;32m    252\u001b[0m \u001b[0;34m\u001b[0m\u001b[0m\n\u001b[0;32m--> 253\u001b[0;31m     result = distributor.map_reduce(_do_extraction_on_chunk, data=data,\n\u001b[0m\u001b[1;32m    254\u001b[0m                                     \u001b[0mchunk_size\u001b[0m\u001b[0;34m=\u001b[0m\u001b[0mchunk_size\u001b[0m\u001b[0;34m,\u001b[0m\u001b[0;34m\u001b[0m\u001b[0;34m\u001b[0m\u001b[0m\n\u001b[1;32m    255\u001b[0m                                     function_kwargs=kwargs)\n",
      "\u001b[0;32m~/miniforge3/envs/time-series/lib/python3.8/site-packages/tsfresh/utilities/distribution.py\u001b[0m in \u001b[0;36mmap_reduce\u001b[0;34m(self, map_function, data, function_kwargs, chunk_size, data_length)\u001b[0m\n\u001b[1;32m    211\u001b[0m             \u001b[0mresult\u001b[0m \u001b[0;34m=\u001b[0m \u001b[0mself\u001b[0m\u001b[0;34m.\u001b[0m\u001b[0mdistribute\u001b[0m\u001b[0;34m(\u001b[0m\u001b[0m_function_with_partly_reduce\u001b[0m\u001b[0;34m,\u001b[0m \u001b[0mchunk_generator\u001b[0m\u001b[0;34m,\u001b[0m \u001b[0mmap_kwargs\u001b[0m\u001b[0;34m)\u001b[0m\u001b[0;34m,\u001b[0m\u001b[0;34m\u001b[0m\u001b[0;34m\u001b[0m\u001b[0m\n\u001b[1;32m    212\u001b[0m \u001b[0;34m\u001b[0m\u001b[0m\n\u001b[0;32m--> 213\u001b[0;31m         \u001b[0mresult\u001b[0m \u001b[0;34m=\u001b[0m \u001b[0mlist\u001b[0m\u001b[0;34m(\u001b[0m\u001b[0mitertools\u001b[0m\u001b[0;34m.\u001b[0m\u001b[0mchain\u001b[0m\u001b[0;34m.\u001b[0m\u001b[0mfrom_iterable\u001b[0m\u001b[0;34m(\u001b[0m\u001b[0mresult\u001b[0m\u001b[0;34m)\u001b[0m\u001b[0;34m)\u001b[0m\u001b[0;34m\u001b[0m\u001b[0;34m\u001b[0m\u001b[0m\n\u001b[0m\u001b[1;32m    214\u001b[0m \u001b[0;34m\u001b[0m\u001b[0m\n\u001b[1;32m    215\u001b[0m         \u001b[0mself\u001b[0m\u001b[0;34m.\u001b[0m\u001b[0mclose\u001b[0m\u001b[0;34m(\u001b[0m\u001b[0;34m)\u001b[0m\u001b[0;34m\u001b[0m\u001b[0;34m\u001b[0m\u001b[0m\n",
      "\u001b[0;32m~/miniforge3/envs/time-series/lib/python3.8/site-packages/tqdm/std.py\u001b[0m in \u001b[0;36m__iter__\u001b[0;34m(self)\u001b[0m\n\u001b[1;32m   1163\u001b[0m \u001b[0;34m\u001b[0m\u001b[0m\n\u001b[1;32m   1164\u001b[0m         \u001b[0;32mtry\u001b[0m\u001b[0;34m:\u001b[0m\u001b[0;34m\u001b[0m\u001b[0;34m\u001b[0m\u001b[0m\n\u001b[0;32m-> 1165\u001b[0;31m             \u001b[0;32mfor\u001b[0m \u001b[0mobj\u001b[0m \u001b[0;32min\u001b[0m \u001b[0miterable\u001b[0m\u001b[0;34m:\u001b[0m\u001b[0;34m\u001b[0m\u001b[0;34m\u001b[0m\u001b[0m\n\u001b[0m\u001b[1;32m   1166\u001b[0m                 \u001b[0;32myield\u001b[0m \u001b[0mobj\u001b[0m\u001b[0;34m\u001b[0m\u001b[0;34m\u001b[0m\u001b[0m\n\u001b[1;32m   1167\u001b[0m                 \u001b[0;31m# Update and possibly print the progressbar.\u001b[0m\u001b[0;34m\u001b[0m\u001b[0;34m\u001b[0m\u001b[0;34m\u001b[0m\u001b[0m\n",
      "\u001b[0;32m~/miniforge3/envs/time-series/lib/python3.8/multiprocessing/pool.py\u001b[0m in \u001b[0;36mnext\u001b[0;34m(self, timeout)\u001b[0m\n\u001b[1;32m    854\u001b[0m                     \u001b[0mself\u001b[0m\u001b[0;34m.\u001b[0m\u001b[0m_pool\u001b[0m \u001b[0;34m=\u001b[0m \u001b[0;32mNone\u001b[0m\u001b[0;34m\u001b[0m\u001b[0;34m\u001b[0m\u001b[0m\n\u001b[1;32m    855\u001b[0m                     \u001b[0;32mraise\u001b[0m \u001b[0mStopIteration\u001b[0m \u001b[0;32mfrom\u001b[0m \u001b[0;32mNone\u001b[0m\u001b[0;34m\u001b[0m\u001b[0;34m\u001b[0m\u001b[0m\n\u001b[0;32m--> 856\u001b[0;31m                 \u001b[0mself\u001b[0m\u001b[0;34m.\u001b[0m\u001b[0m_cond\u001b[0m\u001b[0;34m.\u001b[0m\u001b[0mwait\u001b[0m\u001b[0;34m(\u001b[0m\u001b[0mtimeout\u001b[0m\u001b[0;34m)\u001b[0m\u001b[0;34m\u001b[0m\u001b[0;34m\u001b[0m\u001b[0m\n\u001b[0m\u001b[1;32m    857\u001b[0m                 \u001b[0;32mtry\u001b[0m\u001b[0;34m:\u001b[0m\u001b[0;34m\u001b[0m\u001b[0;34m\u001b[0m\u001b[0m\n\u001b[1;32m    858\u001b[0m                     \u001b[0mitem\u001b[0m \u001b[0;34m=\u001b[0m \u001b[0mself\u001b[0m\u001b[0;34m.\u001b[0m\u001b[0m_items\u001b[0m\u001b[0;34m.\u001b[0m\u001b[0mpopleft\u001b[0m\u001b[0;34m(\u001b[0m\u001b[0;34m)\u001b[0m\u001b[0;34m\u001b[0m\u001b[0;34m\u001b[0m\u001b[0m\n",
      "\u001b[0;32m~/miniforge3/envs/time-series/lib/python3.8/threading.py\u001b[0m in \u001b[0;36mwait\u001b[0;34m(self, timeout)\u001b[0m\n\u001b[1;32m    300\u001b[0m         \u001b[0;32mtry\u001b[0m\u001b[0;34m:\u001b[0m    \u001b[0;31m# restore state no matter what (e.g., KeyboardInterrupt)\u001b[0m\u001b[0;34m\u001b[0m\u001b[0;34m\u001b[0m\u001b[0m\n\u001b[1;32m    301\u001b[0m             \u001b[0;32mif\u001b[0m \u001b[0mtimeout\u001b[0m \u001b[0;32mis\u001b[0m \u001b[0;32mNone\u001b[0m\u001b[0;34m:\u001b[0m\u001b[0;34m\u001b[0m\u001b[0;34m\u001b[0m\u001b[0m\n\u001b[0;32m--> 302\u001b[0;31m                 \u001b[0mwaiter\u001b[0m\u001b[0;34m.\u001b[0m\u001b[0macquire\u001b[0m\u001b[0;34m(\u001b[0m\u001b[0;34m)\u001b[0m\u001b[0;34m\u001b[0m\u001b[0;34m\u001b[0m\u001b[0m\n\u001b[0m\u001b[1;32m    303\u001b[0m                 \u001b[0mgotit\u001b[0m \u001b[0;34m=\u001b[0m \u001b[0;32mTrue\u001b[0m\u001b[0;34m\u001b[0m\u001b[0;34m\u001b[0m\u001b[0m\n\u001b[1;32m    304\u001b[0m             \u001b[0;32melse\u001b[0m\u001b[0;34m:\u001b[0m\u001b[0;34m\u001b[0m\u001b[0;34m\u001b[0m\u001b[0m\n",
      "\u001b[0;31mKeyboardInterrupt\u001b[0m: "
     ]
    },
    {
     "name": "stderr",
     "output_type": "stream",
     "text": [
      "/Users/oslikdau/miniforge3/envs/time-series/lib/python3.8/site-packages/statsmodels/tools/_testing.py:19: FutureWarning: pandas.util.testing is deprecated. Use the functions in the public API at pandas.testing instead.\n",
      "  import pandas.util.testing as tm\n",
      "/Users/oslikdau/miniforge3/envs/time-series/lib/python3.8/site-packages/statsmodels/tools/_testing.py:19: FutureWarning: pandas.util.testing is deprecated. Use the functions in the public API at pandas.testing instead.\n",
      "  import pandas.util.testing as tm\n",
      "/Users/oslikdau/miniforge3/envs/time-series/lib/python3.8/site-packages/statsmodels/tools/_testing.py:19: FutureWarning: pandas.util.testing is deprecated. Use the functions in the public API at pandas.testing instead.\n",
      "  import pandas.util.testing as tm\n",
      "/Users/oslikdau/miniforge3/envs/time-series/lib/python3.8/site-packages/statsmodels/tools/_testing.py:19: FutureWarning: pandas.util.testing is deprecated. Use the functions in the public API at pandas.testing instead.\n",
      "  import pandas.util.testing as tm\n",
      "/Users/oslikdau/miniforge3/envs/time-series/lib/python3.8/site-packages/statsmodels/tsa/base/tsa_model.py:8: FutureWarning: pandas.Int64Index is deprecated and will be removed from pandas in a future version. Use pandas.Index with the appropriate dtype instead.\n",
      "  from pandas import (to_datetime, Int64Index, DatetimeIndex, Period,\n",
      "/Users/oslikdau/miniforge3/envs/time-series/lib/python3.8/site-packages/statsmodels/tsa/base/tsa_model.py:8: FutureWarning: pandas.Int64Index is deprecated and will be removed from pandas in a future version. Use pandas.Index with the appropriate dtype instead.\n",
      "  from pandas import (to_datetime, Int64Index, DatetimeIndex, Period,\n",
      "/Users/oslikdau/miniforge3/envs/time-series/lib/python3.8/site-packages/statsmodels/tsa/base/tsa_model.py:8: FutureWarning: pandas.Int64Index is deprecated and will be removed from pandas in a future version. Use pandas.Index with the appropriate dtype instead.\n",
      "  from pandas import (to_datetime, Int64Index, DatetimeIndex, Period,\n",
      "/Users/oslikdau/miniforge3/envs/time-series/lib/python3.8/site-packages/statsmodels/tsa/base/tsa_model.py:8: FutureWarning: pandas.Float64Index is deprecated and will be removed from pandas in a future version. Use pandas.Index with the appropriate dtype instead.\n",
      "  from pandas import (to_datetime, Int64Index, DatetimeIndex, Period,\n",
      "/Users/oslikdau/miniforge3/envs/time-series/lib/python3.8/site-packages/statsmodels/tsa/base/tsa_model.py:8: FutureWarning: pandas.Float64Index is deprecated and will be removed from pandas in a future version. Use pandas.Index with the appropriate dtype instead.\n",
      "  from pandas import (to_datetime, Int64Index, DatetimeIndex, Period,\n",
      "/Users/oslikdau/miniforge3/envs/time-series/lib/python3.8/site-packages/statsmodels/tsa/base/tsa_model.py:8: FutureWarning: pandas.Int64Index is deprecated and will be removed from pandas in a future version. Use pandas.Index with the appropriate dtype instead.\n",
      "  from pandas import (to_datetime, Int64Index, DatetimeIndex, Period,\n",
      "/Users/oslikdau/miniforge3/envs/time-series/lib/python3.8/site-packages/statsmodels/tsa/base/tsa_model.py:8: FutureWarning: pandas.Float64Index is deprecated and will be removed from pandas in a future version. Use pandas.Index with the appropriate dtype instead.\n",
      "  from pandas import (to_datetime, Int64Index, DatetimeIndex, Period,\n",
      "/Users/oslikdau/miniforge3/envs/time-series/lib/python3.8/site-packages/statsmodels/tsa/base/tsa_model.py:8: FutureWarning: pandas.Float64Index is deprecated and will be removed from pandas in a future version. Use pandas.Index with the appropriate dtype instead.\n",
      "  from pandas import (to_datetime, Int64Index, DatetimeIndex, Period,\n",
      "/Users/oslikdau/miniforge3/envs/time-series/lib/python3.8/site-packages/dask/dataframe/utils.py:366: FutureWarning: pandas.Int64Index is deprecated and will be removed from pandas in a future version. Use pandas.Index with the appropriate dtype instead.\n",
      "  _numeric_index_types = (pd.Int64Index, pd.Float64Index, pd.UInt64Index)\n",
      "/Users/oslikdau/miniforge3/envs/time-series/lib/python3.8/site-packages/dask/dataframe/utils.py:366: FutureWarning: pandas.Int64Index is deprecated and will be removed from pandas in a future version. Use pandas.Index with the appropriate dtype instead.\n",
      "  _numeric_index_types = (pd.Int64Index, pd.Float64Index, pd.UInt64Index)\n",
      "/Users/oslikdau/miniforge3/envs/time-series/lib/python3.8/site-packages/dask/dataframe/utils.py:366: FutureWarning: pandas.Int64Index is deprecated and will be removed from pandas in a future version. Use pandas.Index with the appropriate dtype instead.\n",
      "  _numeric_index_types = (pd.Int64Index, pd.Float64Index, pd.UInt64Index)\n",
      "/Users/oslikdau/miniforge3/envs/time-series/lib/python3.8/site-packages/dask/dataframe/utils.py:366: FutureWarning: pandas.Float64Index is deprecated and will be removed from pandas in a future version. Use pandas.Index with the appropriate dtype instead.\n",
      "  _numeric_index_types = (pd.Int64Index, pd.Float64Index, pd.UInt64Index)\n",
      "/Users/oslikdau/miniforge3/envs/time-series/lib/python3.8/site-packages/dask/dataframe/utils.py:366: FutureWarning: pandas.Float64Index is deprecated and will be removed from pandas in a future version. Use pandas.Index with the appropriate dtype instead.\n",
      "  _numeric_index_types = (pd.Int64Index, pd.Float64Index, pd.UInt64Index)\n",
      "/Users/oslikdau/miniforge3/envs/time-series/lib/python3.8/site-packages/dask/dataframe/utils.py:366: FutureWarning: pandas.UInt64Index is deprecated and will be removed from pandas in a future version. Use pandas.Index with the appropriate dtype instead.\n",
      "  _numeric_index_types = (pd.Int64Index, pd.Float64Index, pd.UInt64Index)\n",
      "/Users/oslikdau/miniforge3/envs/time-series/lib/python3.8/site-packages/dask/dataframe/utils.py:366: FutureWarning: pandas.UInt64Index is deprecated and will be removed from pandas in a future version. Use pandas.Index with the appropriate dtype instead.\n",
      "  _numeric_index_types = (pd.Int64Index, pd.Float64Index, pd.UInt64Index)\n",
      "/Users/oslikdau/miniforge3/envs/time-series/lib/python3.8/site-packages/dask/dataframe/utils.py:366: FutureWarning: pandas.Float64Index is deprecated and will be removed from pandas in a future version. Use pandas.Index with the appropriate dtype instead.\n",
      "  _numeric_index_types = (pd.Int64Index, pd.Float64Index, pd.UInt64Index)\n",
      "/Users/oslikdau/miniforge3/envs/time-series/lib/python3.8/site-packages/dask/dataframe/utils.py:366: FutureWarning: pandas.UInt64Index is deprecated and will be removed from pandas in a future version. Use pandas.Index with the appropriate dtype instead.\n",
      "  _numeric_index_types = (pd.Int64Index, pd.Float64Index, pd.UInt64Index)\n",
      "/Users/oslikdau/miniforge3/envs/time-series/lib/python3.8/site-packages/dask/dataframe/utils.py:366: FutureWarning: pandas.Int64Index is deprecated and will be removed from pandas in a future version. Use pandas.Index with the appropriate dtype instead.\n",
      "  _numeric_index_types = (pd.Int64Index, pd.Float64Index, pd.UInt64Index)\n",
      "/Users/oslikdau/miniforge3/envs/time-series/lib/python3.8/site-packages/dask/dataframe/utils.py:366: FutureWarning: pandas.Float64Index is deprecated and will be removed from pandas in a future version. Use pandas.Index with the appropriate dtype instead.\n",
      "  _numeric_index_types = (pd.Int64Index, pd.Float64Index, pd.UInt64Index)\n",
      "/Users/oslikdau/miniforge3/envs/time-series/lib/python3.8/site-packages/dask/dataframe/utils.py:366: FutureWarning: pandas.UInt64Index is deprecated and will be removed from pandas in a future version. Use pandas.Index with the appropriate dtype instead.\n",
      "  _numeric_index_types = (pd.Int64Index, pd.Float64Index, pd.UInt64Index)\n"
     ]
    }
   ],
   "source": [
    "X = extract_features(df_rolled.drop([\"Names\", 'Unnamed: 0'], axis=1), \n",
    "                     column_id=\"id\", column_sort=\"Date\", column_value=\"close_dif\", \n",
    "                     impute_function=impute, show_warnings=False)"
   ]
  },
  {
   "cell_type": "code",
   "execution_count": null,
   "metadata": {},
   "outputs": [],
   "source": [
    "X.to_csv('X_2019.csv')\n",
    "df_all_2019.to_csv('df_all_2019.csv')"
   ]
  },
  {
   "cell_type": "markdown",
   "metadata": {},
   "source": [
    "## Reading saved X & Y"
   ]
  },
  {
   "cell_type": "code",
   "execution_count": 3,
   "metadata": {},
   "outputs": [],
   "source": [
    "import pandas as pd"
   ]
  },
  {
   "cell_type": "code",
   "execution_count": 12,
   "metadata": {},
   "outputs": [
    {
     "name": "stdout",
     "output_type": "stream",
     "text": [
      "(73145, 779)\n"
     ]
    },
    {
     "data": {
      "text/html": [
       "<div>\n",
       "<style scoped>\n",
       "    .dataframe tbody tr th:only-of-type {\n",
       "        vertical-align: middle;\n",
       "    }\n",
       "\n",
       "    .dataframe tbody tr th {\n",
       "        vertical-align: top;\n",
       "    }\n",
       "\n",
       "    .dataframe thead th {\n",
       "        text-align: right;\n",
       "    }\n",
       "</style>\n",
       "<table border=\"1\" class=\"dataframe\">\n",
       "  <thead>\n",
       "    <tr style=\"text-align: right;\">\n",
       "      <th></th>\n",
       "      <th></th>\n",
       "      <th>close_dif__variance_larger_than_standard_deviation</th>\n",
       "      <th>close_dif__has_duplicate_max</th>\n",
       "      <th>close_dif__has_duplicate_min</th>\n",
       "      <th>close_dif__has_duplicate</th>\n",
       "      <th>close_dif__sum_values</th>\n",
       "      <th>close_dif__abs_energy</th>\n",
       "      <th>close_dif__mean_abs_change</th>\n",
       "      <th>close_dif__mean_change</th>\n",
       "      <th>close_dif__mean_second_derivative_central</th>\n",
       "      <th>close_dif__median</th>\n",
       "      <th>...</th>\n",
       "      <th>close_dif__fourier_entropy__bins_2</th>\n",
       "      <th>close_dif__fourier_entropy__bins_3</th>\n",
       "      <th>close_dif__fourier_entropy__bins_5</th>\n",
       "      <th>close_dif__fourier_entropy__bins_10</th>\n",
       "      <th>close_dif__fourier_entropy__bins_100</th>\n",
       "      <th>close_dif__permutation_entropy__dimension_3__tau_1</th>\n",
       "      <th>close_dif__permutation_entropy__dimension_4__tau_1</th>\n",
       "      <th>close_dif__permutation_entropy__dimension_5__tau_1</th>\n",
       "      <th>close_dif__permutation_entropy__dimension_6__tau_1</th>\n",
       "      <th>close_dif__permutation_entropy__dimension_7__tau_1</th>\n",
       "    </tr>\n",
       "  </thead>\n",
       "  <tbody>\n",
       "    <tr>\n",
       "      <th rowspan=\"3\" valign=\"top\">AAPL</th>\n",
       "      <th>2019-01-31</th>\n",
       "      <td>0.0</td>\n",
       "      <td>0.0</td>\n",
       "      <td>0.0</td>\n",
       "      <td>0.0</td>\n",
       "      <td>0.063889</td>\n",
       "      <td>0.019972</td>\n",
       "      <td>0.034253</td>\n",
       "      <td>0.000303</td>\n",
       "      <td>0.001043</td>\n",
       "      <td>0.004044</td>\n",
       "      <td>...</td>\n",
       "      <td>0.585953</td>\n",
       "      <td>0.585953</td>\n",
       "      <td>1.168518</td>\n",
       "      <td>1.540306</td>\n",
       "      <td>2.271869</td>\n",
       "      <td>1.559087</td>\n",
       "      <td>2.505290</td>\n",
       "      <td>2.833213</td>\n",
       "      <td>2.772589</td>\n",
       "      <td>2.70805</td>\n",
       "    </tr>\n",
       "    <tr>\n",
       "      <th>2019-02-01</th>\n",
       "      <td>0.0</td>\n",
       "      <td>0.0</td>\n",
       "      <td>0.0</td>\n",
       "      <td>0.0</td>\n",
       "      <td>0.063229</td>\n",
       "      <td>0.019971</td>\n",
       "      <td>0.029552</td>\n",
       "      <td>0.005004</td>\n",
       "      <td>-0.003922</td>\n",
       "      <td>0.004044</td>\n",
       "      <td>...</td>\n",
       "      <td>0.585953</td>\n",
       "      <td>0.994924</td>\n",
       "      <td>1.414279</td>\n",
       "      <td>1.720193</td>\n",
       "      <td>2.397895</td>\n",
       "      <td>1.535191</td>\n",
       "      <td>2.399204</td>\n",
       "      <td>2.751667</td>\n",
       "      <td>2.772589</td>\n",
       "      <td>2.70805</td>\n",
       "    </tr>\n",
       "    <tr>\n",
       "      <th>2019-02-04</th>\n",
       "      <td>0.0</td>\n",
       "      <td>0.0</td>\n",
       "      <td>0.0</td>\n",
       "      <td>0.0</td>\n",
       "      <td>0.191241</td>\n",
       "      <td>0.010856</td>\n",
       "      <td>0.023833</td>\n",
       "      <td>-0.000714</td>\n",
       "      <td>0.001917</td>\n",
       "      <td>0.005938</td>\n",
       "      <td>...</td>\n",
       "      <td>0.585953</td>\n",
       "      <td>0.916465</td>\n",
       "      <td>1.414279</td>\n",
       "      <td>1.893788</td>\n",
       "      <td>2.145842</td>\n",
       "      <td>1.548489</td>\n",
       "      <td>2.399204</td>\n",
       "      <td>2.751667</td>\n",
       "      <td>2.772589</td>\n",
       "      <td>2.70805</td>\n",
       "    </tr>\n",
       "  </tbody>\n",
       "</table>\n",
       "<p>3 rows × 779 columns</p>\n",
       "</div>"
      ],
      "text/plain": [
       "                 close_dif__variance_larger_than_standard_deviation  \\\n",
       "AAPL 2019-01-31                                                0.0    \n",
       "     2019-02-01                                                0.0    \n",
       "     2019-02-04                                                0.0    \n",
       "\n",
       "                 close_dif__has_duplicate_max  close_dif__has_duplicate_min  \\\n",
       "AAPL 2019-01-31                           0.0                           0.0   \n",
       "     2019-02-01                           0.0                           0.0   \n",
       "     2019-02-04                           0.0                           0.0   \n",
       "\n",
       "                 close_dif__has_duplicate  close_dif__sum_values  \\\n",
       "AAPL 2019-01-31                       0.0               0.063889   \n",
       "     2019-02-01                       0.0               0.063229   \n",
       "     2019-02-04                       0.0               0.191241   \n",
       "\n",
       "                 close_dif__abs_energy  close_dif__mean_abs_change  \\\n",
       "AAPL 2019-01-31               0.019972                    0.034253   \n",
       "     2019-02-01               0.019971                    0.029552   \n",
       "     2019-02-04               0.010856                    0.023833   \n",
       "\n",
       "                 close_dif__mean_change  \\\n",
       "AAPL 2019-01-31                0.000303   \n",
       "     2019-02-01                0.005004   \n",
       "     2019-02-04               -0.000714   \n",
       "\n",
       "                 close_dif__mean_second_derivative_central  close_dif__median  \\\n",
       "AAPL 2019-01-31                                   0.001043           0.004044   \n",
       "     2019-02-01                                  -0.003922           0.004044   \n",
       "     2019-02-04                                   0.001917           0.005938   \n",
       "\n",
       "                 ...  close_dif__fourier_entropy__bins_2  \\\n",
       "AAPL 2019-01-31  ...                            0.585953   \n",
       "     2019-02-01  ...                            0.585953   \n",
       "     2019-02-04  ...                            0.585953   \n",
       "\n",
       "                 close_dif__fourier_entropy__bins_3  \\\n",
       "AAPL 2019-01-31                            0.585953   \n",
       "     2019-02-01                            0.994924   \n",
       "     2019-02-04                            0.916465   \n",
       "\n",
       "                 close_dif__fourier_entropy__bins_5  \\\n",
       "AAPL 2019-01-31                            1.168518   \n",
       "     2019-02-01                            1.414279   \n",
       "     2019-02-04                            1.414279   \n",
       "\n",
       "                 close_dif__fourier_entropy__bins_10  \\\n",
       "AAPL 2019-01-31                             1.540306   \n",
       "     2019-02-01                             1.720193   \n",
       "     2019-02-04                             1.893788   \n",
       "\n",
       "                 close_dif__fourier_entropy__bins_100  \\\n",
       "AAPL 2019-01-31                              2.271869   \n",
       "     2019-02-01                              2.397895   \n",
       "     2019-02-04                              2.145842   \n",
       "\n",
       "                 close_dif__permutation_entropy__dimension_3__tau_1  \\\n",
       "AAPL 2019-01-31                                           1.559087    \n",
       "     2019-02-01                                           1.535191    \n",
       "     2019-02-04                                           1.548489    \n",
       "\n",
       "                 close_dif__permutation_entropy__dimension_4__tau_1  \\\n",
       "AAPL 2019-01-31                                           2.505290    \n",
       "     2019-02-01                                           2.399204    \n",
       "     2019-02-04                                           2.399204    \n",
       "\n",
       "                 close_dif__permutation_entropy__dimension_5__tau_1  \\\n",
       "AAPL 2019-01-31                                           2.833213    \n",
       "     2019-02-01                                           2.751667    \n",
       "     2019-02-04                                           2.751667    \n",
       "\n",
       "                 close_dif__permutation_entropy__dimension_6__tau_1  \\\n",
       "AAPL 2019-01-31                                           2.772589    \n",
       "     2019-02-01                                           2.772589    \n",
       "     2019-02-04                                           2.772589    \n",
       "\n",
       "                 close_dif__permutation_entropy__dimension_7__tau_1  \n",
       "AAPL 2019-01-31                                            2.70805   \n",
       "     2019-02-01                                            2.70805   \n",
       "     2019-02-04                                            2.70805   \n",
       "\n",
       "[3 rows x 779 columns]"
      ]
     },
     "execution_count": 12,
     "metadata": {},
     "output_type": "execute_result"
    }
   ],
   "source": [
    "X = pd.read_csv('X_2019.csv', index_col=[0,1])\n",
    "print(X.shape)\n",
    "X.head(3)"
   ]
  },
  {
   "cell_type": "code",
   "execution_count": 14,
   "metadata": {},
   "outputs": [
    {
     "name": "stdout",
     "output_type": "stream",
     "text": [
      "(75902, 7)\n"
     ]
    },
    {
     "data": {
      "text/html": [
       "<div>\n",
       "<style scoped>\n",
       "    .dataframe tbody tr th:only-of-type {\n",
       "        vertical-align: middle;\n",
       "    }\n",
       "\n",
       "    .dataframe tbody tr th {\n",
       "        vertical-align: top;\n",
       "    }\n",
       "\n",
       "    .dataframe thead th {\n",
       "        text-align: right;\n",
       "    }\n",
       "</style>\n",
       "<table border=\"1\" class=\"dataframe\">\n",
       "  <thead>\n",
       "    <tr style=\"text-align: right;\">\n",
       "      <th></th>\n",
       "      <th></th>\n",
       "      <th>Open</th>\n",
       "      <th>High</th>\n",
       "      <th>Low</th>\n",
       "      <th>Close</th>\n",
       "      <th>Volume</th>\n",
       "      <th>close_dif</th>\n",
       "      <th>surges</th>\n",
       "    </tr>\n",
       "    <tr>\n",
       "      <th>Names</th>\n",
       "      <th>Date</th>\n",
       "      <th></th>\n",
       "      <th></th>\n",
       "      <th></th>\n",
       "      <th></th>\n",
       "      <th></th>\n",
       "      <th></th>\n",
       "      <th></th>\n",
       "    </tr>\n",
       "  </thead>\n",
       "  <tbody>\n",
       "    <tr>\n",
       "      <th rowspan=\"3\" valign=\"top\">ABNB</th>\n",
       "      <th>2020-12-10</th>\n",
       "      <td>146.000000</td>\n",
       "      <td>165.000000</td>\n",
       "      <td>141.250000</td>\n",
       "      <td>144.710007</td>\n",
       "      <td>70447500.0</td>\n",
       "      <td>NaN</td>\n",
       "      <td>False</td>\n",
       "    </tr>\n",
       "    <tr>\n",
       "      <th>2020-12-11</th>\n",
       "      <td>146.550003</td>\n",
       "      <td>151.500000</td>\n",
       "      <td>135.100006</td>\n",
       "      <td>139.250000</td>\n",
       "      <td>26980800.0</td>\n",
       "      <td>-0.037731</td>\n",
       "      <td>True</td>\n",
       "    </tr>\n",
       "    <tr>\n",
       "      <th>2020-12-14</th>\n",
       "      <td>135.000000</td>\n",
       "      <td>135.300003</td>\n",
       "      <td>125.160004</td>\n",
       "      <td>130.000000</td>\n",
       "      <td>16966100.0</td>\n",
       "      <td>-0.066427</td>\n",
       "      <td>True</td>\n",
       "    </tr>\n",
       "  </tbody>\n",
       "</table>\n",
       "</div>"
      ],
      "text/plain": [
       "                        Open        High         Low       Close      Volume  \\\n",
       "Names Date                                                                     \n",
       "ABNB  2020-12-10  146.000000  165.000000  141.250000  144.710007  70447500.0   \n",
       "      2020-12-11  146.550003  151.500000  135.100006  139.250000  26980800.0   \n",
       "      2020-12-14  135.000000  135.300003  125.160004  130.000000  16966100.0   \n",
       "\n",
       "                  close_dif  surges  \n",
       "Names Date                           \n",
       "ABNB  2020-12-10        NaN   False  \n",
       "      2020-12-11  -0.037731    True  \n",
       "      2020-12-14  -0.066427    True  "
      ]
     },
     "execution_count": 14,
     "metadata": {},
     "output_type": "execute_result"
    }
   ],
   "source": [
    "df_all_2019 = pd.read_csv('df_all_2019.csv', index_col=['Names', 'Date'])\n",
    "df_all_2019.drop(['Unnamed: 0.1','Unnamed: 0'], axis=1, inplace=True)\n",
    "print(df_all_2019.shape)\n",
    "df_all_2019.head(3)"
   ]
  },
  {
   "cell_type": "code",
   "execution_count": 126,
   "metadata": {},
   "outputs": [
    {
     "name": "stderr",
     "output_type": "stream",
     "text": [
      "/var/folders/00/jtb7c8xn51902fgjqt4qh5h80000gp/T/ipykernel_79976/2176757526.py:2: SettingWithCopyWarning: \n",
      "A value is trying to be set on a copy of a slice from a DataFrame\n",
      "\n",
      "See the caveats in the documentation: https://pandas.pydata.org/pandas-docs/stable/user_guide/indexing.html#returning-a-view-versus-a-copy\n",
      "  df_all_2019['surge1'][(df_all_2019['surges'] == True) & (df_all_2019['close_dif']>0)] = 1\n",
      "/var/folders/00/jtb7c8xn51902fgjqt4qh5h80000gp/T/ipykernel_79976/2176757526.py:3: SettingWithCopyWarning: \n",
      "A value is trying to be set on a copy of a slice from a DataFrame\n",
      "\n",
      "See the caveats in the documentation: https://pandas.pydata.org/pandas-docs/stable/user_guide/indexing.html#returning-a-view-versus-a-copy\n",
      "  df_all_2019['surge1'][(df_all_2019['surges'] == True) & (df_all_2019['close_dif']<0)] = -1\n"
     ]
    },
    {
     "data": {
      "text/html": [
       "<div>\n",
       "<style scoped>\n",
       "    .dataframe tbody tr th:only-of-type {\n",
       "        vertical-align: middle;\n",
       "    }\n",
       "\n",
       "    .dataframe tbody tr th {\n",
       "        vertical-align: top;\n",
       "    }\n",
       "\n",
       "    .dataframe thead th {\n",
       "        text-align: right;\n",
       "    }\n",
       "</style>\n",
       "<table border=\"1\" class=\"dataframe\">\n",
       "  <thead>\n",
       "    <tr style=\"text-align: right;\">\n",
       "      <th></th>\n",
       "      <th></th>\n",
       "      <th>Open</th>\n",
       "      <th>High</th>\n",
       "      <th>Low</th>\n",
       "      <th>Close</th>\n",
       "      <th>Volume</th>\n",
       "      <th>close_dif</th>\n",
       "      <th>surges</th>\n",
       "      <th>surge1</th>\n",
       "    </tr>\n",
       "    <tr>\n",
       "      <th>Names</th>\n",
       "      <th>Date</th>\n",
       "      <th></th>\n",
       "      <th></th>\n",
       "      <th></th>\n",
       "      <th></th>\n",
       "      <th></th>\n",
       "      <th></th>\n",
       "      <th></th>\n",
       "      <th></th>\n",
       "    </tr>\n",
       "  </thead>\n",
       "  <tbody>\n",
       "    <tr>\n",
       "      <th rowspan=\"5\" valign=\"top\">AAPL</th>\n",
       "      <th>2019-01-02</th>\n",
       "      <td>37.590927</td>\n",
       "      <td>38.551998</td>\n",
       "      <td>37.430747</td>\n",
       "      <td>38.326290</td>\n",
       "      <td>148158800.0</td>\n",
       "      <td>0.001141</td>\n",
       "      <td>False</td>\n",
       "      <td>0</td>\n",
       "    </tr>\n",
       "    <tr>\n",
       "      <th>2019-01-03</th>\n",
       "      <td>34.943134</td>\n",
       "      <td>35.365424</td>\n",
       "      <td>34.462600</td>\n",
       "      <td>34.508713</td>\n",
       "      <td>365248800.0</td>\n",
       "      <td>-0.099607</td>\n",
       "      <td>True</td>\n",
       "      <td>-1</td>\n",
       "    </tr>\n",
       "    <tr>\n",
       "      <th>2019-01-04</th>\n",
       "      <td>35.076616</td>\n",
       "      <td>36.052248</td>\n",
       "      <td>34.899450</td>\n",
       "      <td>35.981865</td>\n",
       "      <td>234428400.0</td>\n",
       "      <td>0.042689</td>\n",
       "      <td>True</td>\n",
       "      <td>1</td>\n",
       "    </tr>\n",
       "    <tr>\n",
       "      <th>2019-01-07</th>\n",
       "      <td>36.088647</td>\n",
       "      <td>36.120199</td>\n",
       "      <td>35.409102</td>\n",
       "      <td>35.901772</td>\n",
       "      <td>219111200.0</td>\n",
       "      <td>-0.002226</td>\n",
       "      <td>False</td>\n",
       "      <td>0</td>\n",
       "    </tr>\n",
       "    <tr>\n",
       "      <th>2019-01-08</th>\n",
       "      <td>36.297360</td>\n",
       "      <td>36.845851</td>\n",
       "      <td>36.044959</td>\n",
       "      <td>36.586166</td>\n",
       "      <td>164101200.0</td>\n",
       "      <td>0.019063</td>\n",
       "      <td>False</td>\n",
       "      <td>0</td>\n",
       "    </tr>\n",
       "    <tr>\n",
       "      <th>...</th>\n",
       "      <th>...</th>\n",
       "      <td>...</td>\n",
       "      <td>...</td>\n",
       "      <td>...</td>\n",
       "      <td>...</td>\n",
       "      <td>...</td>\n",
       "      <td>...</td>\n",
       "      <td>...</td>\n",
       "      <td>...</td>\n",
       "    </tr>\n",
       "    <tr>\n",
       "      <th rowspan=\"5\" valign=\"top\">ZS -</th>\n",
       "      <th>2022-01-07</th>\n",
       "      <td>258.380005</td>\n",
       "      <td>268.359985</td>\n",
       "      <td>254.350998</td>\n",
       "      <td>261.529999</td>\n",
       "      <td>1695800.0</td>\n",
       "      <td>0.005073</td>\n",
       "      <td>False</td>\n",
       "      <td>0</td>\n",
       "    </tr>\n",
       "    <tr>\n",
       "      <th>2022-01-10</th>\n",
       "      <td>254.500000</td>\n",
       "      <td>276.019989</td>\n",
       "      <td>249.009995</td>\n",
       "      <td>275.649994</td>\n",
       "      <td>4333300.0</td>\n",
       "      <td>0.053990</td>\n",
       "      <td>True</td>\n",
       "      <td>1</td>\n",
       "    </tr>\n",
       "    <tr>\n",
       "      <th>2022-01-11</th>\n",
       "      <td>270.450012</td>\n",
       "      <td>281.369995</td>\n",
       "      <td>267.329987</td>\n",
       "      <td>277.529999</td>\n",
       "      <td>1517900.0</td>\n",
       "      <td>0.006820</td>\n",
       "      <td>False</td>\n",
       "      <td>0</td>\n",
       "    </tr>\n",
       "    <tr>\n",
       "      <th>2022-01-12</th>\n",
       "      <td>283.109985</td>\n",
       "      <td>288.609985</td>\n",
       "      <td>272.880005</td>\n",
       "      <td>273.980011</td>\n",
       "      <td>1881000.0</td>\n",
       "      <td>-0.012791</td>\n",
       "      <td>False</td>\n",
       "      <td>0</td>\n",
       "    </tr>\n",
       "    <tr>\n",
       "      <th>2022-01-13</th>\n",
       "      <td>274.649994</td>\n",
       "      <td>277.269989</td>\n",
       "      <td>250.320007</td>\n",
       "      <td>250.470001</td>\n",
       "      <td>3130400.0</td>\n",
       "      <td>-0.085809</td>\n",
       "      <td>True</td>\n",
       "      <td>-1</td>\n",
       "    </tr>\n",
       "  </tbody>\n",
       "</table>\n",
       "<p>75902 rows × 8 columns</p>\n",
       "</div>"
      ],
      "text/plain": [
       "                        Open        High         Low       Close       Volume  \\\n",
       "Names Date                                                                      \n",
       "AAPL  2019-01-02   37.590927   38.551998   37.430747   38.326290  148158800.0   \n",
       "      2019-01-03   34.943134   35.365424   34.462600   34.508713  365248800.0   \n",
       "      2019-01-04   35.076616   36.052248   34.899450   35.981865  234428400.0   \n",
       "      2019-01-07   36.088647   36.120199   35.409102   35.901772  219111200.0   \n",
       "      2019-01-08   36.297360   36.845851   36.044959   36.586166  164101200.0   \n",
       "...                      ...         ...         ...         ...          ...   \n",
       "ZS -  2022-01-07  258.380005  268.359985  254.350998  261.529999    1695800.0   \n",
       "      2022-01-10  254.500000  276.019989  249.009995  275.649994    4333300.0   \n",
       "      2022-01-11  270.450012  281.369995  267.329987  277.529999    1517900.0   \n",
       "      2022-01-12  283.109985  288.609985  272.880005  273.980011    1881000.0   \n",
       "      2022-01-13  274.649994  277.269989  250.320007  250.470001    3130400.0   \n",
       "\n",
       "                  close_dif  surges  surge1  \n",
       "Names Date                                   \n",
       "AAPL  2019-01-02   0.001141   False       0  \n",
       "      2019-01-03  -0.099607    True      -1  \n",
       "      2019-01-04   0.042689    True       1  \n",
       "      2019-01-07  -0.002226   False       0  \n",
       "      2019-01-08   0.019063   False       0  \n",
       "...                     ...     ...     ...  \n",
       "ZS -  2022-01-07   0.005073   False       0  \n",
       "      2022-01-10   0.053990    True       1  \n",
       "      2022-01-11   0.006820   False       0  \n",
       "      2022-01-12  -0.012791   False       0  \n",
       "      2022-01-13  -0.085809    True      -1  \n",
       "\n",
       "[75902 rows x 8 columns]"
      ]
     },
     "execution_count": 126,
     "metadata": {},
     "output_type": "execute_result"
    }
   ],
   "source": [
    "df_all_2019['surge1'] = 0\n",
    "df_all_2019['surge1'][(df_all_2019['surges'] == True) & (df_all_2019['close_dif']>0)] = 1\n",
    "df_all_2019['surge1'][(df_all_2019['surges'] == True) & (df_all_2019['close_dif']<0)] = -1\n",
    "df_all_2019"
   ]
  },
  {
   "cell_type": "code",
   "execution_count": 15,
   "metadata": {},
   "outputs": [],
   "source": [
    "df_all_2019.sort_index(inplace=True)"
   ]
  },
  {
   "cell_type": "code",
   "execution_count": 17,
   "metadata": {},
   "outputs": [
    {
     "data": {
      "text/plain": [
       "True"
      ]
     },
     "execution_count": 17,
     "metadata": {},
     "output_type": "execute_result"
    }
   ],
   "source": [
    "# проверяем, что индексы те же со сдвигом в окно (не так, потому что в X вырезались первые значения размером в окно)\n",
    "i=10\n",
    "X.iloc[i].name == df_all_2019.iloc[i+20].name"
   ]
  },
  {
   "cell_type": "code",
   "execution_count": 19,
   "metadata": {},
   "outputs": [],
   "source": [
    "# сдигаем вверх значения Y, то есть чтобы на каждый день стояло значение из завтра, которое и надо предсказать\n",
    "Y = df_all_2019['surges'].shift(-1)"
   ]
  },
  {
   "cell_type": "code",
   "execution_count": 20,
   "metadata": {},
   "outputs": [
    {
     "data": {
      "text/plain": [
       "Names  Date      \n",
       "AAPL   2019-01-02     True\n",
       "       2019-01-03     True\n",
       "       2019-01-04    False\n",
       "       2019-01-07    False\n",
       "       2019-01-08    False\n",
       "                     ...  \n",
       "ZS -   2022-01-07     True\n",
       "       2022-01-10    False\n",
       "       2022-01-11    False\n",
       "       2022-01-12     True\n",
       "       2022-01-13      NaN\n",
       "Name: surges, Length: 75902, dtype: object"
      ]
     },
     "execution_count": 20,
     "metadata": {},
     "output_type": "execute_result"
    }
   ],
   "source": [
    "Y"
   ]
  },
  {
   "cell_type": "code",
   "execution_count": 21,
   "metadata": {},
   "outputs": [],
   "source": [
    "# оставляем только пересекающиеся индексы\n",
    "Y = Y[Y.index.isin(X.index)]\n",
    "X = X[X.index.isin(Y.index)]"
   ]
  },
  {
   "cell_type": "code",
   "execution_count": 22,
   "metadata": {},
   "outputs": [
    {
     "data": {
      "text/plain": [
       "((73145, 779), (73902,))"
      ]
     },
     "execution_count": 22,
     "metadata": {},
     "output_type": "execute_result"
    }
   ],
   "source": [
    "# размерности не совпадают, хотя списки индексов одинаковые, значит есть дубли индексов\n",
    "X.shape, Y.shape"
   ]
  },
  {
   "cell_type": "code",
   "execution_count": 32,
   "metadata": {},
   "outputs": [
    {
     "name": "stdout",
     "output_type": "stream",
     "text": [
      "True\n"
     ]
    },
    {
     "data": {
      "text/plain": [
       "(('NXPI', '2020-12-08'), ('NXPI', '2020-12-08'))"
      ]
     },
     "execution_count": 32,
     "metadata": {},
     "output_type": "execute_result"
    }
   ],
   "source": [
    "i=50000\n",
    "print(X.iloc[i].name == Y.index.values[i])\n",
    "Y.index.values[i], X.iloc[i].name"
   ]
  },
  {
   "cell_type": "code",
   "execution_count": 27,
   "metadata": {},
   "outputs": [
    {
     "data": {
      "text/plain": [
       "array([('GOOG', '2019-01-16'), ('GOOG', '2019-01-17'),\n",
       "       ('GOOG', '2019-01-18'), ('GOOG', '2019-01-22'),\n",
       "       ('GOOG', '2019-01-23'), ('GOOG', '2019-01-24'),\n",
       "       ('GOOG', '2019-01-25'), ('GOOG', '2019-01-28'),\n",
       "       ('GOOG', '2019-01-29'), ('GOOG', '2019-01-30'),\n",
       "       ('GOOG', '2019-01-31'), ('GOOG', '2019-02-01'),\n",
       "       ('GOOG', '2019-02-04'), ('GOOG', '2019-02-05'),\n",
       "       ('GOOG', '2019-02-06'), ('GOOG', '2019-02-07'),\n",
       "       ('GOOG', '2019-02-08'), ('GOOG', '2019-02-11'),\n",
       "       ('GOOG', '2019-02-12'), ('GOOG', '2019-02-13'),\n",
       "       ('GOOG', '2019-02-14'), ('GOOG', '2019-02-15'),\n",
       "       ('GOOG', '2019-02-19'), ('GOOG', '2019-02-20'),\n",
       "       ('GOOG', '2019-02-21'), ('GOOG', '2019-02-22'),\n",
       "       ('GOOG', '2019-02-25'), ('GOOG', '2019-02-26'),\n",
       "       ('GOOG', '2019-02-27'), ('GOOG', '2019-02-28'),\n",
       "       ('GOOG', '2019-03-01'), ('GOOG', '2019-03-04'),\n",
       "       ('GOOG', '2019-03-05'), ('GOOG', '2019-03-06'),\n",
       "       ('GOOG', '2019-03-07'), ('GOOG', '2019-03-08'),\n",
       "       ('GOOG', '2019-03-11'), ('GOOG', '2019-03-12'),\n",
       "       ('GOOG', '2019-03-13'), ('GOOG', '2019-03-14'),\n",
       "       ('GOOG', '2019-03-15'), ('GOOG', '2019-03-18'),\n",
       "       ('GOOG', '2019-03-19'), ('GOOG', '2019-03-20'),\n",
       "       ('GOOG', '2019-03-21'), ('GOOG', '2019-03-22'),\n",
       "       ('GOOG', '2019-03-25'), ('GOOG', '2019-03-26'),\n",
       "       ('GOOG', '2019-03-27'), ('GOOG', '2019-03-28'),\n",
       "       ('GOOG', '2019-03-29'), ('GOOG', '2019-04-01'),\n",
       "       ('GOOG', '2019-04-02'), ('GOOG', '2019-04-03'),\n",
       "       ('GOOG', '2019-04-04'), ('GOOG', '2019-04-05'),\n",
       "       ('GOOG', '2019-04-08'), ('GOOG', '2019-04-09'),\n",
       "       ('GOOG', '2019-04-10'), ('GOOG', '2019-04-11'),\n",
       "       ('GOOG', '2019-04-12'), ('GOOG', '2019-04-15'),\n",
       "       ('GOOG', '2019-04-16'), ('GOOG', '2019-04-17'),\n",
       "       ('GOOG', '2019-04-18'), ('GOOG', '2019-04-22'),\n",
       "       ('GOOG', '2019-04-23'), ('GOOG', '2019-04-24'),\n",
       "       ('GOOG', '2019-04-25'), ('GOOG', '2019-04-26'),\n",
       "       ('GOOG', '2019-04-29'), ('GOOG', '2019-04-30'),\n",
       "       ('GOOG', '2019-05-01'), ('GOOG', '2019-05-02'),\n",
       "       ('GOOG', '2019-05-03'), ('GOOG', '2019-05-06'),\n",
       "       ('GOOG', '2019-05-07'), ('GOOG', '2019-05-08'),\n",
       "       ('GOOG', '2019-05-09'), ('GOOG', '2019-05-10'),\n",
       "       ('GOOG', '2019-05-13'), ('GOOG', '2019-05-14'),\n",
       "       ('GOOG', '2019-05-15'), ('GOOG', '2019-05-16'),\n",
       "       ('GOOG', '2019-05-17'), ('GOOG', '2019-05-20'),\n",
       "       ('GOOG', '2019-05-21'), ('GOOG', '2019-05-22'),\n",
       "       ('GOOG', '2019-05-23'), ('GOOG', '2019-05-24'),\n",
       "       ('GOOG', '2019-05-28'), ('GOOG', '2019-05-29'),\n",
       "       ('GOOG', '2019-05-30'), ('GOOG', '2019-05-31'),\n",
       "       ('GOOG', '2019-06-03'), ('GOOG', '2019-06-04'),\n",
       "       ('GOOG', '2019-06-05'), ('GOOG', '2019-06-06'),\n",
       "       ('GOOG', '2019-06-07'), ('GOOG', '2019-06-10'),\n",
       "       ('GOOG', '2019-06-11'), ('GOOG', '2019-06-12'),\n",
       "       ('GOOG', '2019-06-13'), ('GOOG', '2019-06-14'),\n",
       "       ('GOOG', '2019-06-17'), ('GOOG', '2019-06-18'),\n",
       "       ('GOOG', '2019-06-19'), ('GOOG', '2019-06-20'),\n",
       "       ('GOOG', '2019-06-21'), ('GOOG', '2019-06-24'),\n",
       "       ('GOOG', '2019-06-25'), ('GOOG', '2019-06-26'),\n",
       "       ('GOOG', '2019-06-27'), ('GOOG', '2019-06-28'),\n",
       "       ('GOOG', '2019-07-01'), ('GOOG', '2019-07-02'),\n",
       "       ('GOOG', '2019-07-03'), ('GOOG', '2019-07-05'),\n",
       "       ('GOOG', '2019-07-08'), ('GOOG', '2019-07-09'),\n",
       "       ('GOOG', '2019-07-10'), ('GOOG', '2019-07-11'),\n",
       "       ('GOOG', '2019-07-12'), ('GOOG', '2019-07-15'),\n",
       "       ('GOOG', '2019-07-16'), ('GOOG', '2019-07-17'),\n",
       "       ('GOOG', '2019-07-18'), ('GOOG', '2019-07-19'),\n",
       "       ('GOOG', '2019-07-22'), ('GOOG', '2019-07-23'),\n",
       "       ('GOOG', '2019-07-24'), ('GOOG', '2019-07-25'),\n",
       "       ('GOOG', '2019-07-26'), ('GOOG', '2019-07-29'),\n",
       "       ('GOOG', '2019-07-30'), ('GOOG', '2019-07-31'),\n",
       "       ('GOOG', '2019-08-01'), ('GOOG', '2019-08-02'),\n",
       "       ('GOOG', '2019-08-05'), ('GOOG', '2019-08-06'),\n",
       "       ('GOOG', '2019-08-07'), ('GOOG', '2019-08-08'),\n",
       "       ('GOOG', '2019-08-09'), ('GOOG', '2019-08-12'),\n",
       "       ('GOOG', '2019-08-13'), ('GOOG', '2019-08-14'),\n",
       "       ('GOOG', '2019-08-15'), ('GOOG', '2019-08-16'),\n",
       "       ('GOOG', '2019-08-19'), ('GOOG', '2019-08-20'),\n",
       "       ('GOOG', '2019-08-21'), ('GOOG', '2019-08-22'),\n",
       "       ('GOOG', '2019-08-23'), ('GOOG', '2019-08-26'),\n",
       "       ('GOOG', '2019-08-27'), ('GOOG', '2019-08-28'),\n",
       "       ('GOOG', '2019-08-29'), ('GOOG', '2019-08-30'),\n",
       "       ('GOOG', '2019-09-03'), ('GOOG', '2019-09-04'),\n",
       "       ('GOOG', '2019-09-05'), ('GOOG', '2019-09-06'),\n",
       "       ('GOOG', '2019-09-09'), ('GOOG', '2019-09-10'),\n",
       "       ('GOOG', '2019-09-11'), ('GOOG', '2019-09-12'),\n",
       "       ('GOOG', '2019-09-13'), ('GOOG', '2019-09-16'),\n",
       "       ('GOOG', '2019-09-17'), ('GOOG', '2019-09-18'),\n",
       "       ('GOOG', '2019-09-19'), ('GOOG', '2019-09-20'),\n",
       "       ('GOOG', '2019-09-23'), ('GOOG', '2019-09-24'),\n",
       "       ('GOOG', '2019-09-25'), ('GOOG', '2019-09-26'),\n",
       "       ('GOOG', '2019-09-27'), ('GOOG', '2019-09-30'),\n",
       "       ('GOOG', '2019-10-01'), ('GOOG', '2019-10-02'),\n",
       "       ('GOOG', '2019-10-03'), ('GOOG', '2019-10-04'),\n",
       "       ('GOOG', '2019-10-07'), ('GOOG', '2019-10-08'),\n",
       "       ('GOOG', '2019-10-09'), ('GOOG', '2019-10-10'),\n",
       "       ('GOOG', '2019-10-11'), ('GOOG', '2019-10-14'),\n",
       "       ('GOOG', '2019-10-15'), ('GOOG', '2019-10-16'),\n",
       "       ('GOOG', '2019-10-17'), ('GOOG', '2019-10-18'),\n",
       "       ('GOOG', '2019-10-21'), ('GOOG', '2019-10-22'),\n",
       "       ('GOOG', '2019-10-23'), ('GOOG', '2019-10-24'),\n",
       "       ('GOOG', '2019-10-25'), ('GOOG', '2019-10-28'),\n",
       "       ('GOOG', '2019-10-29'), ('GOOG', '2019-10-30'),\n",
       "       ('GOOG', '2019-10-31'), ('GOOG', '2019-11-01'),\n",
       "       ('GOOG', '2019-11-04'), ('GOOG', '2019-11-05'),\n",
       "       ('GOOG', '2019-11-06'), ('GOOG', '2019-11-07'),\n",
       "       ('GOOG', '2019-11-08'), ('GOOG', '2019-11-11'),\n",
       "       ('GOOG', '2019-11-12'), ('GOOG', '2019-11-13'),\n",
       "       ('GOOG', '2019-11-14'), ('GOOG', '2019-11-15'),\n",
       "       ('GOOG', '2019-11-18'), ('GOOG', '2019-11-19'),\n",
       "       ('GOOG', '2019-11-20'), ('GOOG', '2019-11-21'),\n",
       "       ('GOOG', '2019-11-22'), ('GOOG', '2019-11-25'),\n",
       "       ('GOOG', '2019-11-26'), ('GOOG', '2019-11-27'),\n",
       "       ('GOOG', '2019-11-29'), ('GOOG', '2019-12-02'),\n",
       "       ('GOOG', '2019-12-03'), ('GOOG', '2019-12-04'),\n",
       "       ('GOOG', '2019-12-05'), ('GOOG', '2019-12-06'),\n",
       "       ('GOOG', '2019-12-09'), ('GOOG', '2019-12-10'),\n",
       "       ('GOOG', '2019-12-11'), ('GOOG', '2019-12-12'),\n",
       "       ('GOOG', '2019-12-13'), ('GOOG', '2019-12-16'),\n",
       "       ('GOOG', '2019-12-17'), ('GOOG', '2019-12-18'),\n",
       "       ('GOOG', '2019-12-19'), ('GOOG', '2019-12-20'),\n",
       "       ('GOOG', '2019-12-23'), ('GOOG', '2019-12-24'),\n",
       "       ('GOOG', '2019-12-26'), ('GOOG', '2019-12-27'),\n",
       "       ('GOOG', '2019-12-30'), ('GOOG', '2019-12-31'),\n",
       "       ('GOOG', '2020-01-02'), ('GOOG', '2020-01-03'),\n",
       "       ('GOOG', '2020-01-06'), ('GOOG', '2020-01-07'),\n",
       "       ('GOOG', '2020-01-08'), ('GOOG', '2020-01-09'),\n",
       "       ('GOOG', '2020-01-10'), ('GOOG', '2020-01-13'),\n",
       "       ('GOOG', '2020-01-14'), ('GOOG', '2020-01-15'),\n",
       "       ('GOOG', '2020-01-16'), ('GOOG', '2020-01-17'),\n",
       "       ('GOOG', '2020-01-21'), ('GOOG', '2020-01-22'),\n",
       "       ('GOOG', '2020-01-23'), ('GOOG', '2020-01-24'),\n",
       "       ('GOOG', '2020-01-27'), ('GOOG', '2020-01-28'),\n",
       "       ('GOOG', '2020-01-29'), ('GOOG', '2020-01-30'),\n",
       "       ('GOOG', '2020-01-31'), ('GOOG', '2020-02-03'),\n",
       "       ('GOOG', '2020-02-04'), ('GOOG', '2020-02-05'),\n",
       "       ('GOOG', '2020-02-06'), ('GOOG', '2020-02-07'),\n",
       "       ('GOOG', '2020-02-10'), ('GOOG', '2020-02-11'),\n",
       "       ('GOOG', '2020-02-12'), ('GOOG', '2020-02-13'),\n",
       "       ('GOOG', '2020-02-14'), ('GOOG', '2020-02-18'),\n",
       "       ('GOOG', '2020-02-19'), ('GOOG', '2020-02-20'),\n",
       "       ('GOOG', '2020-02-21'), ('GOOG', '2020-02-24'),\n",
       "       ('GOOG', '2020-02-25'), ('GOOG', '2020-02-26'),\n",
       "       ('GOOG', '2020-02-27'), ('GOOG', '2020-02-28'),\n",
       "       ('GOOG', '2020-03-02'), ('GOOG', '2020-03-03'),\n",
       "       ('GOOG', '2020-03-04'), ('GOOG', '2020-03-05'),\n",
       "       ('GOOG', '2020-03-06'), ('GOOG', '2020-03-09'),\n",
       "       ('GOOG', '2020-03-10'), ('GOOG', '2020-03-11'),\n",
       "       ('GOOG', '2020-03-12'), ('GOOG', '2020-03-13'),\n",
       "       ('GOOG', '2020-03-16'), ('GOOG', '2020-03-17'),\n",
       "       ('GOOG', '2020-03-18'), ('GOOG', '2020-03-19'),\n",
       "       ('GOOG', '2020-03-20'), ('GOOG', '2020-03-23'),\n",
       "       ('GOOG', '2020-03-24'), ('GOOG', '2020-03-25'),\n",
       "       ('GOOG', '2020-03-26'), ('GOOG', '2020-03-27'),\n",
       "       ('GOOG', '2020-03-30'), ('GOOG', '2020-03-31'),\n",
       "       ('GOOG', '2020-04-01'), ('GOOG', '2020-04-02'),\n",
       "       ('GOOG', '2020-04-03'), ('GOOG', '2020-04-06'),\n",
       "       ('GOOG', '2020-04-07'), ('GOOG', '2020-04-08'),\n",
       "       ('GOOG', '2020-04-09'), ('GOOG', '2020-04-13'),\n",
       "       ('GOOG', '2020-04-14'), ('GOOG', '2020-04-15'),\n",
       "       ('GOOG', '2020-04-16'), ('GOOG', '2020-04-17'),\n",
       "       ('GOOG', '2020-04-20'), ('GOOG', '2020-04-21'),\n",
       "       ('GOOG', '2020-04-22'), ('GOOG', '2020-04-23'),\n",
       "       ('GOOG', '2020-04-24'), ('GOOG', '2020-04-27'),\n",
       "       ('GOOG', '2020-04-28'), ('GOOG', '2020-04-29'),\n",
       "       ('GOOG', '2020-04-30'), ('GOOG', '2020-05-01'),\n",
       "       ('GOOG', '2020-05-04'), ('GOOG', '2020-05-05'),\n",
       "       ('GOOG', '2020-05-06'), ('GOOG', '2020-05-07'),\n",
       "       ('GOOG', '2020-05-08'), ('GOOG', '2020-05-11'),\n",
       "       ('GOOG', '2020-05-12'), ('GOOG', '2020-05-13'),\n",
       "       ('GOOG', '2020-05-14'), ('GOOG', '2020-05-15'),\n",
       "       ('GOOG', '2020-05-18'), ('GOOG', '2020-05-19'),\n",
       "       ('GOOG', '2020-05-20'), ('GOOG', '2020-05-21'),\n",
       "       ('GOOG', '2020-05-22'), ('GOOG', '2020-05-26'),\n",
       "       ('GOOG', '2020-05-27'), ('GOOG', '2020-05-28'),\n",
       "       ('GOOG', '2020-05-29'), ('GOOG', '2020-06-01'),\n",
       "       ('GOOG', '2020-06-02'), ('GOOG', '2020-06-03'),\n",
       "       ('GOOG', '2020-06-04'), ('GOOG', '2020-06-05'),\n",
       "       ('GOOG', '2020-06-08'), ('GOOG', '2020-06-09'),\n",
       "       ('GOOG', '2020-06-10'), ('GOOG', '2020-06-11'),\n",
       "       ('GOOG', '2020-06-12'), ('GOOG', '2020-06-15'),\n",
       "       ('GOOG', '2020-06-16'), ('GOOG', '2020-06-17'),\n",
       "       ('GOOG', '2020-06-18'), ('GOOG', '2020-06-19'),\n",
       "       ('GOOG', '2020-06-22'), ('GOOG', '2020-06-23'),\n",
       "       ('GOOG', '2020-06-24'), ('GOOG', '2020-06-25'),\n",
       "       ('GOOG', '2020-06-26'), ('GOOG', '2020-06-29'),\n",
       "       ('GOOG', '2020-06-30'), ('GOOG', '2020-07-01'),\n",
       "       ('GOOG', '2020-07-02'), ('GOOG', '2020-07-06'),\n",
       "       ('GOOG', '2020-07-07'), ('GOOG', '2020-07-08'),\n",
       "       ('GOOG', '2020-07-09'), ('GOOG', '2020-07-10'),\n",
       "       ('GOOG', '2020-07-13'), ('GOOG', '2020-07-14'),\n",
       "       ('GOOG', '2020-07-15'), ('GOOG', '2020-07-16'),\n",
       "       ('GOOG', '2020-07-17'), ('GOOG', '2020-07-20'),\n",
       "       ('GOOG', '2020-07-21'), ('GOOG', '2020-07-22'),\n",
       "       ('GOOG', '2020-07-23'), ('GOOG', '2020-07-24'),\n",
       "       ('GOOG', '2020-07-27'), ('GOOG', '2020-07-28'),\n",
       "       ('GOOG', '2020-07-29'), ('GOOG', '2020-07-30'),\n",
       "       ('GOOG', '2020-07-31'), ('GOOG', '2020-08-03'),\n",
       "       ('GOOG', '2020-08-04'), ('GOOG', '2020-08-05'),\n",
       "       ('GOOG', '2020-08-06'), ('GOOG', '2020-08-07'),\n",
       "       ('GOOG', '2020-08-10'), ('GOOG', '2020-08-11'),\n",
       "       ('GOOG', '2020-08-12'), ('GOOG', '2020-08-13'),\n",
       "       ('GOOG', '2020-08-14'), ('GOOG', '2020-08-17'),\n",
       "       ('GOOG', '2020-08-18'), ('GOOG', '2020-08-19'),\n",
       "       ('GOOG', '2020-08-20'), ('GOOG', '2020-08-21'),\n",
       "       ('GOOG', '2020-08-24'), ('GOOG', '2020-08-25'),\n",
       "       ('GOOG', '2020-08-26'), ('GOOG', '2020-08-27'),\n",
       "       ('GOOG', '2020-08-28'), ('GOOG', '2020-08-31'),\n",
       "       ('GOOG', '2020-09-01'), ('GOOG', '2020-09-02'),\n",
       "       ('GOOG', '2020-09-03'), ('GOOG', '2020-09-04'),\n",
       "       ('GOOG', '2020-09-08'), ('GOOG', '2020-09-09'),\n",
       "       ('GOOG', '2020-09-10'), ('GOOG', '2020-09-11'),\n",
       "       ('GOOG', '2020-09-14'), ('GOOG', '2020-09-15'),\n",
       "       ('GOOG', '2020-09-16'), ('GOOG', '2020-09-17'),\n",
       "       ('GOOG', '2020-09-18'), ('GOOG', '2020-09-21'),\n",
       "       ('GOOG', '2020-09-22'), ('GOOG', '2020-09-23'),\n",
       "       ('GOOG', '2020-09-24'), ('GOOG', '2020-09-25'),\n",
       "       ('GOOG', '2020-09-28'), ('GOOG', '2020-09-29'),\n",
       "       ('GOOG', '2020-09-30'), ('GOOG', '2020-10-01'),\n",
       "       ('GOOG', '2020-10-02'), ('GOOG', '2020-10-05'),\n",
       "       ('GOOG', '2020-10-06'), ('GOOG', '2020-10-07'),\n",
       "       ('GOOG', '2020-10-08'), ('GOOG', '2020-10-09'),\n",
       "       ('GOOG', '2020-10-12'), ('GOOG', '2020-10-13'),\n",
       "       ('GOOG', '2020-10-14'), ('GOOG', '2020-10-15'),\n",
       "       ('GOOG', '2020-10-16'), ('GOOG', '2020-10-19'),\n",
       "       ('GOOG', '2020-10-20'), ('GOOG', '2020-10-21'),\n",
       "       ('GOOG', '2020-10-22'), ('GOOG', '2020-10-23'),\n",
       "       ('GOOG', '2020-10-26'), ('GOOG', '2020-10-27'),\n",
       "       ('GOOG', '2020-10-28'), ('GOOG', '2020-10-29'),\n",
       "       ('GOOG', '2020-10-30'), ('GOOG', '2020-11-02'),\n",
       "       ('GOOG', '2020-11-03'), ('GOOG', '2020-11-04'),\n",
       "       ('GOOG', '2020-11-05'), ('GOOG', '2020-11-06'),\n",
       "       ('GOOG', '2020-11-09'), ('GOOG', '2020-11-10'),\n",
       "       ('GOOG', '2020-11-11'), ('GOOG', '2020-11-12'),\n",
       "       ('GOOG', '2020-11-13'), ('GOOG', '2020-11-16'),\n",
       "       ('GOOG', '2020-11-17'), ('GOOG', '2020-11-18'),\n",
       "       ('GOOG', '2020-11-19'), ('GOOG', '2020-11-20'),\n",
       "       ('GOOG', '2020-11-23'), ('GOOG', '2020-11-24'),\n",
       "       ('GOOG', '2020-11-25'), ('GOOG', '2020-11-27'),\n",
       "       ('GOOG', '2020-11-30'), ('GOOG', '2020-12-01'),\n",
       "       ('GOOG', '2020-12-02'), ('GOOG', '2020-12-03'),\n",
       "       ('GOOG', '2020-12-04'), ('GOOG', '2020-12-07'),\n",
       "       ('GOOG', '2020-12-08'), ('GOOG', '2020-12-09'),\n",
       "       ('GOOG', '2020-12-10'), ('GOOG', '2020-12-11'),\n",
       "       ('GOOG', '2020-12-14'), ('GOOG', '2020-12-15'),\n",
       "       ('GOOG', '2020-12-16'), ('GOOG', '2020-12-17'),\n",
       "       ('GOOG', '2020-12-18'), ('GOOG', '2020-12-21'),\n",
       "       ('GOOG', '2020-12-22'), ('GOOG', '2020-12-23'),\n",
       "       ('GOOG', '2020-12-24'), ('GOOG', '2020-12-28'),\n",
       "       ('GOOG', '2020-12-29'), ('GOOG', '2020-12-30'),\n",
       "       ('GOOG', '2020-12-31'), ('GOOG', '2021-01-04'),\n",
       "       ('GOOG', '2021-01-05'), ('GOOG', '2021-01-06'),\n",
       "       ('GOOG', '2021-01-07'), ('GOOG', '2021-01-08'),\n",
       "       ('GOOG', '2021-01-11'), ('GOOG', '2021-01-12'),\n",
       "       ('GOOG', '2021-01-13'), ('GOOG', '2021-01-14'),\n",
       "       ('GOOG', '2021-01-15'), ('GOOG', '2021-01-19'),\n",
       "       ('GOOG', '2021-01-20'), ('GOOG', '2021-01-21'),\n",
       "       ('GOOG', '2021-01-22'), ('GOOG', '2021-01-25'),\n",
       "       ('GOOG', '2021-01-26'), ('GOOG', '2021-01-27'),\n",
       "       ('GOOG', '2021-01-28'), ('GOOG', '2021-01-29'),\n",
       "       ('GOOG', '2021-02-01'), ('GOOG', '2021-02-02'),\n",
       "       ('GOOG', '2021-02-03'), ('GOOG', '2021-02-04'),\n",
       "       ('GOOG', '2021-02-05'), ('GOOG', '2021-02-08'),\n",
       "       ('GOOG', '2021-02-09'), ('GOOG', '2021-02-10'),\n",
       "       ('GOOG', '2021-02-11'), ('GOOG', '2021-02-12'),\n",
       "       ('GOOG', '2021-02-16'), ('GOOG', '2021-02-17'),\n",
       "       ('GOOG', '2021-02-18'), ('GOOG', '2021-02-19'),\n",
       "       ('GOOG', '2021-02-22'), ('GOOG', '2021-02-23'),\n",
       "       ('GOOG', '2021-02-24'), ('GOOG', '2021-02-25'),\n",
       "       ('GOOG', '2021-02-26'), ('GOOG', '2021-03-01'),\n",
       "       ('GOOG', '2021-03-02'), ('GOOG', '2021-03-03'),\n",
       "       ('GOOG', '2021-03-04'), ('GOOG', '2021-03-05'),\n",
       "       ('GOOG', '2021-03-08'), ('GOOG', '2021-03-09'),\n",
       "       ('GOOG', '2021-03-10'), ('GOOG', '2021-03-11'),\n",
       "       ('GOOG', '2021-03-12'), ('GOOG', '2021-03-15'),\n",
       "       ('GOOG', '2021-03-16'), ('GOOG', '2021-03-17'),\n",
       "       ('GOOG', '2021-03-18'), ('GOOG', '2021-03-19'),\n",
       "       ('GOOG', '2021-03-22'), ('GOOG', '2021-03-23'),\n",
       "       ('GOOG', '2021-03-24'), ('GOOG', '2021-03-25'),\n",
       "       ('GOOG', '2021-03-26'), ('GOOG', '2021-03-29'),\n",
       "       ('GOOG', '2021-03-30'), ('GOOG', '2021-03-31'),\n",
       "       ('GOOG', '2021-04-01'), ('GOOG', '2021-04-05'),\n",
       "       ('GOOG', '2021-04-06'), ('GOOG', '2021-04-07'),\n",
       "       ('GOOG', '2021-04-08'), ('GOOG', '2021-04-09'),\n",
       "       ('GOOG', '2021-04-12'), ('GOOG', '2021-04-13'),\n",
       "       ('GOOG', '2021-04-14'), ('GOOG', '2021-04-15'),\n",
       "       ('GOOG', '2021-04-16'), ('GOOG', '2021-04-19'),\n",
       "       ('GOOG', '2021-04-20'), ('GOOG', '2021-04-21'),\n",
       "       ('GOOG', '2021-04-22'), ('GOOG', '2021-04-23'),\n",
       "       ('GOOG', '2021-04-26'), ('GOOG', '2021-04-27'),\n",
       "       ('GOOG', '2021-04-28'), ('GOOG', '2021-04-29'),\n",
       "       ('GOOG', '2021-04-30'), ('GOOG', '2021-05-03'),\n",
       "       ('GOOG', '2021-05-04'), ('GOOG', '2021-05-05'),\n",
       "       ('GOOG', '2021-05-06'), ('GOOG', '2021-05-07'),\n",
       "       ('GOOG', '2021-05-10'), ('GOOG', '2021-05-11'),\n",
       "       ('GOOG', '2021-05-12'), ('GOOG', '2021-05-13'),\n",
       "       ('GOOG', '2021-05-14'), ('GOOG', '2021-05-17'),\n",
       "       ('GOOG', '2021-05-18'), ('GOOG', '2021-05-19'),\n",
       "       ('GOOG', '2021-05-20'), ('GOOG', '2021-05-21'),\n",
       "       ('GOOG', '2021-05-24'), ('GOOG', '2021-05-25'),\n",
       "       ('GOOG', '2021-05-26'), ('GOOG', '2021-05-27'),\n",
       "       ('GOOG', '2021-05-28'), ('GOOG', '2021-06-01'),\n",
       "       ('GOOG', '2021-06-02'), ('GOOG', '2021-06-03'),\n",
       "       ('GOOG', '2021-06-04'), ('GOOG', '2021-06-07'),\n",
       "       ('GOOG', '2021-06-08'), ('GOOG', '2021-06-09'),\n",
       "       ('GOOG', '2021-06-10'), ('GOOG', '2021-06-11'),\n",
       "       ('GOOG', '2021-06-14'), ('GOOG', '2021-06-15'),\n",
       "       ('GOOG', '2021-06-16'), ('GOOG', '2021-06-17'),\n",
       "       ('GOOG', '2021-06-18'), ('GOOG', '2021-06-21'),\n",
       "       ('GOOG', '2021-06-22'), ('GOOG', '2021-06-23'),\n",
       "       ('GOOG', '2021-06-24'), ('GOOG', '2021-06-25'),\n",
       "       ('GOOG', '2021-06-28'), ('GOOG', '2021-06-29'),\n",
       "       ('GOOG', '2021-06-30'), ('GOOG', '2021-07-01'),\n",
       "       ('GOOG', '2021-07-02'), ('GOOG', '2021-07-06'),\n",
       "       ('GOOG', '2021-07-07'), ('GOOG', '2021-07-08'),\n",
       "       ('GOOG', '2021-07-09'), ('GOOG', '2021-07-12'),\n",
       "       ('GOOG', '2021-07-13'), ('GOOG', '2021-07-14'),\n",
       "       ('GOOG', '2021-07-15'), ('GOOG', '2021-07-16'),\n",
       "       ('GOOG', '2021-07-19'), ('GOOG', '2021-07-20'),\n",
       "       ('GOOG', '2021-07-21'), ('GOOG', '2021-07-22'),\n",
       "       ('GOOG', '2021-07-23'), ('GOOG', '2021-07-26'),\n",
       "       ('GOOG', '2021-07-27'), ('GOOG', '2021-07-28'),\n",
       "       ('GOOG', '2021-07-29'), ('GOOG', '2021-07-30'),\n",
       "       ('GOOG', '2021-08-02'), ('GOOG', '2021-08-03'),\n",
       "       ('GOOG', '2021-08-04'), ('GOOG', '2021-08-05'),\n",
       "       ('GOOG', '2021-08-06'), ('GOOG', '2021-08-09'),\n",
       "       ('GOOG', '2021-08-10'), ('GOOG', '2021-08-11'),\n",
       "       ('GOOG', '2021-08-12'), ('GOOG', '2021-08-13'),\n",
       "       ('GOOG', '2021-08-16'), ('GOOG', '2021-08-17'),\n",
       "       ('GOOG', '2021-08-18'), ('GOOG', '2021-08-19'),\n",
       "       ('GOOG', '2021-08-20'), ('GOOG', '2021-08-23'),\n",
       "       ('GOOG', '2021-08-24'), ('GOOG', '2021-08-25'),\n",
       "       ('GOOG', '2021-08-26'), ('GOOG', '2021-08-27'),\n",
       "       ('GOOG', '2021-08-30'), ('GOOG', '2021-08-31'),\n",
       "       ('GOOG', '2021-09-01'), ('GOOG', '2021-09-02'),\n",
       "       ('GOOG', '2021-09-03'), ('GOOG', '2021-09-07'),\n",
       "       ('GOOG', '2021-09-08'), ('GOOG', '2021-09-09'),\n",
       "       ('GOOG', '2021-09-10'), ('GOOG', '2021-09-13'),\n",
       "       ('GOOG', '2021-09-14'), ('GOOG', '2021-09-15'),\n",
       "       ('GOOG', '2021-09-16'), ('GOOG', '2021-09-17'),\n",
       "       ('GOOG', '2021-09-20'), ('GOOG', '2021-09-21'),\n",
       "       ('GOOG', '2021-09-22'), ('GOOG', '2021-09-23'),\n",
       "       ('GOOG', '2021-09-24'), ('GOOG', '2021-09-27'),\n",
       "       ('GOOG', '2021-09-28'), ('GOOG', '2021-09-29'),\n",
       "       ('GOOG', '2021-09-30'), ('GOOG', '2021-10-01'),\n",
       "       ('GOOG', '2021-10-04'), ('GOOG', '2021-10-05'),\n",
       "       ('GOOG', '2021-10-06'), ('GOOG', '2021-10-07'),\n",
       "       ('GOOG', '2021-10-08'), ('GOOG', '2021-10-11'),\n",
       "       ('GOOG', '2021-10-12'), ('GOOG', '2021-10-13'),\n",
       "       ('GOOG', '2021-10-14'), ('GOOG', '2021-10-15'),\n",
       "       ('GOOG', '2021-10-18'), ('GOOG', '2021-10-19'),\n",
       "       ('GOOG', '2021-10-20'), ('GOOG', '2021-10-21'),\n",
       "       ('GOOG', '2021-10-22'), ('GOOG', '2021-10-25'),\n",
       "       ('GOOG', '2021-10-26'), ('GOOG', '2021-10-27'),\n",
       "       ('GOOG', '2021-10-28'), ('GOOG', '2021-10-29'),\n",
       "       ('GOOG', '2021-11-01'), ('GOOG', '2021-11-02'),\n",
       "       ('GOOG', '2021-11-03'), ('GOOG', '2021-11-04'),\n",
       "       ('GOOG', '2021-11-05'), ('GOOG', '2021-11-08'),\n",
       "       ('GOOG', '2021-11-09'), ('GOOG', '2021-11-10'),\n",
       "       ('GOOG', '2021-11-11'), ('GOOG', '2021-11-12'),\n",
       "       ('GOOG', '2021-11-15'), ('GOOG', '2021-11-16'),\n",
       "       ('GOOG', '2021-11-17'), ('GOOG', '2021-11-18'),\n",
       "       ('GOOG', '2021-11-19'), ('GOOG', '2021-11-22'),\n",
       "       ('GOOG', '2021-11-23'), ('GOOG', '2021-11-24'),\n",
       "       ('GOOG', '2021-11-26'), ('GOOG', '2021-11-29'),\n",
       "       ('GOOG', '2021-11-30'), ('GOOG', '2021-12-01'),\n",
       "       ('GOOG', '2021-12-02'), ('GOOG', '2021-12-03'),\n",
       "       ('GOOG', '2021-12-06'), ('GOOG', '2021-12-07'),\n",
       "       ('GOOG', '2021-12-08'), ('GOOG', '2021-12-09'),\n",
       "       ('GOOG', '2021-12-10'), ('GOOG', '2021-12-13'),\n",
       "       ('GOOG', '2021-12-14'), ('GOOG', '2021-12-15'),\n",
       "       ('GOOG', '2021-12-16'), ('GOOG', '2021-12-17'),\n",
       "       ('GOOG', '2021-12-20'), ('GOOG', '2021-12-21'),\n",
       "       ('GOOG', '2021-12-22'), ('GOOG', '2021-12-23'),\n",
       "       ('GOOG', '2021-12-27'), ('GOOG', '2021-12-28'),\n",
       "       ('GOOG', '2021-12-29'), ('GOOG', '2021-12-30'),\n",
       "       ('GOOG', '2021-12-31'), ('GOOG', '2022-01-03'),\n",
       "       ('GOOG', '2022-01-04'), ('GOOG', '2022-01-05'),\n",
       "       ('GOOG', '2022-01-06'), ('GOOG', '2022-01-07'),\n",
       "       ('GOOG', '2022-01-10'), ('GOOG', '2022-01-11'),\n",
       "       ('GOOG', '2022-01-12'), ('GOOG', '2022-01-13'),\n",
       "       ('GOOG', '2022-01-14')], dtype=object)"
      ]
     },
     "execution_count": 27,
     "metadata": {},
     "output_type": "execute_result"
    }
   ],
   "source": [
    "# ищем дублирющиеся индексы - Гугл (так как 2 Гугл акции в индексе)\n",
    "Y[Y.index.duplicated()==True].index.values"
   ]
  },
  {
   "cell_type": "code",
   "execution_count": 28,
   "metadata": {},
   "outputs": [],
   "source": [
    "# remove duplicated indices in Y\n",
    "Y = Y[~Y.index.duplicated()]"
   ]
  },
  {
   "cell_type": "code",
   "execution_count": 31,
   "metadata": {},
   "outputs": [
    {
     "name": "stdout",
     "output_type": "stream",
     "text": [
      "False\n"
     ]
    },
    {
     "data": {
      "text/plain": [
       "((73145, 779), (73145,))"
      ]
     },
     "execution_count": 31,
     "metadata": {},
     "output_type": "execute_result"
    }
   ],
   "source": [
    "# проверяем что Гугл остался один и размерности совпадают\n",
    "print(Y.loc['GOOG','2019-01-28'])\n",
    "X.shape, Y.shape"
   ]
  },
  {
   "cell_type": "code",
   "execution_count": null,
   "metadata": {},
   "outputs": [
    {
     "data": {
      "text/plain": [
       "(('TMUS', '2021-12-28'), ('TMUS', '2021-12-28'))"
      ]
     },
     "execution_count": 169,
     "metadata": {},
     "output_type": "execute_result"
    }
   ],
   "source": [
    "i = 65000\n",
    "Y.index.values[i], X.iloc[i].name"
   ]
  },
  {
   "cell_type": "code",
   "execution_count": null,
   "metadata": {},
   "outputs": [
    {
     "data": {
      "text/plain": [
       "AAPL  2019-01-31    False\n",
       "      2019-02-01    False\n",
       "      2019-02-04    False\n",
       "      2019-02-05    False\n",
       "      2019-02-06    False\n",
       "                    ...  \n",
       "      2022-01-07    False\n",
       "      2022-01-10    False\n",
       "      2022-01-11    False\n",
       "      2022-01-12    False\n",
       "      2022-01-13    False\n",
       "Name: surges, Length: 746, dtype: object"
      ]
     },
     "execution_count": 179,
     "metadata": {},
     "output_type": "execute_result"
    }
   ],
   "source": [
    "Y[Y.index.get_level_values(0).isin(['AAPL'])]"
   ]
  },
  {
   "cell_type": "code",
   "execution_count": 33,
   "metadata": {},
   "outputs": [
    {
     "data": {
      "text/plain": [
       "Names  Date      \n",
       "ZS -   2022-01-13    NaN\n",
       "Name: surges, dtype: object"
      ]
     },
     "execution_count": 33,
     "metadata": {},
     "output_type": "execute_result"
    }
   ],
   "source": [
    "# select_features выдает ошибку - возможно из-за NaN в Y\n",
    "Y[Y.isna()]"
   ]
  },
  {
   "cell_type": "code",
   "execution_count": 34,
   "metadata": {},
   "outputs": [
    {
     "data": {
      "text/plain": [
       "((73144, 779), (73144,))"
      ]
     },
     "execution_count": 34,
     "metadata": {},
     "output_type": "execute_result"
    }
   ],
   "source": [
    "#удаляем посл строку с NaN\n",
    "Y = Y[:-1]\n",
    "X = X[:-1]\n",
    "X.shape, Y.shape "
   ]
  },
  {
   "cell_type": "code",
   "execution_count": 37,
   "metadata": {},
   "outputs": [
    {
     "name": "stderr",
     "output_type": "stream",
     "text": [
      "/Users/oslikdau/miniforge3/envs/time-series/lib/python3.8/site-packages/statsmodels/tools/_testing.py:19: FutureWarning: pandas.util.testing is deprecated. Use the functions in the public API at pandas.testing instead.\n",
      "  import pandas.util.testing as tm\n",
      "/Users/oslikdau/miniforge3/envs/time-series/lib/python3.8/site-packages/statsmodels/tools/_testing.py:19: FutureWarning: pandas.util.testing is deprecated. Use the functions in the public API at pandas.testing instead.\n",
      "  import pandas.util.testing as tm\n",
      "/Users/oslikdau/miniforge3/envs/time-series/lib/python3.8/site-packages/statsmodels/tools/_testing.py:19: FutureWarning: pandas.util.testing is deprecated. Use the functions in the public API at pandas.testing instead.\n",
      "  import pandas.util.testing as tm\n",
      "/Users/oslikdau/miniforge3/envs/time-series/lib/python3.8/site-packages/statsmodels/tools/_testing.py:19: FutureWarning: pandas.util.testing is deprecated. Use the functions in the public API at pandas.testing instead.\n",
      "  import pandas.util.testing as tm\n",
      "/Users/oslikdau/miniforge3/envs/time-series/lib/python3.8/site-packages/statsmodels/tsa/base/tsa_model.py:8: FutureWarning: pandas.Int64Index is deprecated and will be removed from pandas in a future version. Use pandas.Index with the appropriate dtype instead.\n",
      "  from pandas import (to_datetime, Int64Index, DatetimeIndex, Period,\n",
      "/Users/oslikdau/miniforge3/envs/time-series/lib/python3.8/site-packages/statsmodels/tsa/base/tsa_model.py:8: FutureWarning: pandas.Int64Index is deprecated and will be removed from pandas in a future version. Use pandas.Index with the appropriate dtype instead.\n",
      "  from pandas import (to_datetime, Int64Index, DatetimeIndex, Period,\n",
      "/Users/oslikdau/miniforge3/envs/time-series/lib/python3.8/site-packages/statsmodels/tsa/base/tsa_model.py:8: FutureWarning: pandas.Int64Index is deprecated and will be removed from pandas in a future version. Use pandas.Index with the appropriate dtype instead.\n",
      "  from pandas import (to_datetime, Int64Index, DatetimeIndex, Period,\n",
      "/Users/oslikdau/miniforge3/envs/time-series/lib/python3.8/site-packages/statsmodels/tsa/base/tsa_model.py:8: FutureWarning: pandas.Int64Index is deprecated and will be removed from pandas in a future version. Use pandas.Index with the appropriate dtype instead.\n",
      "  from pandas import (to_datetime, Int64Index, DatetimeIndex, Period,\n",
      "/Users/oslikdau/miniforge3/envs/time-series/lib/python3.8/site-packages/statsmodels/tsa/base/tsa_model.py:8: FutureWarning: pandas.Float64Index is deprecated and will be removed from pandas in a future version. Use pandas.Index with the appropriate dtype instead.\n",
      "  from pandas import (to_datetime, Int64Index, DatetimeIndex, Period,\n",
      "/Users/oslikdau/miniforge3/envs/time-series/lib/python3.8/site-packages/statsmodels/tsa/base/tsa_model.py:8: FutureWarning: pandas.Float64Index is deprecated and will be removed from pandas in a future version. Use pandas.Index with the appropriate dtype instead.\n",
      "  from pandas import (to_datetime, Int64Index, DatetimeIndex, Period,\n",
      "/Users/oslikdau/miniforge3/envs/time-series/lib/python3.8/site-packages/statsmodels/tsa/base/tsa_model.py:8: FutureWarning: pandas.Float64Index is deprecated and will be removed from pandas in a future version. Use pandas.Index with the appropriate dtype instead.\n",
      "  from pandas import (to_datetime, Int64Index, DatetimeIndex, Period,\n",
      "/Users/oslikdau/miniforge3/envs/time-series/lib/python3.8/site-packages/statsmodels/tsa/base/tsa_model.py:8: FutureWarning: pandas.Float64Index is deprecated and will be removed from pandas in a future version. Use pandas.Index with the appropriate dtype instead.\n",
      "  from pandas import (to_datetime, Int64Index, DatetimeIndex, Period,\n",
      "/Users/oslikdau/miniforge3/envs/time-series/lib/python3.8/site-packages/dask/dataframe/utils.py:366: FutureWarning: pandas.Int64Index is deprecated and will be removed from pandas in a future version. Use pandas.Index with the appropriate dtype instead.\n",
      "  _numeric_index_types = (pd.Int64Index, pd.Float64Index, pd.UInt64Index)\n",
      "/Users/oslikdau/miniforge3/envs/time-series/lib/python3.8/site-packages/dask/dataframe/utils.py:366: FutureWarning: pandas.Float64Index is deprecated and will be removed from pandas in a future version. Use pandas.Index with the appropriate dtype instead.\n",
      "  _numeric_index_types = (pd.Int64Index, pd.Float64Index, pd.UInt64Index)\n",
      "/Users/oslikdau/miniforge3/envs/time-series/lib/python3.8/site-packages/dask/dataframe/utils.py:366: FutureWarning: pandas.UInt64Index is deprecated and will be removed from pandas in a future version. Use pandas.Index with the appropriate dtype instead.\n",
      "  _numeric_index_types = (pd.Int64Index, pd.Float64Index, pd.UInt64Index)\n",
      "/Users/oslikdau/miniforge3/envs/time-series/lib/python3.8/site-packages/dask/dataframe/utils.py:366: FutureWarning: pandas.Int64Index is deprecated and will be removed from pandas in a future version. Use pandas.Index with the appropriate dtype instead.\n",
      "  _numeric_index_types = (pd.Int64Index, pd.Float64Index, pd.UInt64Index)\n",
      "/Users/oslikdau/miniforge3/envs/time-series/lib/python3.8/site-packages/dask/dataframe/utils.py:366: FutureWarning: pandas.Float64Index is deprecated and will be removed from pandas in a future version. Use pandas.Index with the appropriate dtype instead.\n",
      "  _numeric_index_types = (pd.Int64Index, pd.Float64Index, pd.UInt64Index)\n",
      "/Users/oslikdau/miniforge3/envs/time-series/lib/python3.8/site-packages/dask/dataframe/utils.py:366: FutureWarning: pandas.UInt64Index is deprecated and will be removed from pandas in a future version. Use pandas.Index with the appropriate dtype instead.\n",
      "  _numeric_index_types = (pd.Int64Index, pd.Float64Index, pd.UInt64Index)\n",
      "/Users/oslikdau/miniforge3/envs/time-series/lib/python3.8/site-packages/dask/dataframe/utils.py:366: FutureWarning: pandas.Int64Index is deprecated and will be removed from pandas in a future version. Use pandas.Index with the appropriate dtype instead.\n",
      "  _numeric_index_types = (pd.Int64Index, pd.Float64Index, pd.UInt64Index)\n",
      "/Users/oslikdau/miniforge3/envs/time-series/lib/python3.8/site-packages/dask/dataframe/utils.py:366: FutureWarning: pandas.Float64Index is deprecated and will be removed from pandas in a future version. Use pandas.Index with the appropriate dtype instead.\n",
      "  _numeric_index_types = (pd.Int64Index, pd.Float64Index, pd.UInt64Index)\n",
      "/Users/oslikdau/miniforge3/envs/time-series/lib/python3.8/site-packages/dask/dataframe/utils.py:366: FutureWarning: pandas.UInt64Index is deprecated and will be removed from pandas in a future version. Use pandas.Index with the appropriate dtype instead.\n",
      "  _numeric_index_types = (pd.Int64Index, pd.Float64Index, pd.UInt64Index)\n",
      "/Users/oslikdau/miniforge3/envs/time-series/lib/python3.8/site-packages/dask/dataframe/utils.py:366: FutureWarning: pandas.Int64Index is deprecated and will be removed from pandas in a future version. Use pandas.Index with the appropriate dtype instead.\n",
      "  _numeric_index_types = (pd.Int64Index, pd.Float64Index, pd.UInt64Index)\n",
      "/Users/oslikdau/miniforge3/envs/time-series/lib/python3.8/site-packages/dask/dataframe/utils.py:366: FutureWarning: pandas.Float64Index is deprecated and will be removed from pandas in a future version. Use pandas.Index with the appropriate dtype instead.\n",
      "  _numeric_index_types = (pd.Int64Index, pd.Float64Index, pd.UInt64Index)\n",
      "/Users/oslikdau/miniforge3/envs/time-series/lib/python3.8/site-packages/dask/dataframe/utils.py:366: FutureWarning: pandas.UInt64Index is deprecated and will be removed from pandas in a future version. Use pandas.Index with the appropriate dtype instead.\n",
      "  _numeric_index_types = (pd.Int64Index, pd.Float64Index, pd.UInt64Index)\n"
     ]
    }
   ],
   "source": [
    "# X_selected = select_features(X.reset_index(drop=True), Y.reset_index(drop=True))\n",
    "X_selected = select_features(X, Y)"
   ]
  },
  {
   "cell_type": "code",
   "execution_count": 38,
   "metadata": {},
   "outputs": [
    {
     "data": {
      "text/plain": [
       "((73144, 280), (73144,))"
      ]
     },
     "execution_count": 38,
     "metadata": {},
     "output_type": "execute_result"
    }
   ],
   "source": [
    "X_selected.shape, Y.shape"
   ]
  },
  {
   "cell_type": "code",
   "execution_count": 39,
   "metadata": {},
   "outputs": [],
   "source": [
    "Y = Y.astype('int')"
   ]
  },
  {
   "cell_type": "code",
   "execution_count": 40,
   "metadata": {},
   "outputs": [
    {
     "data": {
      "text/plain": [
       "(('ATVI', '2019-04-01'), ('ATVI', '2019-04-01'))"
      ]
     },
     "execution_count": 40,
     "metadata": {},
     "output_type": "execute_result"
    }
   ],
   "source": [
    "X.index.values[10000], Y.index.values[10000]"
   ]
  },
  {
   "cell_type": "code",
   "execution_count": 48,
   "metadata": {},
   "outputs": [
    {
     "data": {
      "text/html": [
       "<div>\n",
       "<style scoped>\n",
       "    .dataframe tbody tr th:only-of-type {\n",
       "        vertical-align: middle;\n",
       "    }\n",
       "\n",
       "    .dataframe tbody tr th {\n",
       "        vertical-align: top;\n",
       "    }\n",
       "\n",
       "    .dataframe thead th {\n",
       "        text-align: right;\n",
       "    }\n",
       "</style>\n",
       "<table border=\"1\" class=\"dataframe\">\n",
       "  <thead>\n",
       "    <tr style=\"text-align: right;\">\n",
       "      <th></th>\n",
       "      <th></th>\n",
       "      <th>close_dif__variance_larger_than_standard_deviation</th>\n",
       "      <th>close_dif__has_duplicate_max</th>\n",
       "      <th>close_dif__has_duplicate_min</th>\n",
       "      <th>close_dif__has_duplicate</th>\n",
       "      <th>close_dif__sum_values</th>\n",
       "      <th>close_dif__abs_energy</th>\n",
       "      <th>close_dif__mean_abs_change</th>\n",
       "      <th>close_dif__mean_change</th>\n",
       "      <th>close_dif__mean_second_derivative_central</th>\n",
       "      <th>close_dif__median</th>\n",
       "      <th>...</th>\n",
       "      <th>close_dif__fourier_entropy__bins_2</th>\n",
       "      <th>close_dif__fourier_entropy__bins_3</th>\n",
       "      <th>close_dif__fourier_entropy__bins_5</th>\n",
       "      <th>close_dif__fourier_entropy__bins_10</th>\n",
       "      <th>close_dif__fourier_entropy__bins_100</th>\n",
       "      <th>close_dif__permutation_entropy__dimension_3__tau_1</th>\n",
       "      <th>close_dif__permutation_entropy__dimension_4__tau_1</th>\n",
       "      <th>close_dif__permutation_entropy__dimension_5__tau_1</th>\n",
       "      <th>close_dif__permutation_entropy__dimension_6__tau_1</th>\n",
       "      <th>close_dif__permutation_entropy__dimension_7__tau_1</th>\n",
       "    </tr>\n",
       "  </thead>\n",
       "  <tbody>\n",
       "    <tr>\n",
       "      <th rowspan=\"3\" valign=\"top\">AAPL</th>\n",
       "      <th>2019-01-31</th>\n",
       "      <td>0.0</td>\n",
       "      <td>0.0</td>\n",
       "      <td>0.0</td>\n",
       "      <td>0.0</td>\n",
       "      <td>0.063889</td>\n",
       "      <td>0.019972</td>\n",
       "      <td>0.034253</td>\n",
       "      <td>0.000303</td>\n",
       "      <td>0.001043</td>\n",
       "      <td>0.004044</td>\n",
       "      <td>...</td>\n",
       "      <td>0.585953</td>\n",
       "      <td>0.585953</td>\n",
       "      <td>1.168518</td>\n",
       "      <td>1.540306</td>\n",
       "      <td>2.271869</td>\n",
       "      <td>1.559087</td>\n",
       "      <td>2.505290</td>\n",
       "      <td>2.833213</td>\n",
       "      <td>2.772589</td>\n",
       "      <td>2.70805</td>\n",
       "    </tr>\n",
       "    <tr>\n",
       "      <th>2019-02-01</th>\n",
       "      <td>0.0</td>\n",
       "      <td>0.0</td>\n",
       "      <td>0.0</td>\n",
       "      <td>0.0</td>\n",
       "      <td>0.063229</td>\n",
       "      <td>0.019971</td>\n",
       "      <td>0.029552</td>\n",
       "      <td>0.005004</td>\n",
       "      <td>-0.003922</td>\n",
       "      <td>0.004044</td>\n",
       "      <td>...</td>\n",
       "      <td>0.585953</td>\n",
       "      <td>0.994924</td>\n",
       "      <td>1.414279</td>\n",
       "      <td>1.720193</td>\n",
       "      <td>2.397895</td>\n",
       "      <td>1.535191</td>\n",
       "      <td>2.399204</td>\n",
       "      <td>2.751667</td>\n",
       "      <td>2.772589</td>\n",
       "      <td>2.70805</td>\n",
       "    </tr>\n",
       "    <tr>\n",
       "      <th>2019-02-04</th>\n",
       "      <td>0.0</td>\n",
       "      <td>0.0</td>\n",
       "      <td>0.0</td>\n",
       "      <td>0.0</td>\n",
       "      <td>0.191241</td>\n",
       "      <td>0.010856</td>\n",
       "      <td>0.023833</td>\n",
       "      <td>-0.000714</td>\n",
       "      <td>0.001917</td>\n",
       "      <td>0.005938</td>\n",
       "      <td>...</td>\n",
       "      <td>0.585953</td>\n",
       "      <td>0.916465</td>\n",
       "      <td>1.414279</td>\n",
       "      <td>1.893788</td>\n",
       "      <td>2.145842</td>\n",
       "      <td>1.548489</td>\n",
       "      <td>2.399204</td>\n",
       "      <td>2.751667</td>\n",
       "      <td>2.772589</td>\n",
       "      <td>2.70805</td>\n",
       "    </tr>\n",
       "  </tbody>\n",
       "</table>\n",
       "<p>3 rows × 779 columns</p>\n",
       "</div>"
      ],
      "text/plain": [
       "                 close_dif__variance_larger_than_standard_deviation  \\\n",
       "AAPL 2019-01-31                                                0.0    \n",
       "     2019-02-01                                                0.0    \n",
       "     2019-02-04                                                0.0    \n",
       "\n",
       "                 close_dif__has_duplicate_max  close_dif__has_duplicate_min  \\\n",
       "AAPL 2019-01-31                           0.0                           0.0   \n",
       "     2019-02-01                           0.0                           0.0   \n",
       "     2019-02-04                           0.0                           0.0   \n",
       "\n",
       "                 close_dif__has_duplicate  close_dif__sum_values  \\\n",
       "AAPL 2019-01-31                       0.0               0.063889   \n",
       "     2019-02-01                       0.0               0.063229   \n",
       "     2019-02-04                       0.0               0.191241   \n",
       "\n",
       "                 close_dif__abs_energy  close_dif__mean_abs_change  \\\n",
       "AAPL 2019-01-31               0.019972                    0.034253   \n",
       "     2019-02-01               0.019971                    0.029552   \n",
       "     2019-02-04               0.010856                    0.023833   \n",
       "\n",
       "                 close_dif__mean_change  \\\n",
       "AAPL 2019-01-31                0.000303   \n",
       "     2019-02-01                0.005004   \n",
       "     2019-02-04               -0.000714   \n",
       "\n",
       "                 close_dif__mean_second_derivative_central  close_dif__median  \\\n",
       "AAPL 2019-01-31                                   0.001043           0.004044   \n",
       "     2019-02-01                                  -0.003922           0.004044   \n",
       "     2019-02-04                                   0.001917           0.005938   \n",
       "\n",
       "                 ...  close_dif__fourier_entropy__bins_2  \\\n",
       "AAPL 2019-01-31  ...                            0.585953   \n",
       "     2019-02-01  ...                            0.585953   \n",
       "     2019-02-04  ...                            0.585953   \n",
       "\n",
       "                 close_dif__fourier_entropy__bins_3  \\\n",
       "AAPL 2019-01-31                            0.585953   \n",
       "     2019-02-01                            0.994924   \n",
       "     2019-02-04                            0.916465   \n",
       "\n",
       "                 close_dif__fourier_entropy__bins_5  \\\n",
       "AAPL 2019-01-31                            1.168518   \n",
       "     2019-02-01                            1.414279   \n",
       "     2019-02-04                            1.414279   \n",
       "\n",
       "                 close_dif__fourier_entropy__bins_10  \\\n",
       "AAPL 2019-01-31                             1.540306   \n",
       "     2019-02-01                             1.720193   \n",
       "     2019-02-04                             1.893788   \n",
       "\n",
       "                 close_dif__fourier_entropy__bins_100  \\\n",
       "AAPL 2019-01-31                              2.271869   \n",
       "     2019-02-01                              2.397895   \n",
       "     2019-02-04                              2.145842   \n",
       "\n",
       "                 close_dif__permutation_entropy__dimension_3__tau_1  \\\n",
       "AAPL 2019-01-31                                           1.559087    \n",
       "     2019-02-01                                           1.535191    \n",
       "     2019-02-04                                           1.548489    \n",
       "\n",
       "                 close_dif__permutation_entropy__dimension_4__tau_1  \\\n",
       "AAPL 2019-01-31                                           2.505290    \n",
       "     2019-02-01                                           2.399204    \n",
       "     2019-02-04                                           2.399204    \n",
       "\n",
       "                 close_dif__permutation_entropy__dimension_5__tau_1  \\\n",
       "AAPL 2019-01-31                                           2.833213    \n",
       "     2019-02-01                                           2.751667    \n",
       "     2019-02-04                                           2.751667    \n",
       "\n",
       "                 close_dif__permutation_entropy__dimension_6__tau_1  \\\n",
       "AAPL 2019-01-31                                           2.772589    \n",
       "     2019-02-01                                           2.772589    \n",
       "     2019-02-04                                           2.772589    \n",
       "\n",
       "                 close_dif__permutation_entropy__dimension_7__tau_1  \n",
       "AAPL 2019-01-31                                            2.70805   \n",
       "     2019-02-01                                            2.70805   \n",
       "     2019-02-04                                            2.70805   \n",
       "\n",
       "[3 rows x 779 columns]"
      ]
     },
     "execution_count": 48,
     "metadata": {},
     "output_type": "execute_result"
    }
   ],
   "source": [
    "X.head(3)"
   ]
  },
  {
   "cell_type": "code",
   "execution_count": 53,
   "metadata": {},
   "outputs": [
    {
     "data": {
      "text/plain": [
       "16.049163294323527"
      ]
     },
     "execution_count": 53,
     "metadata": {},
     "output_type": "execute_result"
    }
   ],
   "source": [
    "# %-age of surges in sample\n",
    "Y.sum()/Y.count()*100"
   ]
  },
  {
   "cell_type": "code",
   "execution_count": 54,
   "metadata": {},
   "outputs": [],
   "source": [
    "X.to_csv('X_2019_aligned.csv')\n",
    "Y.to_csv('Y_2019_aligned.csv')"
   ]
  },
  {
   "cell_type": "code",
   "execution_count": 123,
   "metadata": {},
   "outputs": [
    {
     "data": {
      "text/plain": [
       "Names  Date      \n",
       "AAPL   2019-01-31    0\n",
       "       2019-02-01    0\n",
       "       2019-02-04    0\n",
       "       2019-02-05    0\n",
       "       2019-02-06    0\n",
       "                    ..\n",
       "ZS -   2022-01-06    0\n",
       "       2022-01-07    1\n",
       "       2022-01-10    0\n",
       "       2022-01-11    0\n",
       "       2022-01-12    1\n",
       "Name: surges, Length: 73144, dtype: int64"
      ]
     },
     "execution_count": 123,
     "metadata": {},
     "output_type": "execute_result"
    }
   ],
   "source": [
    "Y"
   ]
  },
  {
   "cell_type": "markdown",
   "metadata": {},
   "source": [
    "## Making -1/0/1 classification"
   ]
  },
  {
   "cell_type": "code",
   "execution_count": 127,
   "metadata": {},
   "outputs": [
    {
     "name": "stderr",
     "output_type": "stream",
     "text": [
      "/var/folders/00/jtb7c8xn51902fgjqt4qh5h80000gp/T/ipykernel_79976/2176757526.py:2: SettingWithCopyWarning: \n",
      "A value is trying to be set on a copy of a slice from a DataFrame\n",
      "\n",
      "See the caveats in the documentation: https://pandas.pydata.org/pandas-docs/stable/user_guide/indexing.html#returning-a-view-versus-a-copy\n",
      "  df_all_2019['surge1'][(df_all_2019['surges'] == True) & (df_all_2019['close_dif']>0)] = 1\n",
      "/var/folders/00/jtb7c8xn51902fgjqt4qh5h80000gp/T/ipykernel_79976/2176757526.py:3: SettingWithCopyWarning: \n",
      "A value is trying to be set on a copy of a slice from a DataFrame\n",
      "\n",
      "See the caveats in the documentation: https://pandas.pydata.org/pandas-docs/stable/user_guide/indexing.html#returning-a-view-versus-a-copy\n",
      "  df_all_2019['surge1'][(df_all_2019['surges'] == True) & (df_all_2019['close_dif']<0)] = -1\n"
     ]
    },
    {
     "data": {
      "text/html": [
       "<div>\n",
       "<style scoped>\n",
       "    .dataframe tbody tr th:only-of-type {\n",
       "        vertical-align: middle;\n",
       "    }\n",
       "\n",
       "    .dataframe tbody tr th {\n",
       "        vertical-align: top;\n",
       "    }\n",
       "\n",
       "    .dataframe thead th {\n",
       "        text-align: right;\n",
       "    }\n",
       "</style>\n",
       "<table border=\"1\" class=\"dataframe\">\n",
       "  <thead>\n",
       "    <tr style=\"text-align: right;\">\n",
       "      <th></th>\n",
       "      <th></th>\n",
       "      <th>Open</th>\n",
       "      <th>High</th>\n",
       "      <th>Low</th>\n",
       "      <th>Close</th>\n",
       "      <th>Volume</th>\n",
       "      <th>close_dif</th>\n",
       "      <th>surges</th>\n",
       "      <th>surge1</th>\n",
       "    </tr>\n",
       "    <tr>\n",
       "      <th>Names</th>\n",
       "      <th>Date</th>\n",
       "      <th></th>\n",
       "      <th></th>\n",
       "      <th></th>\n",
       "      <th></th>\n",
       "      <th></th>\n",
       "      <th></th>\n",
       "      <th></th>\n",
       "      <th></th>\n",
       "    </tr>\n",
       "  </thead>\n",
       "  <tbody>\n",
       "    <tr>\n",
       "      <th rowspan=\"5\" valign=\"top\">AAPL</th>\n",
       "      <th>2019-01-02</th>\n",
       "      <td>37.590927</td>\n",
       "      <td>38.551998</td>\n",
       "      <td>37.430747</td>\n",
       "      <td>38.326290</td>\n",
       "      <td>148158800.0</td>\n",
       "      <td>0.001141</td>\n",
       "      <td>False</td>\n",
       "      <td>0</td>\n",
       "    </tr>\n",
       "    <tr>\n",
       "      <th>2019-01-03</th>\n",
       "      <td>34.943134</td>\n",
       "      <td>35.365424</td>\n",
       "      <td>34.462600</td>\n",
       "      <td>34.508713</td>\n",
       "      <td>365248800.0</td>\n",
       "      <td>-0.099607</td>\n",
       "      <td>True</td>\n",
       "      <td>-1</td>\n",
       "    </tr>\n",
       "    <tr>\n",
       "      <th>2019-01-04</th>\n",
       "      <td>35.076616</td>\n",
       "      <td>36.052248</td>\n",
       "      <td>34.899450</td>\n",
       "      <td>35.981865</td>\n",
       "      <td>234428400.0</td>\n",
       "      <td>0.042689</td>\n",
       "      <td>True</td>\n",
       "      <td>1</td>\n",
       "    </tr>\n",
       "    <tr>\n",
       "      <th>2019-01-07</th>\n",
       "      <td>36.088647</td>\n",
       "      <td>36.120199</td>\n",
       "      <td>35.409102</td>\n",
       "      <td>35.901772</td>\n",
       "      <td>219111200.0</td>\n",
       "      <td>-0.002226</td>\n",
       "      <td>False</td>\n",
       "      <td>0</td>\n",
       "    </tr>\n",
       "    <tr>\n",
       "      <th>2019-01-08</th>\n",
       "      <td>36.297360</td>\n",
       "      <td>36.845851</td>\n",
       "      <td>36.044959</td>\n",
       "      <td>36.586166</td>\n",
       "      <td>164101200.0</td>\n",
       "      <td>0.019063</td>\n",
       "      <td>False</td>\n",
       "      <td>0</td>\n",
       "    </tr>\n",
       "    <tr>\n",
       "      <th>...</th>\n",
       "      <th>...</th>\n",
       "      <td>...</td>\n",
       "      <td>...</td>\n",
       "      <td>...</td>\n",
       "      <td>...</td>\n",
       "      <td>...</td>\n",
       "      <td>...</td>\n",
       "      <td>...</td>\n",
       "      <td>...</td>\n",
       "    </tr>\n",
       "    <tr>\n",
       "      <th rowspan=\"5\" valign=\"top\">ZS -</th>\n",
       "      <th>2022-01-07</th>\n",
       "      <td>258.380005</td>\n",
       "      <td>268.359985</td>\n",
       "      <td>254.350998</td>\n",
       "      <td>261.529999</td>\n",
       "      <td>1695800.0</td>\n",
       "      <td>0.005073</td>\n",
       "      <td>False</td>\n",
       "      <td>0</td>\n",
       "    </tr>\n",
       "    <tr>\n",
       "      <th>2022-01-10</th>\n",
       "      <td>254.500000</td>\n",
       "      <td>276.019989</td>\n",
       "      <td>249.009995</td>\n",
       "      <td>275.649994</td>\n",
       "      <td>4333300.0</td>\n",
       "      <td>0.053990</td>\n",
       "      <td>True</td>\n",
       "      <td>1</td>\n",
       "    </tr>\n",
       "    <tr>\n",
       "      <th>2022-01-11</th>\n",
       "      <td>270.450012</td>\n",
       "      <td>281.369995</td>\n",
       "      <td>267.329987</td>\n",
       "      <td>277.529999</td>\n",
       "      <td>1517900.0</td>\n",
       "      <td>0.006820</td>\n",
       "      <td>False</td>\n",
       "      <td>0</td>\n",
       "    </tr>\n",
       "    <tr>\n",
       "      <th>2022-01-12</th>\n",
       "      <td>283.109985</td>\n",
       "      <td>288.609985</td>\n",
       "      <td>272.880005</td>\n",
       "      <td>273.980011</td>\n",
       "      <td>1881000.0</td>\n",
       "      <td>-0.012791</td>\n",
       "      <td>False</td>\n",
       "      <td>0</td>\n",
       "    </tr>\n",
       "    <tr>\n",
       "      <th>2022-01-13</th>\n",
       "      <td>274.649994</td>\n",
       "      <td>277.269989</td>\n",
       "      <td>250.320007</td>\n",
       "      <td>250.470001</td>\n",
       "      <td>3130400.0</td>\n",
       "      <td>-0.085809</td>\n",
       "      <td>True</td>\n",
       "      <td>-1</td>\n",
       "    </tr>\n",
       "  </tbody>\n",
       "</table>\n",
       "<p>75902 rows × 8 columns</p>\n",
       "</div>"
      ],
      "text/plain": [
       "                        Open        High         Low       Close       Volume  \\\n",
       "Names Date                                                                      \n",
       "AAPL  2019-01-02   37.590927   38.551998   37.430747   38.326290  148158800.0   \n",
       "      2019-01-03   34.943134   35.365424   34.462600   34.508713  365248800.0   \n",
       "      2019-01-04   35.076616   36.052248   34.899450   35.981865  234428400.0   \n",
       "      2019-01-07   36.088647   36.120199   35.409102   35.901772  219111200.0   \n",
       "      2019-01-08   36.297360   36.845851   36.044959   36.586166  164101200.0   \n",
       "...                      ...         ...         ...         ...          ...   \n",
       "ZS -  2022-01-07  258.380005  268.359985  254.350998  261.529999    1695800.0   \n",
       "      2022-01-10  254.500000  276.019989  249.009995  275.649994    4333300.0   \n",
       "      2022-01-11  270.450012  281.369995  267.329987  277.529999    1517900.0   \n",
       "      2022-01-12  283.109985  288.609985  272.880005  273.980011    1881000.0   \n",
       "      2022-01-13  274.649994  277.269989  250.320007  250.470001    3130400.0   \n",
       "\n",
       "                  close_dif  surges  surge1  \n",
       "Names Date                                   \n",
       "AAPL  2019-01-02   0.001141   False       0  \n",
       "      2019-01-03  -0.099607    True      -1  \n",
       "      2019-01-04   0.042689    True       1  \n",
       "      2019-01-07  -0.002226   False       0  \n",
       "      2019-01-08   0.019063   False       0  \n",
       "...                     ...     ...     ...  \n",
       "ZS -  2022-01-07   0.005073   False       0  \n",
       "      2022-01-10   0.053990    True       1  \n",
       "      2022-01-11   0.006820   False       0  \n",
       "      2022-01-12  -0.012791   False       0  \n",
       "      2022-01-13  -0.085809    True      -1  \n",
       "\n",
       "[75902 rows x 8 columns]"
      ]
     },
     "execution_count": 127,
     "metadata": {},
     "output_type": "execute_result"
    }
   ],
   "source": [
    "df_all_2019['surge1'] = 0\n",
    "df_all_2019['surge1'][(df_all_2019['surges'] == True) & (df_all_2019['close_dif']>0)] = 1\n",
    "df_all_2019['surge1'][(df_all_2019['surges'] == True) & (df_all_2019['close_dif']<0)] = -1\n",
    "df_all_2019"
   ]
  },
  {
   "cell_type": "code",
   "execution_count": 128,
   "metadata": {},
   "outputs": [],
   "source": [
    "df_all_2019.sort_index(inplace=True)"
   ]
  },
  {
   "cell_type": "code",
   "execution_count": 186,
   "metadata": {},
   "outputs": [
    {
     "data": {
      "text/html": [
       "<div>\n",
       "<style scoped>\n",
       "    .dataframe tbody tr th:only-of-type {\n",
       "        vertical-align: middle;\n",
       "    }\n",
       "\n",
       "    .dataframe tbody tr th {\n",
       "        vertical-align: top;\n",
       "    }\n",
       "\n",
       "    .dataframe thead th {\n",
       "        text-align: right;\n",
       "    }\n",
       "</style>\n",
       "<table border=\"1\" class=\"dataframe\">\n",
       "  <thead>\n",
       "    <tr style=\"text-align: right;\">\n",
       "      <th></th>\n",
       "      <th></th>\n",
       "      <th>Open</th>\n",
       "      <th>High</th>\n",
       "      <th>Low</th>\n",
       "      <th>Close</th>\n",
       "      <th>Volume</th>\n",
       "      <th>close_dif</th>\n",
       "      <th>Y_bin</th>\n",
       "      <th>Y_3cl</th>\n",
       "      <th>Y_3cl_tomorrow</th>\n",
       "    </tr>\n",
       "    <tr>\n",
       "      <th>Names</th>\n",
       "      <th>Date</th>\n",
       "      <th></th>\n",
       "      <th></th>\n",
       "      <th></th>\n",
       "      <th></th>\n",
       "      <th></th>\n",
       "      <th></th>\n",
       "      <th></th>\n",
       "      <th></th>\n",
       "      <th></th>\n",
       "    </tr>\n",
       "  </thead>\n",
       "  <tbody>\n",
       "    <tr>\n",
       "      <th rowspan=\"5\" valign=\"top\">AAPL</th>\n",
       "      <th>2019-01-02</th>\n",
       "      <td>37.590927</td>\n",
       "      <td>38.551998</td>\n",
       "      <td>37.430747</td>\n",
       "      <td>38.326290</td>\n",
       "      <td>148158800.0</td>\n",
       "      <td>0.001141</td>\n",
       "      <td>False</td>\n",
       "      <td>0</td>\n",
       "      <td>-1.0</td>\n",
       "    </tr>\n",
       "    <tr>\n",
       "      <th>2019-01-03</th>\n",
       "      <td>34.943134</td>\n",
       "      <td>35.365424</td>\n",
       "      <td>34.462600</td>\n",
       "      <td>34.508713</td>\n",
       "      <td>365248800.0</td>\n",
       "      <td>-0.099607</td>\n",
       "      <td>True</td>\n",
       "      <td>-1</td>\n",
       "      <td>1.0</td>\n",
       "    </tr>\n",
       "    <tr>\n",
       "      <th>2019-01-04</th>\n",
       "      <td>35.076616</td>\n",
       "      <td>36.052248</td>\n",
       "      <td>34.899450</td>\n",
       "      <td>35.981865</td>\n",
       "      <td>234428400.0</td>\n",
       "      <td>0.042689</td>\n",
       "      <td>True</td>\n",
       "      <td>1</td>\n",
       "      <td>0.0</td>\n",
       "    </tr>\n",
       "    <tr>\n",
       "      <th>2019-01-07</th>\n",
       "      <td>36.088647</td>\n",
       "      <td>36.120199</td>\n",
       "      <td>35.409102</td>\n",
       "      <td>35.901772</td>\n",
       "      <td>219111200.0</td>\n",
       "      <td>-0.002226</td>\n",
       "      <td>False</td>\n",
       "      <td>0</td>\n",
       "      <td>0.0</td>\n",
       "    </tr>\n",
       "    <tr>\n",
       "      <th>2019-01-08</th>\n",
       "      <td>36.297360</td>\n",
       "      <td>36.845851</td>\n",
       "      <td>36.044959</td>\n",
       "      <td>36.586166</td>\n",
       "      <td>164101200.0</td>\n",
       "      <td>0.019063</td>\n",
       "      <td>False</td>\n",
       "      <td>0</td>\n",
       "      <td>0.0</td>\n",
       "    </tr>\n",
       "    <tr>\n",
       "      <th>...</th>\n",
       "      <th>...</th>\n",
       "      <td>...</td>\n",
       "      <td>...</td>\n",
       "      <td>...</td>\n",
       "      <td>...</td>\n",
       "      <td>...</td>\n",
       "      <td>...</td>\n",
       "      <td>...</td>\n",
       "      <td>...</td>\n",
       "      <td>...</td>\n",
       "    </tr>\n",
       "    <tr>\n",
       "      <th rowspan=\"5\" valign=\"top\">ZS -</th>\n",
       "      <th>2022-01-07</th>\n",
       "      <td>258.380005</td>\n",
       "      <td>268.359985</td>\n",
       "      <td>254.350998</td>\n",
       "      <td>261.529999</td>\n",
       "      <td>1695800.0</td>\n",
       "      <td>0.005073</td>\n",
       "      <td>False</td>\n",
       "      <td>0</td>\n",
       "      <td>1.0</td>\n",
       "    </tr>\n",
       "    <tr>\n",
       "      <th>2022-01-10</th>\n",
       "      <td>254.500000</td>\n",
       "      <td>276.019989</td>\n",
       "      <td>249.009995</td>\n",
       "      <td>275.649994</td>\n",
       "      <td>4333300.0</td>\n",
       "      <td>0.053990</td>\n",
       "      <td>True</td>\n",
       "      <td>1</td>\n",
       "      <td>0.0</td>\n",
       "    </tr>\n",
       "    <tr>\n",
       "      <th>2022-01-11</th>\n",
       "      <td>270.450012</td>\n",
       "      <td>281.369995</td>\n",
       "      <td>267.329987</td>\n",
       "      <td>277.529999</td>\n",
       "      <td>1517900.0</td>\n",
       "      <td>0.006820</td>\n",
       "      <td>False</td>\n",
       "      <td>0</td>\n",
       "      <td>0.0</td>\n",
       "    </tr>\n",
       "    <tr>\n",
       "      <th>2022-01-12</th>\n",
       "      <td>283.109985</td>\n",
       "      <td>288.609985</td>\n",
       "      <td>272.880005</td>\n",
       "      <td>273.980011</td>\n",
       "      <td>1881000.0</td>\n",
       "      <td>-0.012791</td>\n",
       "      <td>False</td>\n",
       "      <td>0</td>\n",
       "      <td>-1.0</td>\n",
       "    </tr>\n",
       "    <tr>\n",
       "      <th>2022-01-13</th>\n",
       "      <td>274.649994</td>\n",
       "      <td>277.269989</td>\n",
       "      <td>250.320007</td>\n",
       "      <td>250.470001</td>\n",
       "      <td>3130400.0</td>\n",
       "      <td>-0.085809</td>\n",
       "      <td>True</td>\n",
       "      <td>-1</td>\n",
       "      <td>NaN</td>\n",
       "    </tr>\n",
       "  </tbody>\n",
       "</table>\n",
       "<p>75902 rows × 9 columns</p>\n",
       "</div>"
      ],
      "text/plain": [
       "                        Open        High         Low       Close       Volume  \\\n",
       "Names Date                                                                      \n",
       "AAPL  2019-01-02   37.590927   38.551998   37.430747   38.326290  148158800.0   \n",
       "      2019-01-03   34.943134   35.365424   34.462600   34.508713  365248800.0   \n",
       "      2019-01-04   35.076616   36.052248   34.899450   35.981865  234428400.0   \n",
       "      2019-01-07   36.088647   36.120199   35.409102   35.901772  219111200.0   \n",
       "      2019-01-08   36.297360   36.845851   36.044959   36.586166  164101200.0   \n",
       "...                      ...         ...         ...         ...          ...   \n",
       "ZS -  2022-01-07  258.380005  268.359985  254.350998  261.529999    1695800.0   \n",
       "      2022-01-10  254.500000  276.019989  249.009995  275.649994    4333300.0   \n",
       "      2022-01-11  270.450012  281.369995  267.329987  277.529999    1517900.0   \n",
       "      2022-01-12  283.109985  288.609985  272.880005  273.980011    1881000.0   \n",
       "      2022-01-13  274.649994  277.269989  250.320007  250.470001    3130400.0   \n",
       "\n",
       "                  close_dif  Y_bin  Y_3cl  Y_3cl_tomorrow  \n",
       "Names Date                                                 \n",
       "AAPL  2019-01-02   0.001141  False      0            -1.0  \n",
       "      2019-01-03  -0.099607   True     -1             1.0  \n",
       "      2019-01-04   0.042689   True      1             0.0  \n",
       "      2019-01-07  -0.002226  False      0             0.0  \n",
       "      2019-01-08   0.019063  False      0             0.0  \n",
       "...                     ...    ...    ...             ...  \n",
       "ZS -  2022-01-07   0.005073  False      0             1.0  \n",
       "      2022-01-10   0.053990   True      1             0.0  \n",
       "      2022-01-11   0.006820  False      0             0.0  \n",
       "      2022-01-12  -0.012791  False      0            -1.0  \n",
       "      2022-01-13  -0.085809   True     -1             NaN  \n",
       "\n",
       "[75902 rows x 9 columns]"
      ]
     },
     "execution_count": 186,
     "metadata": {},
     "output_type": "execute_result"
    }
   ],
   "source": [
    "df_all_2019['Y_3cl_tomorrow'] = df_all_2019['surge1'].shift(-1)\n",
    "df_all_2019.rename(columns={'surges':'Y_bin', 'surge1':'Y_3cl'}, inplace=True)\n",
    "df_all_2019"
   ]
  },
  {
   "cell_type": "code",
   "execution_count": 187,
   "metadata": {},
   "outputs": [],
   "source": [
    "df_all_2019.to_csv('df_all_2019_3cl.csv')"
   ]
  },
  {
   "cell_type": "code",
   "execution_count": 129,
   "metadata": {},
   "outputs": [
    {
     "data": {
      "text/plain": [
       "True"
      ]
     },
     "execution_count": 129,
     "metadata": {},
     "output_type": "execute_result"
    }
   ],
   "source": [
    "# проверяем, что индексы те же со сдвигом в окно (не так, потому что в X вырезались первые значения размером в окно)\n",
    "i=10\n",
    "X.iloc[i].name == df_all_2019.iloc[i+20].name"
   ]
  },
  {
   "cell_type": "code",
   "execution_count": 130,
   "metadata": {},
   "outputs": [],
   "source": [
    "# сдигаем вверх значения Y, то есть чтобы на каждый день стояло значение из завтра, которое и надо предсказать\n",
    "Y = df_all_2019['surge1'].shift(-1)"
   ]
  },
  {
   "cell_type": "code",
   "execution_count": 131,
   "metadata": {},
   "outputs": [
    {
     "data": {
      "text/plain": [
       "Names  Date      \n",
       "AAPL   2019-01-02   -1.0\n",
       "       2019-01-03    1.0\n",
       "       2019-01-04    0.0\n",
       "       2019-01-07    0.0\n",
       "       2019-01-08    0.0\n",
       "                    ... \n",
       "ZS -   2022-01-07    1.0\n",
       "       2022-01-10    0.0\n",
       "       2022-01-11    0.0\n",
       "       2022-01-12   -1.0\n",
       "       2022-01-13    NaN\n",
       "Name: surge1, Length: 75902, dtype: float64"
      ]
     },
     "execution_count": 131,
     "metadata": {},
     "output_type": "execute_result"
    }
   ],
   "source": [
    "Y"
   ]
  },
  {
   "cell_type": "code",
   "execution_count": 132,
   "metadata": {},
   "outputs": [],
   "source": [
    "# оставляем только пересекающиеся индексы\n",
    "Y = Y[Y.index.isin(X.index)]\n",
    "X = X[X.index.isin(Y.index)]"
   ]
  },
  {
   "cell_type": "code",
   "execution_count": 133,
   "metadata": {},
   "outputs": [
    {
     "data": {
      "text/plain": [
       "((73144, 779), (73901,))"
      ]
     },
     "execution_count": 133,
     "metadata": {},
     "output_type": "execute_result"
    }
   ],
   "source": [
    "# размерности не совпадают, хотя списки индексов одинаковые, значит есть дубли индексов\n",
    "X.shape, Y.shape"
   ]
  },
  {
   "cell_type": "code",
   "execution_count": 134,
   "metadata": {},
   "outputs": [
    {
     "name": "stdout",
     "output_type": "stream",
     "text": [
      "False\n"
     ]
    },
    {
     "data": {
      "text/plain": [
       "(('NVDA', '2020-11-20'), ('NXPI', '2020-12-08'))"
      ]
     },
     "execution_count": 134,
     "metadata": {},
     "output_type": "execute_result"
    }
   ],
   "source": [
    "i=50000\n",
    "print(X.iloc[i].name == Y.index.values[i])\n",
    "Y.index.values[i], X.iloc[i].name"
   ]
  },
  {
   "cell_type": "code",
   "execution_count": 135,
   "metadata": {},
   "outputs": [
    {
     "data": {
      "text/plain": [
       "array([('GOOG', '2019-01-16'), ('GOOG', '2019-01-17'),\n",
       "       ('GOOG', '2019-01-18'), ('GOOG', '2019-01-22'),\n",
       "       ('GOOG', '2019-01-23'), ('GOOG', '2019-01-24'),\n",
       "       ('GOOG', '2019-01-25'), ('GOOG', '2019-01-28'),\n",
       "       ('GOOG', '2019-01-29'), ('GOOG', '2019-01-30'),\n",
       "       ('GOOG', '2019-01-31'), ('GOOG', '2019-02-01'),\n",
       "       ('GOOG', '2019-02-04'), ('GOOG', '2019-02-05'),\n",
       "       ('GOOG', '2019-02-06'), ('GOOG', '2019-02-07'),\n",
       "       ('GOOG', '2019-02-08'), ('GOOG', '2019-02-11'),\n",
       "       ('GOOG', '2019-02-12'), ('GOOG', '2019-02-13'),\n",
       "       ('GOOG', '2019-02-14'), ('GOOG', '2019-02-15'),\n",
       "       ('GOOG', '2019-02-19'), ('GOOG', '2019-02-20'),\n",
       "       ('GOOG', '2019-02-21'), ('GOOG', '2019-02-22'),\n",
       "       ('GOOG', '2019-02-25'), ('GOOG', '2019-02-26'),\n",
       "       ('GOOG', '2019-02-27'), ('GOOG', '2019-02-28'),\n",
       "       ('GOOG', '2019-03-01'), ('GOOG', '2019-03-04'),\n",
       "       ('GOOG', '2019-03-05'), ('GOOG', '2019-03-06'),\n",
       "       ('GOOG', '2019-03-07'), ('GOOG', '2019-03-08'),\n",
       "       ('GOOG', '2019-03-11'), ('GOOG', '2019-03-12'),\n",
       "       ('GOOG', '2019-03-13'), ('GOOG', '2019-03-14'),\n",
       "       ('GOOG', '2019-03-15'), ('GOOG', '2019-03-18'),\n",
       "       ('GOOG', '2019-03-19'), ('GOOG', '2019-03-20'),\n",
       "       ('GOOG', '2019-03-21'), ('GOOG', '2019-03-22'),\n",
       "       ('GOOG', '2019-03-25'), ('GOOG', '2019-03-26'),\n",
       "       ('GOOG', '2019-03-27'), ('GOOG', '2019-03-28'),\n",
       "       ('GOOG', '2019-03-29'), ('GOOG', '2019-04-01'),\n",
       "       ('GOOG', '2019-04-02'), ('GOOG', '2019-04-03'),\n",
       "       ('GOOG', '2019-04-04'), ('GOOG', '2019-04-05'),\n",
       "       ('GOOG', '2019-04-08'), ('GOOG', '2019-04-09'),\n",
       "       ('GOOG', '2019-04-10'), ('GOOG', '2019-04-11'),\n",
       "       ('GOOG', '2019-04-12'), ('GOOG', '2019-04-15'),\n",
       "       ('GOOG', '2019-04-16'), ('GOOG', '2019-04-17'),\n",
       "       ('GOOG', '2019-04-18'), ('GOOG', '2019-04-22'),\n",
       "       ('GOOG', '2019-04-23'), ('GOOG', '2019-04-24'),\n",
       "       ('GOOG', '2019-04-25'), ('GOOG', '2019-04-26'),\n",
       "       ('GOOG', '2019-04-29'), ('GOOG', '2019-04-30'),\n",
       "       ('GOOG', '2019-05-01'), ('GOOG', '2019-05-02'),\n",
       "       ('GOOG', '2019-05-03'), ('GOOG', '2019-05-06'),\n",
       "       ('GOOG', '2019-05-07'), ('GOOG', '2019-05-08'),\n",
       "       ('GOOG', '2019-05-09'), ('GOOG', '2019-05-10'),\n",
       "       ('GOOG', '2019-05-13'), ('GOOG', '2019-05-14'),\n",
       "       ('GOOG', '2019-05-15'), ('GOOG', '2019-05-16'),\n",
       "       ('GOOG', '2019-05-17'), ('GOOG', '2019-05-20'),\n",
       "       ('GOOG', '2019-05-21'), ('GOOG', '2019-05-22'),\n",
       "       ('GOOG', '2019-05-23'), ('GOOG', '2019-05-24'),\n",
       "       ('GOOG', '2019-05-28'), ('GOOG', '2019-05-29'),\n",
       "       ('GOOG', '2019-05-30'), ('GOOG', '2019-05-31'),\n",
       "       ('GOOG', '2019-06-03'), ('GOOG', '2019-06-04'),\n",
       "       ('GOOG', '2019-06-05'), ('GOOG', '2019-06-06'),\n",
       "       ('GOOG', '2019-06-07'), ('GOOG', '2019-06-10'),\n",
       "       ('GOOG', '2019-06-11'), ('GOOG', '2019-06-12'),\n",
       "       ('GOOG', '2019-06-13'), ('GOOG', '2019-06-14'),\n",
       "       ('GOOG', '2019-06-17'), ('GOOG', '2019-06-18'),\n",
       "       ('GOOG', '2019-06-19'), ('GOOG', '2019-06-20'),\n",
       "       ('GOOG', '2019-06-21'), ('GOOG', '2019-06-24'),\n",
       "       ('GOOG', '2019-06-25'), ('GOOG', '2019-06-26'),\n",
       "       ('GOOG', '2019-06-27'), ('GOOG', '2019-06-28'),\n",
       "       ('GOOG', '2019-07-01'), ('GOOG', '2019-07-02'),\n",
       "       ('GOOG', '2019-07-03'), ('GOOG', '2019-07-05'),\n",
       "       ('GOOG', '2019-07-08'), ('GOOG', '2019-07-09'),\n",
       "       ('GOOG', '2019-07-10'), ('GOOG', '2019-07-11'),\n",
       "       ('GOOG', '2019-07-12'), ('GOOG', '2019-07-15'),\n",
       "       ('GOOG', '2019-07-16'), ('GOOG', '2019-07-17'),\n",
       "       ('GOOG', '2019-07-18'), ('GOOG', '2019-07-19'),\n",
       "       ('GOOG', '2019-07-22'), ('GOOG', '2019-07-23'),\n",
       "       ('GOOG', '2019-07-24'), ('GOOG', '2019-07-25'),\n",
       "       ('GOOG', '2019-07-26'), ('GOOG', '2019-07-29'),\n",
       "       ('GOOG', '2019-07-30'), ('GOOG', '2019-07-31'),\n",
       "       ('GOOG', '2019-08-01'), ('GOOG', '2019-08-02'),\n",
       "       ('GOOG', '2019-08-05'), ('GOOG', '2019-08-06'),\n",
       "       ('GOOG', '2019-08-07'), ('GOOG', '2019-08-08'),\n",
       "       ('GOOG', '2019-08-09'), ('GOOG', '2019-08-12'),\n",
       "       ('GOOG', '2019-08-13'), ('GOOG', '2019-08-14'),\n",
       "       ('GOOG', '2019-08-15'), ('GOOG', '2019-08-16'),\n",
       "       ('GOOG', '2019-08-19'), ('GOOG', '2019-08-20'),\n",
       "       ('GOOG', '2019-08-21'), ('GOOG', '2019-08-22'),\n",
       "       ('GOOG', '2019-08-23'), ('GOOG', '2019-08-26'),\n",
       "       ('GOOG', '2019-08-27'), ('GOOG', '2019-08-28'),\n",
       "       ('GOOG', '2019-08-29'), ('GOOG', '2019-08-30'),\n",
       "       ('GOOG', '2019-09-03'), ('GOOG', '2019-09-04'),\n",
       "       ('GOOG', '2019-09-05'), ('GOOG', '2019-09-06'),\n",
       "       ('GOOG', '2019-09-09'), ('GOOG', '2019-09-10'),\n",
       "       ('GOOG', '2019-09-11'), ('GOOG', '2019-09-12'),\n",
       "       ('GOOG', '2019-09-13'), ('GOOG', '2019-09-16'),\n",
       "       ('GOOG', '2019-09-17'), ('GOOG', '2019-09-18'),\n",
       "       ('GOOG', '2019-09-19'), ('GOOG', '2019-09-20'),\n",
       "       ('GOOG', '2019-09-23'), ('GOOG', '2019-09-24'),\n",
       "       ('GOOG', '2019-09-25'), ('GOOG', '2019-09-26'),\n",
       "       ('GOOG', '2019-09-27'), ('GOOG', '2019-09-30'),\n",
       "       ('GOOG', '2019-10-01'), ('GOOG', '2019-10-02'),\n",
       "       ('GOOG', '2019-10-03'), ('GOOG', '2019-10-04'),\n",
       "       ('GOOG', '2019-10-07'), ('GOOG', '2019-10-08'),\n",
       "       ('GOOG', '2019-10-09'), ('GOOG', '2019-10-10'),\n",
       "       ('GOOG', '2019-10-11'), ('GOOG', '2019-10-14'),\n",
       "       ('GOOG', '2019-10-15'), ('GOOG', '2019-10-16'),\n",
       "       ('GOOG', '2019-10-17'), ('GOOG', '2019-10-18'),\n",
       "       ('GOOG', '2019-10-21'), ('GOOG', '2019-10-22'),\n",
       "       ('GOOG', '2019-10-23'), ('GOOG', '2019-10-24'),\n",
       "       ('GOOG', '2019-10-25'), ('GOOG', '2019-10-28'),\n",
       "       ('GOOG', '2019-10-29'), ('GOOG', '2019-10-30'),\n",
       "       ('GOOG', '2019-10-31'), ('GOOG', '2019-11-01'),\n",
       "       ('GOOG', '2019-11-04'), ('GOOG', '2019-11-05'),\n",
       "       ('GOOG', '2019-11-06'), ('GOOG', '2019-11-07'),\n",
       "       ('GOOG', '2019-11-08'), ('GOOG', '2019-11-11'),\n",
       "       ('GOOG', '2019-11-12'), ('GOOG', '2019-11-13'),\n",
       "       ('GOOG', '2019-11-14'), ('GOOG', '2019-11-15'),\n",
       "       ('GOOG', '2019-11-18'), ('GOOG', '2019-11-19'),\n",
       "       ('GOOG', '2019-11-20'), ('GOOG', '2019-11-21'),\n",
       "       ('GOOG', '2019-11-22'), ('GOOG', '2019-11-25'),\n",
       "       ('GOOG', '2019-11-26'), ('GOOG', '2019-11-27'),\n",
       "       ('GOOG', '2019-11-29'), ('GOOG', '2019-12-02'),\n",
       "       ('GOOG', '2019-12-03'), ('GOOG', '2019-12-04'),\n",
       "       ('GOOG', '2019-12-05'), ('GOOG', '2019-12-06'),\n",
       "       ('GOOG', '2019-12-09'), ('GOOG', '2019-12-10'),\n",
       "       ('GOOG', '2019-12-11'), ('GOOG', '2019-12-12'),\n",
       "       ('GOOG', '2019-12-13'), ('GOOG', '2019-12-16'),\n",
       "       ('GOOG', '2019-12-17'), ('GOOG', '2019-12-18'),\n",
       "       ('GOOG', '2019-12-19'), ('GOOG', '2019-12-20'),\n",
       "       ('GOOG', '2019-12-23'), ('GOOG', '2019-12-24'),\n",
       "       ('GOOG', '2019-12-26'), ('GOOG', '2019-12-27'),\n",
       "       ('GOOG', '2019-12-30'), ('GOOG', '2019-12-31'),\n",
       "       ('GOOG', '2020-01-02'), ('GOOG', '2020-01-03'),\n",
       "       ('GOOG', '2020-01-06'), ('GOOG', '2020-01-07'),\n",
       "       ('GOOG', '2020-01-08'), ('GOOG', '2020-01-09'),\n",
       "       ('GOOG', '2020-01-10'), ('GOOG', '2020-01-13'),\n",
       "       ('GOOG', '2020-01-14'), ('GOOG', '2020-01-15'),\n",
       "       ('GOOG', '2020-01-16'), ('GOOG', '2020-01-17'),\n",
       "       ('GOOG', '2020-01-21'), ('GOOG', '2020-01-22'),\n",
       "       ('GOOG', '2020-01-23'), ('GOOG', '2020-01-24'),\n",
       "       ('GOOG', '2020-01-27'), ('GOOG', '2020-01-28'),\n",
       "       ('GOOG', '2020-01-29'), ('GOOG', '2020-01-30'),\n",
       "       ('GOOG', '2020-01-31'), ('GOOG', '2020-02-03'),\n",
       "       ('GOOG', '2020-02-04'), ('GOOG', '2020-02-05'),\n",
       "       ('GOOG', '2020-02-06'), ('GOOG', '2020-02-07'),\n",
       "       ('GOOG', '2020-02-10'), ('GOOG', '2020-02-11'),\n",
       "       ('GOOG', '2020-02-12'), ('GOOG', '2020-02-13'),\n",
       "       ('GOOG', '2020-02-14'), ('GOOG', '2020-02-18'),\n",
       "       ('GOOG', '2020-02-19'), ('GOOG', '2020-02-20'),\n",
       "       ('GOOG', '2020-02-21'), ('GOOG', '2020-02-24'),\n",
       "       ('GOOG', '2020-02-25'), ('GOOG', '2020-02-26'),\n",
       "       ('GOOG', '2020-02-27'), ('GOOG', '2020-02-28'),\n",
       "       ('GOOG', '2020-03-02'), ('GOOG', '2020-03-03'),\n",
       "       ('GOOG', '2020-03-04'), ('GOOG', '2020-03-05'),\n",
       "       ('GOOG', '2020-03-06'), ('GOOG', '2020-03-09'),\n",
       "       ('GOOG', '2020-03-10'), ('GOOG', '2020-03-11'),\n",
       "       ('GOOG', '2020-03-12'), ('GOOG', '2020-03-13'),\n",
       "       ('GOOG', '2020-03-16'), ('GOOG', '2020-03-17'),\n",
       "       ('GOOG', '2020-03-18'), ('GOOG', '2020-03-19'),\n",
       "       ('GOOG', '2020-03-20'), ('GOOG', '2020-03-23'),\n",
       "       ('GOOG', '2020-03-24'), ('GOOG', '2020-03-25'),\n",
       "       ('GOOG', '2020-03-26'), ('GOOG', '2020-03-27'),\n",
       "       ('GOOG', '2020-03-30'), ('GOOG', '2020-03-31'),\n",
       "       ('GOOG', '2020-04-01'), ('GOOG', '2020-04-02'),\n",
       "       ('GOOG', '2020-04-03'), ('GOOG', '2020-04-06'),\n",
       "       ('GOOG', '2020-04-07'), ('GOOG', '2020-04-08'),\n",
       "       ('GOOG', '2020-04-09'), ('GOOG', '2020-04-13'),\n",
       "       ('GOOG', '2020-04-14'), ('GOOG', '2020-04-15'),\n",
       "       ('GOOG', '2020-04-16'), ('GOOG', '2020-04-17'),\n",
       "       ('GOOG', '2020-04-20'), ('GOOG', '2020-04-21'),\n",
       "       ('GOOG', '2020-04-22'), ('GOOG', '2020-04-23'),\n",
       "       ('GOOG', '2020-04-24'), ('GOOG', '2020-04-27'),\n",
       "       ('GOOG', '2020-04-28'), ('GOOG', '2020-04-29'),\n",
       "       ('GOOG', '2020-04-30'), ('GOOG', '2020-05-01'),\n",
       "       ('GOOG', '2020-05-04'), ('GOOG', '2020-05-05'),\n",
       "       ('GOOG', '2020-05-06'), ('GOOG', '2020-05-07'),\n",
       "       ('GOOG', '2020-05-08'), ('GOOG', '2020-05-11'),\n",
       "       ('GOOG', '2020-05-12'), ('GOOG', '2020-05-13'),\n",
       "       ('GOOG', '2020-05-14'), ('GOOG', '2020-05-15'),\n",
       "       ('GOOG', '2020-05-18'), ('GOOG', '2020-05-19'),\n",
       "       ('GOOG', '2020-05-20'), ('GOOG', '2020-05-21'),\n",
       "       ('GOOG', '2020-05-22'), ('GOOG', '2020-05-26'),\n",
       "       ('GOOG', '2020-05-27'), ('GOOG', '2020-05-28'),\n",
       "       ('GOOG', '2020-05-29'), ('GOOG', '2020-06-01'),\n",
       "       ('GOOG', '2020-06-02'), ('GOOG', '2020-06-03'),\n",
       "       ('GOOG', '2020-06-04'), ('GOOG', '2020-06-05'),\n",
       "       ('GOOG', '2020-06-08'), ('GOOG', '2020-06-09'),\n",
       "       ('GOOG', '2020-06-10'), ('GOOG', '2020-06-11'),\n",
       "       ('GOOG', '2020-06-12'), ('GOOG', '2020-06-15'),\n",
       "       ('GOOG', '2020-06-16'), ('GOOG', '2020-06-17'),\n",
       "       ('GOOG', '2020-06-18'), ('GOOG', '2020-06-19'),\n",
       "       ('GOOG', '2020-06-22'), ('GOOG', '2020-06-23'),\n",
       "       ('GOOG', '2020-06-24'), ('GOOG', '2020-06-25'),\n",
       "       ('GOOG', '2020-06-26'), ('GOOG', '2020-06-29'),\n",
       "       ('GOOG', '2020-06-30'), ('GOOG', '2020-07-01'),\n",
       "       ('GOOG', '2020-07-02'), ('GOOG', '2020-07-06'),\n",
       "       ('GOOG', '2020-07-07'), ('GOOG', '2020-07-08'),\n",
       "       ('GOOG', '2020-07-09'), ('GOOG', '2020-07-10'),\n",
       "       ('GOOG', '2020-07-13'), ('GOOG', '2020-07-14'),\n",
       "       ('GOOG', '2020-07-15'), ('GOOG', '2020-07-16'),\n",
       "       ('GOOG', '2020-07-17'), ('GOOG', '2020-07-20'),\n",
       "       ('GOOG', '2020-07-21'), ('GOOG', '2020-07-22'),\n",
       "       ('GOOG', '2020-07-23'), ('GOOG', '2020-07-24'),\n",
       "       ('GOOG', '2020-07-27'), ('GOOG', '2020-07-28'),\n",
       "       ('GOOG', '2020-07-29'), ('GOOG', '2020-07-30'),\n",
       "       ('GOOG', '2020-07-31'), ('GOOG', '2020-08-03'),\n",
       "       ('GOOG', '2020-08-04'), ('GOOG', '2020-08-05'),\n",
       "       ('GOOG', '2020-08-06'), ('GOOG', '2020-08-07'),\n",
       "       ('GOOG', '2020-08-10'), ('GOOG', '2020-08-11'),\n",
       "       ('GOOG', '2020-08-12'), ('GOOG', '2020-08-13'),\n",
       "       ('GOOG', '2020-08-14'), ('GOOG', '2020-08-17'),\n",
       "       ('GOOG', '2020-08-18'), ('GOOG', '2020-08-19'),\n",
       "       ('GOOG', '2020-08-20'), ('GOOG', '2020-08-21'),\n",
       "       ('GOOG', '2020-08-24'), ('GOOG', '2020-08-25'),\n",
       "       ('GOOG', '2020-08-26'), ('GOOG', '2020-08-27'),\n",
       "       ('GOOG', '2020-08-28'), ('GOOG', '2020-08-31'),\n",
       "       ('GOOG', '2020-09-01'), ('GOOG', '2020-09-02'),\n",
       "       ('GOOG', '2020-09-03'), ('GOOG', '2020-09-04'),\n",
       "       ('GOOG', '2020-09-08'), ('GOOG', '2020-09-09'),\n",
       "       ('GOOG', '2020-09-10'), ('GOOG', '2020-09-11'),\n",
       "       ('GOOG', '2020-09-14'), ('GOOG', '2020-09-15'),\n",
       "       ('GOOG', '2020-09-16'), ('GOOG', '2020-09-17'),\n",
       "       ('GOOG', '2020-09-18'), ('GOOG', '2020-09-21'),\n",
       "       ('GOOG', '2020-09-22'), ('GOOG', '2020-09-23'),\n",
       "       ('GOOG', '2020-09-24'), ('GOOG', '2020-09-25'),\n",
       "       ('GOOG', '2020-09-28'), ('GOOG', '2020-09-29'),\n",
       "       ('GOOG', '2020-09-30'), ('GOOG', '2020-10-01'),\n",
       "       ('GOOG', '2020-10-02'), ('GOOG', '2020-10-05'),\n",
       "       ('GOOG', '2020-10-06'), ('GOOG', '2020-10-07'),\n",
       "       ('GOOG', '2020-10-08'), ('GOOG', '2020-10-09'),\n",
       "       ('GOOG', '2020-10-12'), ('GOOG', '2020-10-13'),\n",
       "       ('GOOG', '2020-10-14'), ('GOOG', '2020-10-15'),\n",
       "       ('GOOG', '2020-10-16'), ('GOOG', '2020-10-19'),\n",
       "       ('GOOG', '2020-10-20'), ('GOOG', '2020-10-21'),\n",
       "       ('GOOG', '2020-10-22'), ('GOOG', '2020-10-23'),\n",
       "       ('GOOG', '2020-10-26'), ('GOOG', '2020-10-27'),\n",
       "       ('GOOG', '2020-10-28'), ('GOOG', '2020-10-29'),\n",
       "       ('GOOG', '2020-10-30'), ('GOOG', '2020-11-02'),\n",
       "       ('GOOG', '2020-11-03'), ('GOOG', '2020-11-04'),\n",
       "       ('GOOG', '2020-11-05'), ('GOOG', '2020-11-06'),\n",
       "       ('GOOG', '2020-11-09'), ('GOOG', '2020-11-10'),\n",
       "       ('GOOG', '2020-11-11'), ('GOOG', '2020-11-12'),\n",
       "       ('GOOG', '2020-11-13'), ('GOOG', '2020-11-16'),\n",
       "       ('GOOG', '2020-11-17'), ('GOOG', '2020-11-18'),\n",
       "       ('GOOG', '2020-11-19'), ('GOOG', '2020-11-20'),\n",
       "       ('GOOG', '2020-11-23'), ('GOOG', '2020-11-24'),\n",
       "       ('GOOG', '2020-11-25'), ('GOOG', '2020-11-27'),\n",
       "       ('GOOG', '2020-11-30'), ('GOOG', '2020-12-01'),\n",
       "       ('GOOG', '2020-12-02'), ('GOOG', '2020-12-03'),\n",
       "       ('GOOG', '2020-12-04'), ('GOOG', '2020-12-07'),\n",
       "       ('GOOG', '2020-12-08'), ('GOOG', '2020-12-09'),\n",
       "       ('GOOG', '2020-12-10'), ('GOOG', '2020-12-11'),\n",
       "       ('GOOG', '2020-12-14'), ('GOOG', '2020-12-15'),\n",
       "       ('GOOG', '2020-12-16'), ('GOOG', '2020-12-17'),\n",
       "       ('GOOG', '2020-12-18'), ('GOOG', '2020-12-21'),\n",
       "       ('GOOG', '2020-12-22'), ('GOOG', '2020-12-23'),\n",
       "       ('GOOG', '2020-12-24'), ('GOOG', '2020-12-28'),\n",
       "       ('GOOG', '2020-12-29'), ('GOOG', '2020-12-30'),\n",
       "       ('GOOG', '2020-12-31'), ('GOOG', '2021-01-04'),\n",
       "       ('GOOG', '2021-01-05'), ('GOOG', '2021-01-06'),\n",
       "       ('GOOG', '2021-01-07'), ('GOOG', '2021-01-08'),\n",
       "       ('GOOG', '2021-01-11'), ('GOOG', '2021-01-12'),\n",
       "       ('GOOG', '2021-01-13'), ('GOOG', '2021-01-14'),\n",
       "       ('GOOG', '2021-01-15'), ('GOOG', '2021-01-19'),\n",
       "       ('GOOG', '2021-01-20'), ('GOOG', '2021-01-21'),\n",
       "       ('GOOG', '2021-01-22'), ('GOOG', '2021-01-25'),\n",
       "       ('GOOG', '2021-01-26'), ('GOOG', '2021-01-27'),\n",
       "       ('GOOG', '2021-01-28'), ('GOOG', '2021-01-29'),\n",
       "       ('GOOG', '2021-02-01'), ('GOOG', '2021-02-02'),\n",
       "       ('GOOG', '2021-02-03'), ('GOOG', '2021-02-04'),\n",
       "       ('GOOG', '2021-02-05'), ('GOOG', '2021-02-08'),\n",
       "       ('GOOG', '2021-02-09'), ('GOOG', '2021-02-10'),\n",
       "       ('GOOG', '2021-02-11'), ('GOOG', '2021-02-12'),\n",
       "       ('GOOG', '2021-02-16'), ('GOOG', '2021-02-17'),\n",
       "       ('GOOG', '2021-02-18'), ('GOOG', '2021-02-19'),\n",
       "       ('GOOG', '2021-02-22'), ('GOOG', '2021-02-23'),\n",
       "       ('GOOG', '2021-02-24'), ('GOOG', '2021-02-25'),\n",
       "       ('GOOG', '2021-02-26'), ('GOOG', '2021-03-01'),\n",
       "       ('GOOG', '2021-03-02'), ('GOOG', '2021-03-03'),\n",
       "       ('GOOG', '2021-03-04'), ('GOOG', '2021-03-05'),\n",
       "       ('GOOG', '2021-03-08'), ('GOOG', '2021-03-09'),\n",
       "       ('GOOG', '2021-03-10'), ('GOOG', '2021-03-11'),\n",
       "       ('GOOG', '2021-03-12'), ('GOOG', '2021-03-15'),\n",
       "       ('GOOG', '2021-03-16'), ('GOOG', '2021-03-17'),\n",
       "       ('GOOG', '2021-03-18'), ('GOOG', '2021-03-19'),\n",
       "       ('GOOG', '2021-03-22'), ('GOOG', '2021-03-23'),\n",
       "       ('GOOG', '2021-03-24'), ('GOOG', '2021-03-25'),\n",
       "       ('GOOG', '2021-03-26'), ('GOOG', '2021-03-29'),\n",
       "       ('GOOG', '2021-03-30'), ('GOOG', '2021-03-31'),\n",
       "       ('GOOG', '2021-04-01'), ('GOOG', '2021-04-05'),\n",
       "       ('GOOG', '2021-04-06'), ('GOOG', '2021-04-07'),\n",
       "       ('GOOG', '2021-04-08'), ('GOOG', '2021-04-09'),\n",
       "       ('GOOG', '2021-04-12'), ('GOOG', '2021-04-13'),\n",
       "       ('GOOG', '2021-04-14'), ('GOOG', '2021-04-15'),\n",
       "       ('GOOG', '2021-04-16'), ('GOOG', '2021-04-19'),\n",
       "       ('GOOG', '2021-04-20'), ('GOOG', '2021-04-21'),\n",
       "       ('GOOG', '2021-04-22'), ('GOOG', '2021-04-23'),\n",
       "       ('GOOG', '2021-04-26'), ('GOOG', '2021-04-27'),\n",
       "       ('GOOG', '2021-04-28'), ('GOOG', '2021-04-29'),\n",
       "       ('GOOG', '2021-04-30'), ('GOOG', '2021-05-03'),\n",
       "       ('GOOG', '2021-05-04'), ('GOOG', '2021-05-05'),\n",
       "       ('GOOG', '2021-05-06'), ('GOOG', '2021-05-07'),\n",
       "       ('GOOG', '2021-05-10'), ('GOOG', '2021-05-11'),\n",
       "       ('GOOG', '2021-05-12'), ('GOOG', '2021-05-13'),\n",
       "       ('GOOG', '2021-05-14'), ('GOOG', '2021-05-17'),\n",
       "       ('GOOG', '2021-05-18'), ('GOOG', '2021-05-19'),\n",
       "       ('GOOG', '2021-05-20'), ('GOOG', '2021-05-21'),\n",
       "       ('GOOG', '2021-05-24'), ('GOOG', '2021-05-25'),\n",
       "       ('GOOG', '2021-05-26'), ('GOOG', '2021-05-27'),\n",
       "       ('GOOG', '2021-05-28'), ('GOOG', '2021-06-01'),\n",
       "       ('GOOG', '2021-06-02'), ('GOOG', '2021-06-03'),\n",
       "       ('GOOG', '2021-06-04'), ('GOOG', '2021-06-07'),\n",
       "       ('GOOG', '2021-06-08'), ('GOOG', '2021-06-09'),\n",
       "       ('GOOG', '2021-06-10'), ('GOOG', '2021-06-11'),\n",
       "       ('GOOG', '2021-06-14'), ('GOOG', '2021-06-15'),\n",
       "       ('GOOG', '2021-06-16'), ('GOOG', '2021-06-17'),\n",
       "       ('GOOG', '2021-06-18'), ('GOOG', '2021-06-21'),\n",
       "       ('GOOG', '2021-06-22'), ('GOOG', '2021-06-23'),\n",
       "       ('GOOG', '2021-06-24'), ('GOOG', '2021-06-25'),\n",
       "       ('GOOG', '2021-06-28'), ('GOOG', '2021-06-29'),\n",
       "       ('GOOG', '2021-06-30'), ('GOOG', '2021-07-01'),\n",
       "       ('GOOG', '2021-07-02'), ('GOOG', '2021-07-06'),\n",
       "       ('GOOG', '2021-07-07'), ('GOOG', '2021-07-08'),\n",
       "       ('GOOG', '2021-07-09'), ('GOOG', '2021-07-12'),\n",
       "       ('GOOG', '2021-07-13'), ('GOOG', '2021-07-14'),\n",
       "       ('GOOG', '2021-07-15'), ('GOOG', '2021-07-16'),\n",
       "       ('GOOG', '2021-07-19'), ('GOOG', '2021-07-20'),\n",
       "       ('GOOG', '2021-07-21'), ('GOOG', '2021-07-22'),\n",
       "       ('GOOG', '2021-07-23'), ('GOOG', '2021-07-26'),\n",
       "       ('GOOG', '2021-07-27'), ('GOOG', '2021-07-28'),\n",
       "       ('GOOG', '2021-07-29'), ('GOOG', '2021-07-30'),\n",
       "       ('GOOG', '2021-08-02'), ('GOOG', '2021-08-03'),\n",
       "       ('GOOG', '2021-08-04'), ('GOOG', '2021-08-05'),\n",
       "       ('GOOG', '2021-08-06'), ('GOOG', '2021-08-09'),\n",
       "       ('GOOG', '2021-08-10'), ('GOOG', '2021-08-11'),\n",
       "       ('GOOG', '2021-08-12'), ('GOOG', '2021-08-13'),\n",
       "       ('GOOG', '2021-08-16'), ('GOOG', '2021-08-17'),\n",
       "       ('GOOG', '2021-08-18'), ('GOOG', '2021-08-19'),\n",
       "       ('GOOG', '2021-08-20'), ('GOOG', '2021-08-23'),\n",
       "       ('GOOG', '2021-08-24'), ('GOOG', '2021-08-25'),\n",
       "       ('GOOG', '2021-08-26'), ('GOOG', '2021-08-27'),\n",
       "       ('GOOG', '2021-08-30'), ('GOOG', '2021-08-31'),\n",
       "       ('GOOG', '2021-09-01'), ('GOOG', '2021-09-02'),\n",
       "       ('GOOG', '2021-09-03'), ('GOOG', '2021-09-07'),\n",
       "       ('GOOG', '2021-09-08'), ('GOOG', '2021-09-09'),\n",
       "       ('GOOG', '2021-09-10'), ('GOOG', '2021-09-13'),\n",
       "       ('GOOG', '2021-09-14'), ('GOOG', '2021-09-15'),\n",
       "       ('GOOG', '2021-09-16'), ('GOOG', '2021-09-17'),\n",
       "       ('GOOG', '2021-09-20'), ('GOOG', '2021-09-21'),\n",
       "       ('GOOG', '2021-09-22'), ('GOOG', '2021-09-23'),\n",
       "       ('GOOG', '2021-09-24'), ('GOOG', '2021-09-27'),\n",
       "       ('GOOG', '2021-09-28'), ('GOOG', '2021-09-29'),\n",
       "       ('GOOG', '2021-09-30'), ('GOOG', '2021-10-01'),\n",
       "       ('GOOG', '2021-10-04'), ('GOOG', '2021-10-05'),\n",
       "       ('GOOG', '2021-10-06'), ('GOOG', '2021-10-07'),\n",
       "       ('GOOG', '2021-10-08'), ('GOOG', '2021-10-11'),\n",
       "       ('GOOG', '2021-10-12'), ('GOOG', '2021-10-13'),\n",
       "       ('GOOG', '2021-10-14'), ('GOOG', '2021-10-15'),\n",
       "       ('GOOG', '2021-10-18'), ('GOOG', '2021-10-19'),\n",
       "       ('GOOG', '2021-10-20'), ('GOOG', '2021-10-21'),\n",
       "       ('GOOG', '2021-10-22'), ('GOOG', '2021-10-25'),\n",
       "       ('GOOG', '2021-10-26'), ('GOOG', '2021-10-27'),\n",
       "       ('GOOG', '2021-10-28'), ('GOOG', '2021-10-29'),\n",
       "       ('GOOG', '2021-11-01'), ('GOOG', '2021-11-02'),\n",
       "       ('GOOG', '2021-11-03'), ('GOOG', '2021-11-04'),\n",
       "       ('GOOG', '2021-11-05'), ('GOOG', '2021-11-08'),\n",
       "       ('GOOG', '2021-11-09'), ('GOOG', '2021-11-10'),\n",
       "       ('GOOG', '2021-11-11'), ('GOOG', '2021-11-12'),\n",
       "       ('GOOG', '2021-11-15'), ('GOOG', '2021-11-16'),\n",
       "       ('GOOG', '2021-11-17'), ('GOOG', '2021-11-18'),\n",
       "       ('GOOG', '2021-11-19'), ('GOOG', '2021-11-22'),\n",
       "       ('GOOG', '2021-11-23'), ('GOOG', '2021-11-24'),\n",
       "       ('GOOG', '2021-11-26'), ('GOOG', '2021-11-29'),\n",
       "       ('GOOG', '2021-11-30'), ('GOOG', '2021-12-01'),\n",
       "       ('GOOG', '2021-12-02'), ('GOOG', '2021-12-03'),\n",
       "       ('GOOG', '2021-12-06'), ('GOOG', '2021-12-07'),\n",
       "       ('GOOG', '2021-12-08'), ('GOOG', '2021-12-09'),\n",
       "       ('GOOG', '2021-12-10'), ('GOOG', '2021-12-13'),\n",
       "       ('GOOG', '2021-12-14'), ('GOOG', '2021-12-15'),\n",
       "       ('GOOG', '2021-12-16'), ('GOOG', '2021-12-17'),\n",
       "       ('GOOG', '2021-12-20'), ('GOOG', '2021-12-21'),\n",
       "       ('GOOG', '2021-12-22'), ('GOOG', '2021-12-23'),\n",
       "       ('GOOG', '2021-12-27'), ('GOOG', '2021-12-28'),\n",
       "       ('GOOG', '2021-12-29'), ('GOOG', '2021-12-30'),\n",
       "       ('GOOG', '2021-12-31'), ('GOOG', '2022-01-03'),\n",
       "       ('GOOG', '2022-01-04'), ('GOOG', '2022-01-05'),\n",
       "       ('GOOG', '2022-01-06'), ('GOOG', '2022-01-07'),\n",
       "       ('GOOG', '2022-01-10'), ('GOOG', '2022-01-11'),\n",
       "       ('GOOG', '2022-01-12'), ('GOOG', '2022-01-13'),\n",
       "       ('GOOG', '2022-01-14')], dtype=object)"
      ]
     },
     "execution_count": 135,
     "metadata": {},
     "output_type": "execute_result"
    }
   ],
   "source": [
    "# ищем дублирющиеся индексы - Гугл (так как 2 Гугл акции в индексе)\n",
    "Y[Y.index.duplicated()==True].index.values"
   ]
  },
  {
   "cell_type": "code",
   "execution_count": 136,
   "metadata": {},
   "outputs": [],
   "source": [
    "# remove duplicated indices in Y\n",
    "Y = Y[~Y.index.duplicated()]"
   ]
  },
  {
   "cell_type": "code",
   "execution_count": 137,
   "metadata": {},
   "outputs": [
    {
     "name": "stdout",
     "output_type": "stream",
     "text": [
      "0.0\n"
     ]
    },
    {
     "data": {
      "text/plain": [
       "((73144, 779), (73144,))"
      ]
     },
     "execution_count": 137,
     "metadata": {},
     "output_type": "execute_result"
    }
   ],
   "source": [
    "# проверяем что Гугл остался один и размерности совпадают\n",
    "print(Y.loc['GOOG','2019-01-28'])\n",
    "X.shape, Y.shape"
   ]
  },
  {
   "cell_type": "code",
   "execution_count": 138,
   "metadata": {},
   "outputs": [
    {
     "data": {
      "text/plain": [
       "(('TMUS', '2021-12-28'), ('TMUS', '2021-12-28'))"
      ]
     },
     "execution_count": 138,
     "metadata": {},
     "output_type": "execute_result"
    }
   ],
   "source": [
    "i = 65000\n",
    "Y.index.values[i], X.iloc[i].name"
   ]
  },
  {
   "cell_type": "code",
   "execution_count": 139,
   "metadata": {},
   "outputs": [
    {
     "data": {
      "text/plain": [
       "Names  Date      \n",
       "AAPL   2019-01-31    0.0\n",
       "       2019-02-01    0.0\n",
       "       2019-02-04    0.0\n",
       "       2019-02-05    0.0\n",
       "       2019-02-06    0.0\n",
       "                    ... \n",
       "       2022-01-07    0.0\n",
       "       2022-01-10    0.0\n",
       "       2022-01-11    0.0\n",
       "       2022-01-12    0.0\n",
       "       2022-01-13    0.0\n",
       "Name: surge1, Length: 746, dtype: float64"
      ]
     },
     "execution_count": 139,
     "metadata": {},
     "output_type": "execute_result"
    }
   ],
   "source": [
    "Y[Y.index.get_level_values(0).isin(['AAPL'])]"
   ]
  },
  {
   "cell_type": "code",
   "execution_count": 140,
   "metadata": {},
   "outputs": [
    {
     "data": {
      "text/plain": [
       "Series([], Name: surge1, dtype: float64)"
      ]
     },
     "execution_count": 140,
     "metadata": {},
     "output_type": "execute_result"
    }
   ],
   "source": [
    "# select_features выдает ошибку - возможно из-за NaN в Y\n",
    "Y[Y.isna()]"
   ]
  },
  {
   "cell_type": "code",
   "execution_count": 141,
   "metadata": {},
   "outputs": [
    {
     "data": {
      "text/plain": [
       "((73143, 779), (73143,))"
      ]
     },
     "execution_count": 141,
     "metadata": {},
     "output_type": "execute_result"
    }
   ],
   "source": [
    "#удаляем посл строку с NaN\n",
    "Y = Y[:-1]\n",
    "X = X[:-1]\n",
    "X.shape, Y.shape "
   ]
  },
  {
   "cell_type": "code",
   "execution_count": 142,
   "metadata": {},
   "outputs": [
    {
     "name": "stderr",
     "output_type": "stream",
     "text": [
      "/Users/oslikdau/miniforge3/envs/time-series/lib/python3.8/site-packages/statsmodels/tools/_testing.py:19: FutureWarning: pandas.util.testing is deprecated. Use the functions in the public API at pandas.testing instead.\n",
      "  import pandas.util.testing as tm\n",
      "/Users/oslikdau/miniforge3/envs/time-series/lib/python3.8/site-packages/statsmodels/tools/_testing.py:19: FutureWarning: pandas.util.testing is deprecated. Use the functions in the public API at pandas.testing instead.\n",
      "  import pandas.util.testing as tm\n",
      "/Users/oslikdau/miniforge3/envs/time-series/lib/python3.8/site-packages/statsmodels/tools/_testing.py:19: FutureWarning: pandas.util.testing is deprecated. Use the functions in the public API at pandas.testing instead.\n",
      "  import pandas.util.testing as tm\n",
      "/Users/oslikdau/miniforge3/envs/time-series/lib/python3.8/site-packages/statsmodels/tools/_testing.py:19: FutureWarning: pandas.util.testing is deprecated. Use the functions in the public API at pandas.testing instead.\n",
      "  import pandas.util.testing as tm\n",
      "/Users/oslikdau/miniforge3/envs/time-series/lib/python3.8/site-packages/statsmodels/tsa/base/tsa_model.py:8: FutureWarning: pandas.Int64Index is deprecated and will be removed from pandas in a future version. Use pandas.Index with the appropriate dtype instead.\n",
      "  from pandas import (to_datetime, Int64Index, DatetimeIndex, Period,\n",
      "/Users/oslikdau/miniforge3/envs/time-series/lib/python3.8/site-packages/statsmodels/tsa/base/tsa_model.py:8: FutureWarning: pandas.Int64Index is deprecated and will be removed from pandas in a future version. Use pandas.Index with the appropriate dtype instead.\n",
      "  from pandas import (to_datetime, Int64Index, DatetimeIndex, Period,\n",
      "/Users/oslikdau/miniforge3/envs/time-series/lib/python3.8/site-packages/statsmodels/tsa/base/tsa_model.py:8: FutureWarning: pandas.Int64Index is deprecated and will be removed from pandas in a future version. Use pandas.Index with the appropriate dtype instead.\n",
      "  from pandas import (to_datetime, Int64Index, DatetimeIndex, Period,\n",
      "/Users/oslikdau/miniforge3/envs/time-series/lib/python3.8/site-packages/statsmodels/tsa/base/tsa_model.py:8: FutureWarning: pandas.Float64Index is deprecated and will be removed from pandas in a future version. Use pandas.Index with the appropriate dtype instead.\n",
      "  from pandas import (to_datetime, Int64Index, DatetimeIndex, Period,\n",
      "/Users/oslikdau/miniforge3/envs/time-series/lib/python3.8/site-packages/statsmodels/tsa/base/tsa_model.py:8: FutureWarning: pandas.Int64Index is deprecated and will be removed from pandas in a future version. Use pandas.Index with the appropriate dtype instead.\n",
      "  from pandas import (to_datetime, Int64Index, DatetimeIndex, Period,\n",
      "/Users/oslikdau/miniforge3/envs/time-series/lib/python3.8/site-packages/statsmodels/tsa/base/tsa_model.py:8: FutureWarning: pandas.Float64Index is deprecated and will be removed from pandas in a future version. Use pandas.Index with the appropriate dtype instead.\n",
      "  from pandas import (to_datetime, Int64Index, DatetimeIndex, Period,\n",
      "/Users/oslikdau/miniforge3/envs/time-series/lib/python3.8/site-packages/statsmodels/tsa/base/tsa_model.py:8: FutureWarning: pandas.Float64Index is deprecated and will be removed from pandas in a future version. Use pandas.Index with the appropriate dtype instead.\n",
      "  from pandas import (to_datetime, Int64Index, DatetimeIndex, Period,\n",
      "/Users/oslikdau/miniforge3/envs/time-series/lib/python3.8/site-packages/statsmodels/tsa/base/tsa_model.py:8: FutureWarning: pandas.Float64Index is deprecated and will be removed from pandas in a future version. Use pandas.Index with the appropriate dtype instead.\n",
      "  from pandas import (to_datetime, Int64Index, DatetimeIndex, Period,\n",
      "/Users/oslikdau/miniforge3/envs/time-series/lib/python3.8/site-packages/dask/dataframe/utils.py:366: FutureWarning: pandas.Int64Index is deprecated and will be removed from pandas in a future version. Use pandas.Index with the appropriate dtype instead.\n",
      "  _numeric_index_types = (pd.Int64Index, pd.Float64Index, pd.UInt64Index)\n",
      "/Users/oslikdau/miniforge3/envs/time-series/lib/python3.8/site-packages/dask/dataframe/utils.py:366: FutureWarning: pandas.Int64Index is deprecated and will be removed from pandas in a future version. Use pandas.Index with the appropriate dtype instead.\n",
      "  _numeric_index_types = (pd.Int64Index, pd.Float64Index, pd.UInt64Index)\n",
      "/Users/oslikdau/miniforge3/envs/time-series/lib/python3.8/site-packages/dask/dataframe/utils.py:366: FutureWarning: pandas.Int64Index is deprecated and will be removed from pandas in a future version. Use pandas.Index with the appropriate dtype instead.\n",
      "  _numeric_index_types = (pd.Int64Index, pd.Float64Index, pd.UInt64Index)\n",
      "/Users/oslikdau/miniforge3/envs/time-series/lib/python3.8/site-packages/dask/dataframe/utils.py:366: FutureWarning: pandas.Float64Index is deprecated and will be removed from pandas in a future version. Use pandas.Index with the appropriate dtype instead.\n",
      "  _numeric_index_types = (pd.Int64Index, pd.Float64Index, pd.UInt64Index)\n",
      "/Users/oslikdau/miniforge3/envs/time-series/lib/python3.8/site-packages/dask/dataframe/utils.py:366: FutureWarning: pandas.Float64Index is deprecated and will be removed from pandas in a future version. Use pandas.Index with the appropriate dtype instead.\n",
      "  _numeric_index_types = (pd.Int64Index, pd.Float64Index, pd.UInt64Index)\n",
      "/Users/oslikdau/miniforge3/envs/time-series/lib/python3.8/site-packages/dask/dataframe/utils.py:366: FutureWarning: pandas.UInt64Index is deprecated and will be removed from pandas in a future version. Use pandas.Index with the appropriate dtype instead.\n",
      "  _numeric_index_types = (pd.Int64Index, pd.Float64Index, pd.UInt64Index)\n",
      "/Users/oslikdau/miniforge3/envs/time-series/lib/python3.8/site-packages/dask/dataframe/utils.py:366: FutureWarning: pandas.Int64Index is deprecated and will be removed from pandas in a future version. Use pandas.Index with the appropriate dtype instead.\n",
      "  _numeric_index_types = (pd.Int64Index, pd.Float64Index, pd.UInt64Index)\n",
      "/Users/oslikdau/miniforge3/envs/time-series/lib/python3.8/site-packages/dask/dataframe/utils.py:366: FutureWarning: pandas.Float64Index is deprecated and will be removed from pandas in a future version. Use pandas.Index with the appropriate dtype instead.\n",
      "  _numeric_index_types = (pd.Int64Index, pd.Float64Index, pd.UInt64Index)\n",
      "/Users/oslikdau/miniforge3/envs/time-series/lib/python3.8/site-packages/dask/dataframe/utils.py:366: FutureWarning: pandas.UInt64Index is deprecated and will be removed from pandas in a future version. Use pandas.Index with the appropriate dtype instead.\n",
      "  _numeric_index_types = (pd.Int64Index, pd.Float64Index, pd.UInt64Index)\n",
      "/Users/oslikdau/miniforge3/envs/time-series/lib/python3.8/site-packages/dask/dataframe/utils.py:366: FutureWarning: pandas.Float64Index is deprecated and will be removed from pandas in a future version. Use pandas.Index with the appropriate dtype instead.\n",
      "  _numeric_index_types = (pd.Int64Index, pd.Float64Index, pd.UInt64Index)\n",
      "/Users/oslikdau/miniforge3/envs/time-series/lib/python3.8/site-packages/dask/dataframe/utils.py:366: FutureWarning: pandas.UInt64Index is deprecated and will be removed from pandas in a future version. Use pandas.Index with the appropriate dtype instead.\n",
      "  _numeric_index_types = (pd.Int64Index, pd.Float64Index, pd.UInt64Index)\n",
      "/Users/oslikdau/miniforge3/envs/time-series/lib/python3.8/site-packages/dask/dataframe/utils.py:366: FutureWarning: pandas.UInt64Index is deprecated and will be removed from pandas in a future version. Use pandas.Index with the appropriate dtype instead.\n",
      "  _numeric_index_types = (pd.Int64Index, pd.Float64Index, pd.UInt64Index)\n"
     ]
    }
   ],
   "source": [
    "# X_selected = select_features(X.reset_index(drop=True), Y.reset_index(drop=True))\n",
    "X_selected = select_features(X, Y)"
   ]
  },
  {
   "cell_type": "code",
   "execution_count": 143,
   "metadata": {},
   "outputs": [
    {
     "data": {
      "text/plain": [
       "((73143, 166), (73143,))"
      ]
     },
     "execution_count": 143,
     "metadata": {},
     "output_type": "execute_result"
    }
   ],
   "source": [
    "X_selected.shape, Y.shape"
   ]
  },
  {
   "cell_type": "code",
   "execution_count": 144,
   "metadata": {},
   "outputs": [],
   "source": [
    "Y = Y.astype('int')"
   ]
  },
  {
   "cell_type": "code",
   "execution_count": 145,
   "metadata": {},
   "outputs": [
    {
     "data": {
      "text/plain": [
       "(('ATVI', '2019-04-01'), ('ATVI', '2019-04-01'))"
      ]
     },
     "execution_count": 145,
     "metadata": {},
     "output_type": "execute_result"
    }
   ],
   "source": [
    "X.index.values[10000], Y.index.values[10000]"
   ]
  },
  {
   "cell_type": "code",
   "execution_count": 146,
   "metadata": {},
   "outputs": [
    {
     "data": {
      "text/html": [
       "<div>\n",
       "<style scoped>\n",
       "    .dataframe tbody tr th:only-of-type {\n",
       "        vertical-align: middle;\n",
       "    }\n",
       "\n",
       "    .dataframe tbody tr th {\n",
       "        vertical-align: top;\n",
       "    }\n",
       "\n",
       "    .dataframe thead th {\n",
       "        text-align: right;\n",
       "    }\n",
       "</style>\n",
       "<table border=\"1\" class=\"dataframe\">\n",
       "  <thead>\n",
       "    <tr style=\"text-align: right;\">\n",
       "      <th></th>\n",
       "      <th></th>\n",
       "      <th>close_dif__variance_larger_than_standard_deviation</th>\n",
       "      <th>close_dif__has_duplicate_max</th>\n",
       "      <th>close_dif__has_duplicate_min</th>\n",
       "      <th>close_dif__has_duplicate</th>\n",
       "      <th>close_dif__sum_values</th>\n",
       "      <th>close_dif__abs_energy</th>\n",
       "      <th>close_dif__mean_abs_change</th>\n",
       "      <th>close_dif__mean_change</th>\n",
       "      <th>close_dif__mean_second_derivative_central</th>\n",
       "      <th>close_dif__median</th>\n",
       "      <th>...</th>\n",
       "      <th>close_dif__fourier_entropy__bins_2</th>\n",
       "      <th>close_dif__fourier_entropy__bins_3</th>\n",
       "      <th>close_dif__fourier_entropy__bins_5</th>\n",
       "      <th>close_dif__fourier_entropy__bins_10</th>\n",
       "      <th>close_dif__fourier_entropy__bins_100</th>\n",
       "      <th>close_dif__permutation_entropy__dimension_3__tau_1</th>\n",
       "      <th>close_dif__permutation_entropy__dimension_4__tau_1</th>\n",
       "      <th>close_dif__permutation_entropy__dimension_5__tau_1</th>\n",
       "      <th>close_dif__permutation_entropy__dimension_6__tau_1</th>\n",
       "      <th>close_dif__permutation_entropy__dimension_7__tau_1</th>\n",
       "    </tr>\n",
       "  </thead>\n",
       "  <tbody>\n",
       "    <tr>\n",
       "      <th rowspan=\"3\" valign=\"top\">AAPL</th>\n",
       "      <th>2019-01-31</th>\n",
       "      <td>0.0</td>\n",
       "      <td>0.0</td>\n",
       "      <td>0.0</td>\n",
       "      <td>0.0</td>\n",
       "      <td>0.063889</td>\n",
       "      <td>0.019972</td>\n",
       "      <td>0.034253</td>\n",
       "      <td>0.000303</td>\n",
       "      <td>0.001043</td>\n",
       "      <td>0.004044</td>\n",
       "      <td>...</td>\n",
       "      <td>0.585953</td>\n",
       "      <td>0.585953</td>\n",
       "      <td>1.168518</td>\n",
       "      <td>1.540306</td>\n",
       "      <td>2.271869</td>\n",
       "      <td>1.559087</td>\n",
       "      <td>2.505290</td>\n",
       "      <td>2.833213</td>\n",
       "      <td>2.772589</td>\n",
       "      <td>2.70805</td>\n",
       "    </tr>\n",
       "    <tr>\n",
       "      <th>2019-02-01</th>\n",
       "      <td>0.0</td>\n",
       "      <td>0.0</td>\n",
       "      <td>0.0</td>\n",
       "      <td>0.0</td>\n",
       "      <td>0.063229</td>\n",
       "      <td>0.019971</td>\n",
       "      <td>0.029552</td>\n",
       "      <td>0.005004</td>\n",
       "      <td>-0.003922</td>\n",
       "      <td>0.004044</td>\n",
       "      <td>...</td>\n",
       "      <td>0.585953</td>\n",
       "      <td>0.994924</td>\n",
       "      <td>1.414279</td>\n",
       "      <td>1.720193</td>\n",
       "      <td>2.397895</td>\n",
       "      <td>1.535191</td>\n",
       "      <td>2.399204</td>\n",
       "      <td>2.751667</td>\n",
       "      <td>2.772589</td>\n",
       "      <td>2.70805</td>\n",
       "    </tr>\n",
       "    <tr>\n",
       "      <th>2019-02-04</th>\n",
       "      <td>0.0</td>\n",
       "      <td>0.0</td>\n",
       "      <td>0.0</td>\n",
       "      <td>0.0</td>\n",
       "      <td>0.191241</td>\n",
       "      <td>0.010856</td>\n",
       "      <td>0.023833</td>\n",
       "      <td>-0.000714</td>\n",
       "      <td>0.001917</td>\n",
       "      <td>0.005938</td>\n",
       "      <td>...</td>\n",
       "      <td>0.585953</td>\n",
       "      <td>0.916465</td>\n",
       "      <td>1.414279</td>\n",
       "      <td>1.893788</td>\n",
       "      <td>2.145842</td>\n",
       "      <td>1.548489</td>\n",
       "      <td>2.399204</td>\n",
       "      <td>2.751667</td>\n",
       "      <td>2.772589</td>\n",
       "      <td>2.70805</td>\n",
       "    </tr>\n",
       "  </tbody>\n",
       "</table>\n",
       "<p>3 rows × 779 columns</p>\n",
       "</div>"
      ],
      "text/plain": [
       "                 close_dif__variance_larger_than_standard_deviation  \\\n",
       "AAPL 2019-01-31                                                0.0    \n",
       "     2019-02-01                                                0.0    \n",
       "     2019-02-04                                                0.0    \n",
       "\n",
       "                 close_dif__has_duplicate_max  close_dif__has_duplicate_min  \\\n",
       "AAPL 2019-01-31                           0.0                           0.0   \n",
       "     2019-02-01                           0.0                           0.0   \n",
       "     2019-02-04                           0.0                           0.0   \n",
       "\n",
       "                 close_dif__has_duplicate  close_dif__sum_values  \\\n",
       "AAPL 2019-01-31                       0.0               0.063889   \n",
       "     2019-02-01                       0.0               0.063229   \n",
       "     2019-02-04                       0.0               0.191241   \n",
       "\n",
       "                 close_dif__abs_energy  close_dif__mean_abs_change  \\\n",
       "AAPL 2019-01-31               0.019972                    0.034253   \n",
       "     2019-02-01               0.019971                    0.029552   \n",
       "     2019-02-04               0.010856                    0.023833   \n",
       "\n",
       "                 close_dif__mean_change  \\\n",
       "AAPL 2019-01-31                0.000303   \n",
       "     2019-02-01                0.005004   \n",
       "     2019-02-04               -0.000714   \n",
       "\n",
       "                 close_dif__mean_second_derivative_central  close_dif__median  \\\n",
       "AAPL 2019-01-31                                   0.001043           0.004044   \n",
       "     2019-02-01                                  -0.003922           0.004044   \n",
       "     2019-02-04                                   0.001917           0.005938   \n",
       "\n",
       "                 ...  close_dif__fourier_entropy__bins_2  \\\n",
       "AAPL 2019-01-31  ...                            0.585953   \n",
       "     2019-02-01  ...                            0.585953   \n",
       "     2019-02-04  ...                            0.585953   \n",
       "\n",
       "                 close_dif__fourier_entropy__bins_3  \\\n",
       "AAPL 2019-01-31                            0.585953   \n",
       "     2019-02-01                            0.994924   \n",
       "     2019-02-04                            0.916465   \n",
       "\n",
       "                 close_dif__fourier_entropy__bins_5  \\\n",
       "AAPL 2019-01-31                            1.168518   \n",
       "     2019-02-01                            1.414279   \n",
       "     2019-02-04                            1.414279   \n",
       "\n",
       "                 close_dif__fourier_entropy__bins_10  \\\n",
       "AAPL 2019-01-31                             1.540306   \n",
       "     2019-02-01                             1.720193   \n",
       "     2019-02-04                             1.893788   \n",
       "\n",
       "                 close_dif__fourier_entropy__bins_100  \\\n",
       "AAPL 2019-01-31                              2.271869   \n",
       "     2019-02-01                              2.397895   \n",
       "     2019-02-04                              2.145842   \n",
       "\n",
       "                 close_dif__permutation_entropy__dimension_3__tau_1  \\\n",
       "AAPL 2019-01-31                                           1.559087    \n",
       "     2019-02-01                                           1.535191    \n",
       "     2019-02-04                                           1.548489    \n",
       "\n",
       "                 close_dif__permutation_entropy__dimension_4__tau_1  \\\n",
       "AAPL 2019-01-31                                           2.505290    \n",
       "     2019-02-01                                           2.399204    \n",
       "     2019-02-04                                           2.399204    \n",
       "\n",
       "                 close_dif__permutation_entropy__dimension_5__tau_1  \\\n",
       "AAPL 2019-01-31                                           2.833213    \n",
       "     2019-02-01                                           2.751667    \n",
       "     2019-02-04                                           2.751667    \n",
       "\n",
       "                 close_dif__permutation_entropy__dimension_6__tau_1  \\\n",
       "AAPL 2019-01-31                                           2.772589    \n",
       "     2019-02-01                                           2.772589    \n",
       "     2019-02-04                                           2.772589    \n",
       "\n",
       "                 close_dif__permutation_entropy__dimension_7__tau_1  \n",
       "AAPL 2019-01-31                                            2.70805   \n",
       "     2019-02-01                                            2.70805   \n",
       "     2019-02-04                                            2.70805   \n",
       "\n",
       "[3 rows x 779 columns]"
      ]
     },
     "execution_count": 146,
     "metadata": {},
     "output_type": "execute_result"
    }
   ],
   "source": [
    "X.head(3)"
   ]
  },
  {
   "cell_type": "code",
   "execution_count": 149,
   "metadata": {},
   "outputs": [
    {
     "data": {
      "text/plain": [
       " 0    0.83952\n",
       " 1    0.08348\n",
       "-1    0.07700\n",
       "Name: surge1, dtype: float64"
      ]
     },
     "execution_count": 149,
     "metadata": {},
     "output_type": "execute_result"
    }
   ],
   "source": [
    "# %-age of surges in sample\n",
    "Y.value_counts(normalize=True)"
   ]
  },
  {
   "cell_type": "code",
   "execution_count": 150,
   "metadata": {},
   "outputs": [],
   "source": [
    "X.to_csv('X_2019_aligned_3cl.csv')\n",
    "Y.to_csv('Y_2019_aligned_3cl.csv')"
   ]
  },
  {
   "cell_type": "code",
   "execution_count": null,
   "metadata": {},
   "outputs": [
    {
     "data": {
      "text/plain": [
       "Names  Date      \n",
       "AAPL   2019-01-31    0\n",
       "       2019-02-01    0\n",
       "       2019-02-04    0\n",
       "       2019-02-05    0\n",
       "       2019-02-06    0\n",
       "                    ..\n",
       "ZS -   2022-01-06    0\n",
       "       2022-01-07    1\n",
       "       2022-01-10    0\n",
       "       2022-01-11    0\n",
       "       2022-01-12    1\n",
       "Name: surges, Length: 73144, dtype: int64"
      ]
     },
     "metadata": {},
     "output_type": "display_data"
    }
   ],
   "source": [
    "Y"
   ]
  },
  {
   "cell_type": "markdown",
   "metadata": {},
   "source": [
    "## Modeling"
   ]
  },
  {
   "cell_type": "code",
   "execution_count": 151,
   "metadata": {},
   "outputs": [],
   "source": [
    "from sklearn.model_selection import train_test_split\n",
    "from sklearn.linear_model import LogisticRegressionCV\n",
    "from sklearn.tree import DecisionTreeClassifier\n",
    "from sklearn.ensemble import GradientBoostingClassifier\n",
    "from sklearn.ensemble import RandomForestClassifier\n",
    "\n",
    "from sklearn.metrics import roc_auc_score\n",
    "from sklearn.metrics import f1_score\n",
    "from sklearn.metrics import accuracy_score\n",
    "from sklearn.metrics import recall_score\n",
    "from sklearn.metrics import confusion_matrix, ConfusionMatrixDisplay\n",
    "from sklearn.metrics import precision_score\n",
    "\n",
    "import numpy as np"
   ]
  },
  {
   "cell_type": "code",
   "execution_count": 152,
   "metadata": {},
   "outputs": [],
   "source": [
    "X_train, X_test, Y_train, Y_test = train_test_split(X_selected, Y, random_state=42)"
   ]
  },
  {
   "cell_type": "code",
   "execution_count": 153,
   "metadata": {},
   "outputs": [
    {
     "data": {
      "text/plain": [
       "(54857, 18286, 54857, 18286)"
      ]
     },
     "execution_count": 153,
     "metadata": {},
     "output_type": "execute_result"
    }
   ],
   "source": [
    "len(X_train), len(X_test), len(Y_train), len(Y_test)"
   ]
  },
  {
   "cell_type": "markdown",
   "metadata": {},
   "source": [
    "### Reg"
   ]
  },
  {
   "cell_type": "code",
   "execution_count": null,
   "metadata": {},
   "outputs": [],
   "source": [
    "logreg = LogisticRegressionCV()"
   ]
  },
  {
   "cell_type": "code",
   "execution_count": null,
   "metadata": {},
   "outputs": [
    {
     "name": "stderr",
     "output_type": "stream",
     "text": [
      "/Users/oslikdau/miniforge3/envs/time-series/lib/python3.8/site-packages/sklearn/linear_model/_logistic.py:814: ConvergenceWarning: lbfgs failed to converge (status=1):\n",
      "STOP: TOTAL NO. of ITERATIONS REACHED LIMIT.\n",
      "\n",
      "Increase the number of iterations (max_iter) or scale the data as shown in:\n",
      "    https://scikit-learn.org/stable/modules/preprocessing.html\n",
      "Please also refer to the documentation for alternative solver options:\n",
      "    https://scikit-learn.org/stable/modules/linear_model.html#logistic-regression\n",
      "  n_iter_i = _check_optimize_result(\n",
      "/Users/oslikdau/miniforge3/envs/time-series/lib/python3.8/site-packages/sklearn/linear_model/_logistic.py:814: ConvergenceWarning: lbfgs failed to converge (status=1):\n",
      "STOP: TOTAL NO. of ITERATIONS REACHED LIMIT.\n",
      "\n",
      "Increase the number of iterations (max_iter) or scale the data as shown in:\n",
      "    https://scikit-learn.org/stable/modules/preprocessing.html\n",
      "Please also refer to the documentation for alternative solver options:\n",
      "    https://scikit-learn.org/stable/modules/linear_model.html#logistic-regression\n",
      "  n_iter_i = _check_optimize_result(\n",
      "/Users/oslikdau/miniforge3/envs/time-series/lib/python3.8/site-packages/sklearn/linear_model/_logistic.py:814: ConvergenceWarning: lbfgs failed to converge (status=1):\n",
      "STOP: TOTAL NO. of ITERATIONS REACHED LIMIT.\n",
      "\n",
      "Increase the number of iterations (max_iter) or scale the data as shown in:\n",
      "    https://scikit-learn.org/stable/modules/preprocessing.html\n",
      "Please also refer to the documentation for alternative solver options:\n",
      "    https://scikit-learn.org/stable/modules/linear_model.html#logistic-regression\n",
      "  n_iter_i = _check_optimize_result(\n",
      "/Users/oslikdau/miniforge3/envs/time-series/lib/python3.8/site-packages/sklearn/linear_model/_logistic.py:814: ConvergenceWarning: lbfgs failed to converge (status=1):\n",
      "STOP: TOTAL NO. of ITERATIONS REACHED LIMIT.\n",
      "\n",
      "Increase the number of iterations (max_iter) or scale the data as shown in:\n",
      "    https://scikit-learn.org/stable/modules/preprocessing.html\n",
      "Please also refer to the documentation for alternative solver options:\n",
      "    https://scikit-learn.org/stable/modules/linear_model.html#logistic-regression\n",
      "  n_iter_i = _check_optimize_result(\n",
      "/Users/oslikdau/miniforge3/envs/time-series/lib/python3.8/site-packages/sklearn/linear_model/_logistic.py:814: ConvergenceWarning: lbfgs failed to converge (status=1):\n",
      "STOP: TOTAL NO. of ITERATIONS REACHED LIMIT.\n",
      "\n",
      "Increase the number of iterations (max_iter) or scale the data as shown in:\n",
      "    https://scikit-learn.org/stable/modules/preprocessing.html\n",
      "Please also refer to the documentation for alternative solver options:\n",
      "    https://scikit-learn.org/stable/modules/linear_model.html#logistic-regression\n",
      "  n_iter_i = _check_optimize_result(\n",
      "/Users/oslikdau/miniforge3/envs/time-series/lib/python3.8/site-packages/sklearn/linear_model/_logistic.py:814: ConvergenceWarning: lbfgs failed to converge (status=1):\n",
      "STOP: TOTAL NO. of ITERATIONS REACHED LIMIT.\n",
      "\n",
      "Increase the number of iterations (max_iter) or scale the data as shown in:\n",
      "    https://scikit-learn.org/stable/modules/preprocessing.html\n",
      "Please also refer to the documentation for alternative solver options:\n",
      "    https://scikit-learn.org/stable/modules/linear_model.html#logistic-regression\n",
      "  n_iter_i = _check_optimize_result(\n",
      "/Users/oslikdau/miniforge3/envs/time-series/lib/python3.8/site-packages/sklearn/linear_model/_logistic.py:814: ConvergenceWarning: lbfgs failed to converge (status=1):\n",
      "STOP: TOTAL NO. of ITERATIONS REACHED LIMIT.\n",
      "\n",
      "Increase the number of iterations (max_iter) or scale the data as shown in:\n",
      "    https://scikit-learn.org/stable/modules/preprocessing.html\n",
      "Please also refer to the documentation for alternative solver options:\n",
      "    https://scikit-learn.org/stable/modules/linear_model.html#logistic-regression\n",
      "  n_iter_i = _check_optimize_result(\n",
      "/Users/oslikdau/miniforge3/envs/time-series/lib/python3.8/site-packages/sklearn/linear_model/_logistic.py:814: ConvergenceWarning: lbfgs failed to converge (status=1):\n",
      "STOP: TOTAL NO. of ITERATIONS REACHED LIMIT.\n",
      "\n",
      "Increase the number of iterations (max_iter) or scale the data as shown in:\n",
      "    https://scikit-learn.org/stable/modules/preprocessing.html\n",
      "Please also refer to the documentation for alternative solver options:\n",
      "    https://scikit-learn.org/stable/modules/linear_model.html#logistic-regression\n",
      "  n_iter_i = _check_optimize_result(\n",
      "/Users/oslikdau/miniforge3/envs/time-series/lib/python3.8/site-packages/sklearn/linear_model/_logistic.py:814: ConvergenceWarning: lbfgs failed to converge (status=1):\n",
      "STOP: TOTAL NO. of ITERATIONS REACHED LIMIT.\n",
      "\n",
      "Increase the number of iterations (max_iter) or scale the data as shown in:\n",
      "    https://scikit-learn.org/stable/modules/preprocessing.html\n",
      "Please also refer to the documentation for alternative solver options:\n",
      "    https://scikit-learn.org/stable/modules/linear_model.html#logistic-regression\n",
      "  n_iter_i = _check_optimize_result(\n",
      "/Users/oslikdau/miniforge3/envs/time-series/lib/python3.8/site-packages/sklearn/linear_model/_logistic.py:814: ConvergenceWarning: lbfgs failed to converge (status=1):\n",
      "STOP: TOTAL NO. of ITERATIONS REACHED LIMIT.\n",
      "\n",
      "Increase the number of iterations (max_iter) or scale the data as shown in:\n",
      "    https://scikit-learn.org/stable/modules/preprocessing.html\n",
      "Please also refer to the documentation for alternative solver options:\n",
      "    https://scikit-learn.org/stable/modules/linear_model.html#logistic-regression\n",
      "  n_iter_i = _check_optimize_result(\n",
      "/Users/oslikdau/miniforge3/envs/time-series/lib/python3.8/site-packages/sklearn/linear_model/_logistic.py:814: ConvergenceWarning: lbfgs failed to converge (status=1):\n",
      "STOP: TOTAL NO. of ITERATIONS REACHED LIMIT.\n",
      "\n",
      "Increase the number of iterations (max_iter) or scale the data as shown in:\n",
      "    https://scikit-learn.org/stable/modules/preprocessing.html\n",
      "Please also refer to the documentation for alternative solver options:\n",
      "    https://scikit-learn.org/stable/modules/linear_model.html#logistic-regression\n",
      "  n_iter_i = _check_optimize_result(\n",
      "/Users/oslikdau/miniforge3/envs/time-series/lib/python3.8/site-packages/sklearn/linear_model/_logistic.py:814: ConvergenceWarning: lbfgs failed to converge (status=1):\n",
      "STOP: TOTAL NO. of ITERATIONS REACHED LIMIT.\n",
      "\n",
      "Increase the number of iterations (max_iter) or scale the data as shown in:\n",
      "    https://scikit-learn.org/stable/modules/preprocessing.html\n",
      "Please also refer to the documentation for alternative solver options:\n",
      "    https://scikit-learn.org/stable/modules/linear_model.html#logistic-regression\n",
      "  n_iter_i = _check_optimize_result(\n",
      "/Users/oslikdau/miniforge3/envs/time-series/lib/python3.8/site-packages/sklearn/linear_model/_logistic.py:814: ConvergenceWarning: lbfgs failed to converge (status=1):\n",
      "STOP: TOTAL NO. of ITERATIONS REACHED LIMIT.\n",
      "\n",
      "Increase the number of iterations (max_iter) or scale the data as shown in:\n",
      "    https://scikit-learn.org/stable/modules/preprocessing.html\n",
      "Please also refer to the documentation for alternative solver options:\n",
      "    https://scikit-learn.org/stable/modules/linear_model.html#logistic-regression\n",
      "  n_iter_i = _check_optimize_result(\n",
      "/Users/oslikdau/miniforge3/envs/time-series/lib/python3.8/site-packages/sklearn/linear_model/_logistic.py:814: ConvergenceWarning: lbfgs failed to converge (status=1):\n",
      "STOP: TOTAL NO. of ITERATIONS REACHED LIMIT.\n",
      "\n",
      "Increase the number of iterations (max_iter) or scale the data as shown in:\n",
      "    https://scikit-learn.org/stable/modules/preprocessing.html\n",
      "Please also refer to the documentation for alternative solver options:\n",
      "    https://scikit-learn.org/stable/modules/linear_model.html#logistic-regression\n",
      "  n_iter_i = _check_optimize_result(\n",
      "/Users/oslikdau/miniforge3/envs/time-series/lib/python3.8/site-packages/sklearn/linear_model/_logistic.py:814: ConvergenceWarning: lbfgs failed to converge (status=1):\n",
      "STOP: TOTAL NO. of ITERATIONS REACHED LIMIT.\n",
      "\n",
      "Increase the number of iterations (max_iter) or scale the data as shown in:\n",
      "    https://scikit-learn.org/stable/modules/preprocessing.html\n",
      "Please also refer to the documentation for alternative solver options:\n",
      "    https://scikit-learn.org/stable/modules/linear_model.html#logistic-regression\n",
      "  n_iter_i = _check_optimize_result(\n",
      "/Users/oslikdau/miniforge3/envs/time-series/lib/python3.8/site-packages/sklearn/linear_model/_logistic.py:814: ConvergenceWarning: lbfgs failed to converge (status=1):\n",
      "STOP: TOTAL NO. of ITERATIONS REACHED LIMIT.\n",
      "\n",
      "Increase the number of iterations (max_iter) or scale the data as shown in:\n",
      "    https://scikit-learn.org/stable/modules/preprocessing.html\n",
      "Please also refer to the documentation for alternative solver options:\n",
      "    https://scikit-learn.org/stable/modules/linear_model.html#logistic-regression\n",
      "  n_iter_i = _check_optimize_result(\n",
      "/Users/oslikdau/miniforge3/envs/time-series/lib/python3.8/site-packages/sklearn/linear_model/_logistic.py:814: ConvergenceWarning: lbfgs failed to converge (status=1):\n",
      "STOP: TOTAL NO. of ITERATIONS REACHED LIMIT.\n",
      "\n",
      "Increase the number of iterations (max_iter) or scale the data as shown in:\n",
      "    https://scikit-learn.org/stable/modules/preprocessing.html\n",
      "Please also refer to the documentation for alternative solver options:\n",
      "    https://scikit-learn.org/stable/modules/linear_model.html#logistic-regression\n",
      "  n_iter_i = _check_optimize_result(\n",
      "/Users/oslikdau/miniforge3/envs/time-series/lib/python3.8/site-packages/sklearn/linear_model/_logistic.py:814: ConvergenceWarning: lbfgs failed to converge (status=1):\n",
      "STOP: TOTAL NO. of ITERATIONS REACHED LIMIT.\n",
      "\n",
      "Increase the number of iterations (max_iter) or scale the data as shown in:\n",
      "    https://scikit-learn.org/stable/modules/preprocessing.html\n",
      "Please also refer to the documentation for alternative solver options:\n",
      "    https://scikit-learn.org/stable/modules/linear_model.html#logistic-regression\n",
      "  n_iter_i = _check_optimize_result(\n",
      "/Users/oslikdau/miniforge3/envs/time-series/lib/python3.8/site-packages/sklearn/linear_model/_logistic.py:814: ConvergenceWarning: lbfgs failed to converge (status=1):\n",
      "STOP: TOTAL NO. of ITERATIONS REACHED LIMIT.\n",
      "\n",
      "Increase the number of iterations (max_iter) or scale the data as shown in:\n",
      "    https://scikit-learn.org/stable/modules/preprocessing.html\n",
      "Please also refer to the documentation for alternative solver options:\n",
      "    https://scikit-learn.org/stable/modules/linear_model.html#logistic-regression\n",
      "  n_iter_i = _check_optimize_result(\n",
      "/Users/oslikdau/miniforge3/envs/time-series/lib/python3.8/site-packages/sklearn/linear_model/_logistic.py:814: ConvergenceWarning: lbfgs failed to converge (status=1):\n",
      "STOP: TOTAL NO. of ITERATIONS REACHED LIMIT.\n",
      "\n",
      "Increase the number of iterations (max_iter) or scale the data as shown in:\n",
      "    https://scikit-learn.org/stable/modules/preprocessing.html\n",
      "Please also refer to the documentation for alternative solver options:\n",
      "    https://scikit-learn.org/stable/modules/linear_model.html#logistic-regression\n",
      "  n_iter_i = _check_optimize_result(\n",
      "/Users/oslikdau/miniforge3/envs/time-series/lib/python3.8/site-packages/sklearn/linear_model/_logistic.py:814: ConvergenceWarning: lbfgs failed to converge (status=1):\n",
      "STOP: TOTAL NO. of ITERATIONS REACHED LIMIT.\n",
      "\n",
      "Increase the number of iterations (max_iter) or scale the data as shown in:\n",
      "    https://scikit-learn.org/stable/modules/preprocessing.html\n",
      "Please also refer to the documentation for alternative solver options:\n",
      "    https://scikit-learn.org/stable/modules/linear_model.html#logistic-regression\n",
      "  n_iter_i = _check_optimize_result(\n",
      "/Users/oslikdau/miniforge3/envs/time-series/lib/python3.8/site-packages/sklearn/linear_model/_logistic.py:814: ConvergenceWarning: lbfgs failed to converge (status=1):\n",
      "STOP: TOTAL NO. of ITERATIONS REACHED LIMIT.\n",
      "\n",
      "Increase the number of iterations (max_iter) or scale the data as shown in:\n",
      "    https://scikit-learn.org/stable/modules/preprocessing.html\n",
      "Please also refer to the documentation for alternative solver options:\n",
      "    https://scikit-learn.org/stable/modules/linear_model.html#logistic-regression\n",
      "  n_iter_i = _check_optimize_result(\n",
      "/Users/oslikdau/miniforge3/envs/time-series/lib/python3.8/site-packages/sklearn/linear_model/_logistic.py:814: ConvergenceWarning: lbfgs failed to converge (status=1):\n",
      "STOP: TOTAL NO. of ITERATIONS REACHED LIMIT.\n",
      "\n",
      "Increase the number of iterations (max_iter) or scale the data as shown in:\n",
      "    https://scikit-learn.org/stable/modules/preprocessing.html\n",
      "Please also refer to the documentation for alternative solver options:\n",
      "    https://scikit-learn.org/stable/modules/linear_model.html#logistic-regression\n",
      "  n_iter_i = _check_optimize_result(\n",
      "/Users/oslikdau/miniforge3/envs/time-series/lib/python3.8/site-packages/sklearn/linear_model/_logistic.py:814: ConvergenceWarning: lbfgs failed to converge (status=1):\n",
      "STOP: TOTAL NO. of ITERATIONS REACHED LIMIT.\n",
      "\n",
      "Increase the number of iterations (max_iter) or scale the data as shown in:\n",
      "    https://scikit-learn.org/stable/modules/preprocessing.html\n",
      "Please also refer to the documentation for alternative solver options:\n",
      "    https://scikit-learn.org/stable/modules/linear_model.html#logistic-regression\n",
      "  n_iter_i = _check_optimize_result(\n",
      "/Users/oslikdau/miniforge3/envs/time-series/lib/python3.8/site-packages/sklearn/linear_model/_logistic.py:814: ConvergenceWarning: lbfgs failed to converge (status=1):\n",
      "STOP: TOTAL NO. of ITERATIONS REACHED LIMIT.\n",
      "\n",
      "Increase the number of iterations (max_iter) or scale the data as shown in:\n",
      "    https://scikit-learn.org/stable/modules/preprocessing.html\n",
      "Please also refer to the documentation for alternative solver options:\n",
      "    https://scikit-learn.org/stable/modules/linear_model.html#logistic-regression\n",
      "  n_iter_i = _check_optimize_result(\n",
      "/Users/oslikdau/miniforge3/envs/time-series/lib/python3.8/site-packages/sklearn/linear_model/_logistic.py:814: ConvergenceWarning: lbfgs failed to converge (status=1):\n",
      "STOP: TOTAL NO. of ITERATIONS REACHED LIMIT.\n",
      "\n",
      "Increase the number of iterations (max_iter) or scale the data as shown in:\n",
      "    https://scikit-learn.org/stable/modules/preprocessing.html\n",
      "Please also refer to the documentation for alternative solver options:\n",
      "    https://scikit-learn.org/stable/modules/linear_model.html#logistic-regression\n",
      "  n_iter_i = _check_optimize_result(\n",
      "/Users/oslikdau/miniforge3/envs/time-series/lib/python3.8/site-packages/sklearn/linear_model/_logistic.py:814: ConvergenceWarning: lbfgs failed to converge (status=1):\n",
      "STOP: TOTAL NO. of ITERATIONS REACHED LIMIT.\n",
      "\n",
      "Increase the number of iterations (max_iter) or scale the data as shown in:\n",
      "    https://scikit-learn.org/stable/modules/preprocessing.html\n",
      "Please also refer to the documentation for alternative solver options:\n",
      "    https://scikit-learn.org/stable/modules/linear_model.html#logistic-regression\n",
      "  n_iter_i = _check_optimize_result(\n",
      "/Users/oslikdau/miniforge3/envs/time-series/lib/python3.8/site-packages/sklearn/linear_model/_logistic.py:814: ConvergenceWarning: lbfgs failed to converge (status=1):\n",
      "STOP: TOTAL NO. of ITERATIONS REACHED LIMIT.\n",
      "\n",
      "Increase the number of iterations (max_iter) or scale the data as shown in:\n",
      "    https://scikit-learn.org/stable/modules/preprocessing.html\n",
      "Please also refer to the documentation for alternative solver options:\n",
      "    https://scikit-learn.org/stable/modules/linear_model.html#logistic-regression\n",
      "  n_iter_i = _check_optimize_result(\n",
      "/Users/oslikdau/miniforge3/envs/time-series/lib/python3.8/site-packages/sklearn/linear_model/_logistic.py:814: ConvergenceWarning: lbfgs failed to converge (status=1):\n",
      "STOP: TOTAL NO. of ITERATIONS REACHED LIMIT.\n",
      "\n",
      "Increase the number of iterations (max_iter) or scale the data as shown in:\n",
      "    https://scikit-learn.org/stable/modules/preprocessing.html\n",
      "Please also refer to the documentation for alternative solver options:\n",
      "    https://scikit-learn.org/stable/modules/linear_model.html#logistic-regression\n",
      "  n_iter_i = _check_optimize_result(\n",
      "/Users/oslikdau/miniforge3/envs/time-series/lib/python3.8/site-packages/sklearn/linear_model/_logistic.py:814: ConvergenceWarning: lbfgs failed to converge (status=1):\n",
      "STOP: TOTAL NO. of ITERATIONS REACHED LIMIT.\n",
      "\n",
      "Increase the number of iterations (max_iter) or scale the data as shown in:\n",
      "    https://scikit-learn.org/stable/modules/preprocessing.html\n",
      "Please also refer to the documentation for alternative solver options:\n",
      "    https://scikit-learn.org/stable/modules/linear_model.html#logistic-regression\n",
      "  n_iter_i = _check_optimize_result(\n",
      "/Users/oslikdau/miniforge3/envs/time-series/lib/python3.8/site-packages/sklearn/linear_model/_logistic.py:814: ConvergenceWarning: lbfgs failed to converge (status=1):\n",
      "STOP: TOTAL NO. of ITERATIONS REACHED LIMIT.\n",
      "\n",
      "Increase the number of iterations (max_iter) or scale the data as shown in:\n",
      "    https://scikit-learn.org/stable/modules/preprocessing.html\n",
      "Please also refer to the documentation for alternative solver options:\n",
      "    https://scikit-learn.org/stable/modules/linear_model.html#logistic-regression\n",
      "  n_iter_i = _check_optimize_result(\n",
      "/Users/oslikdau/miniforge3/envs/time-series/lib/python3.8/site-packages/sklearn/linear_model/_logistic.py:814: ConvergenceWarning: lbfgs failed to converge (status=1):\n",
      "STOP: TOTAL NO. of ITERATIONS REACHED LIMIT.\n",
      "\n",
      "Increase the number of iterations (max_iter) or scale the data as shown in:\n",
      "    https://scikit-learn.org/stable/modules/preprocessing.html\n",
      "Please also refer to the documentation for alternative solver options:\n",
      "    https://scikit-learn.org/stable/modules/linear_model.html#logistic-regression\n",
      "  n_iter_i = _check_optimize_result(\n",
      "/Users/oslikdau/miniforge3/envs/time-series/lib/python3.8/site-packages/sklearn/linear_model/_logistic.py:814: ConvergenceWarning: lbfgs failed to converge (status=1):\n",
      "STOP: TOTAL NO. of ITERATIONS REACHED LIMIT.\n",
      "\n",
      "Increase the number of iterations (max_iter) or scale the data as shown in:\n",
      "    https://scikit-learn.org/stable/modules/preprocessing.html\n",
      "Please also refer to the documentation for alternative solver options:\n",
      "    https://scikit-learn.org/stable/modules/linear_model.html#logistic-regression\n",
      "  n_iter_i = _check_optimize_result(\n",
      "/Users/oslikdau/miniforge3/envs/time-series/lib/python3.8/site-packages/sklearn/linear_model/_logistic.py:814: ConvergenceWarning: lbfgs failed to converge (status=1):\n",
      "STOP: TOTAL NO. of ITERATIONS REACHED LIMIT.\n",
      "\n",
      "Increase the number of iterations (max_iter) or scale the data as shown in:\n",
      "    https://scikit-learn.org/stable/modules/preprocessing.html\n",
      "Please also refer to the documentation for alternative solver options:\n",
      "    https://scikit-learn.org/stable/modules/linear_model.html#logistic-regression\n",
      "  n_iter_i = _check_optimize_result(\n",
      "/Users/oslikdau/miniforge3/envs/time-series/lib/python3.8/site-packages/sklearn/linear_model/_logistic.py:814: ConvergenceWarning: lbfgs failed to converge (status=1):\n",
      "STOP: TOTAL NO. of ITERATIONS REACHED LIMIT.\n",
      "\n",
      "Increase the number of iterations (max_iter) or scale the data as shown in:\n",
      "    https://scikit-learn.org/stable/modules/preprocessing.html\n",
      "Please also refer to the documentation for alternative solver options:\n",
      "    https://scikit-learn.org/stable/modules/linear_model.html#logistic-regression\n",
      "  n_iter_i = _check_optimize_result(\n",
      "/Users/oslikdau/miniforge3/envs/time-series/lib/python3.8/site-packages/sklearn/linear_model/_logistic.py:814: ConvergenceWarning: lbfgs failed to converge (status=1):\n",
      "STOP: TOTAL NO. of ITERATIONS REACHED LIMIT.\n",
      "\n",
      "Increase the number of iterations (max_iter) or scale the data as shown in:\n",
      "    https://scikit-learn.org/stable/modules/preprocessing.html\n",
      "Please also refer to the documentation for alternative solver options:\n",
      "    https://scikit-learn.org/stable/modules/linear_model.html#logistic-regression\n",
      "  n_iter_i = _check_optimize_result(\n",
      "/Users/oslikdau/miniforge3/envs/time-series/lib/python3.8/site-packages/sklearn/linear_model/_logistic.py:814: ConvergenceWarning: lbfgs failed to converge (status=1):\n",
      "STOP: TOTAL NO. of ITERATIONS REACHED LIMIT.\n",
      "\n",
      "Increase the number of iterations (max_iter) or scale the data as shown in:\n",
      "    https://scikit-learn.org/stable/modules/preprocessing.html\n",
      "Please also refer to the documentation for alternative solver options:\n",
      "    https://scikit-learn.org/stable/modules/linear_model.html#logistic-regression\n",
      "  n_iter_i = _check_optimize_result(\n",
      "/Users/oslikdau/miniforge3/envs/time-series/lib/python3.8/site-packages/sklearn/linear_model/_logistic.py:814: ConvergenceWarning: lbfgs failed to converge (status=1):\n",
      "STOP: TOTAL NO. of ITERATIONS REACHED LIMIT.\n",
      "\n",
      "Increase the number of iterations (max_iter) or scale the data as shown in:\n",
      "    https://scikit-learn.org/stable/modules/preprocessing.html\n",
      "Please also refer to the documentation for alternative solver options:\n",
      "    https://scikit-learn.org/stable/modules/linear_model.html#logistic-regression\n",
      "  n_iter_i = _check_optimize_result(\n",
      "/Users/oslikdau/miniforge3/envs/time-series/lib/python3.8/site-packages/sklearn/linear_model/_logistic.py:814: ConvergenceWarning: lbfgs failed to converge (status=1):\n",
      "STOP: TOTAL NO. of ITERATIONS REACHED LIMIT.\n",
      "\n",
      "Increase the number of iterations (max_iter) or scale the data as shown in:\n",
      "    https://scikit-learn.org/stable/modules/preprocessing.html\n",
      "Please also refer to the documentation for alternative solver options:\n",
      "    https://scikit-learn.org/stable/modules/linear_model.html#logistic-regression\n",
      "  n_iter_i = _check_optimize_result(\n",
      "/Users/oslikdau/miniforge3/envs/time-series/lib/python3.8/site-packages/sklearn/linear_model/_logistic.py:814: ConvergenceWarning: lbfgs failed to converge (status=1):\n",
      "STOP: TOTAL NO. of ITERATIONS REACHED LIMIT.\n",
      "\n",
      "Increase the number of iterations (max_iter) or scale the data as shown in:\n",
      "    https://scikit-learn.org/stable/modules/preprocessing.html\n",
      "Please also refer to the documentation for alternative solver options:\n",
      "    https://scikit-learn.org/stable/modules/linear_model.html#logistic-regression\n",
      "  n_iter_i = _check_optimize_result(\n",
      "/Users/oslikdau/miniforge3/envs/time-series/lib/python3.8/site-packages/sklearn/linear_model/_logistic.py:814: ConvergenceWarning: lbfgs failed to converge (status=1):\n",
      "STOP: TOTAL NO. of ITERATIONS REACHED LIMIT.\n",
      "\n",
      "Increase the number of iterations (max_iter) or scale the data as shown in:\n",
      "    https://scikit-learn.org/stable/modules/preprocessing.html\n",
      "Please also refer to the documentation for alternative solver options:\n",
      "    https://scikit-learn.org/stable/modules/linear_model.html#logistic-regression\n",
      "  n_iter_i = _check_optimize_result(\n",
      "/Users/oslikdau/miniforge3/envs/time-series/lib/python3.8/site-packages/sklearn/linear_model/_logistic.py:814: ConvergenceWarning: lbfgs failed to converge (status=1):\n",
      "STOP: TOTAL NO. of ITERATIONS REACHED LIMIT.\n",
      "\n",
      "Increase the number of iterations (max_iter) or scale the data as shown in:\n",
      "    https://scikit-learn.org/stable/modules/preprocessing.html\n",
      "Please also refer to the documentation for alternative solver options:\n",
      "    https://scikit-learn.org/stable/modules/linear_model.html#logistic-regression\n",
      "  n_iter_i = _check_optimize_result(\n",
      "/Users/oslikdau/miniforge3/envs/time-series/lib/python3.8/site-packages/sklearn/linear_model/_logistic.py:814: ConvergenceWarning: lbfgs failed to converge (status=1):\n",
      "STOP: TOTAL NO. of ITERATIONS REACHED LIMIT.\n",
      "\n",
      "Increase the number of iterations (max_iter) or scale the data as shown in:\n",
      "    https://scikit-learn.org/stable/modules/preprocessing.html\n",
      "Please also refer to the documentation for alternative solver options:\n",
      "    https://scikit-learn.org/stable/modules/linear_model.html#logistic-regression\n",
      "  n_iter_i = _check_optimize_result(\n",
      "/Users/oslikdau/miniforge3/envs/time-series/lib/python3.8/site-packages/sklearn/linear_model/_logistic.py:814: ConvergenceWarning: lbfgs failed to converge (status=1):\n",
      "STOP: TOTAL NO. of ITERATIONS REACHED LIMIT.\n",
      "\n",
      "Increase the number of iterations (max_iter) or scale the data as shown in:\n",
      "    https://scikit-learn.org/stable/modules/preprocessing.html\n",
      "Please also refer to the documentation for alternative solver options:\n",
      "    https://scikit-learn.org/stable/modules/linear_model.html#logistic-regression\n",
      "  n_iter_i = _check_optimize_result(\n",
      "/Users/oslikdau/miniforge3/envs/time-series/lib/python3.8/site-packages/sklearn/linear_model/_logistic.py:814: ConvergenceWarning: lbfgs failed to converge (status=1):\n",
      "STOP: TOTAL NO. of ITERATIONS REACHED LIMIT.\n",
      "\n",
      "Increase the number of iterations (max_iter) or scale the data as shown in:\n",
      "    https://scikit-learn.org/stable/modules/preprocessing.html\n",
      "Please also refer to the documentation for alternative solver options:\n",
      "    https://scikit-learn.org/stable/modules/linear_model.html#logistic-regression\n",
      "  n_iter_i = _check_optimize_result(\n",
      "/Users/oslikdau/miniforge3/envs/time-series/lib/python3.8/site-packages/sklearn/linear_model/_logistic.py:814: ConvergenceWarning: lbfgs failed to converge (status=1):\n",
      "STOP: TOTAL NO. of ITERATIONS REACHED LIMIT.\n",
      "\n",
      "Increase the number of iterations (max_iter) or scale the data as shown in:\n",
      "    https://scikit-learn.org/stable/modules/preprocessing.html\n",
      "Please also refer to the documentation for alternative solver options:\n",
      "    https://scikit-learn.org/stable/modules/linear_model.html#logistic-regression\n",
      "  n_iter_i = _check_optimize_result(\n",
      "/Users/oslikdau/miniforge3/envs/time-series/lib/python3.8/site-packages/sklearn/linear_model/_logistic.py:814: ConvergenceWarning: lbfgs failed to converge (status=1):\n",
      "STOP: TOTAL NO. of ITERATIONS REACHED LIMIT.\n",
      "\n",
      "Increase the number of iterations (max_iter) or scale the data as shown in:\n",
      "    https://scikit-learn.org/stable/modules/preprocessing.html\n",
      "Please also refer to the documentation for alternative solver options:\n",
      "    https://scikit-learn.org/stable/modules/linear_model.html#logistic-regression\n",
      "  n_iter_i = _check_optimize_result(\n",
      "/Users/oslikdau/miniforge3/envs/time-series/lib/python3.8/site-packages/sklearn/linear_model/_logistic.py:814: ConvergenceWarning: lbfgs failed to converge (status=1):\n",
      "STOP: TOTAL NO. of ITERATIONS REACHED LIMIT.\n",
      "\n",
      "Increase the number of iterations (max_iter) or scale the data as shown in:\n",
      "    https://scikit-learn.org/stable/modules/preprocessing.html\n",
      "Please also refer to the documentation for alternative solver options:\n",
      "    https://scikit-learn.org/stable/modules/linear_model.html#logistic-regression\n",
      "  n_iter_i = _check_optimize_result(\n",
      "/Users/oslikdau/miniforge3/envs/time-series/lib/python3.8/site-packages/sklearn/linear_model/_logistic.py:814: ConvergenceWarning: lbfgs failed to converge (status=1):\n",
      "STOP: TOTAL NO. of ITERATIONS REACHED LIMIT.\n",
      "\n",
      "Increase the number of iterations (max_iter) or scale the data as shown in:\n",
      "    https://scikit-learn.org/stable/modules/preprocessing.html\n",
      "Please also refer to the documentation for alternative solver options:\n",
      "    https://scikit-learn.org/stable/modules/linear_model.html#logistic-regression\n",
      "  n_iter_i = _check_optimize_result(\n",
      "/Users/oslikdau/miniforge3/envs/time-series/lib/python3.8/site-packages/sklearn/linear_model/_logistic.py:814: ConvergenceWarning: lbfgs failed to converge (status=1):\n",
      "STOP: TOTAL NO. of ITERATIONS REACHED LIMIT.\n",
      "\n",
      "Increase the number of iterations (max_iter) or scale the data as shown in:\n",
      "    https://scikit-learn.org/stable/modules/preprocessing.html\n",
      "Please also refer to the documentation for alternative solver options:\n",
      "    https://scikit-learn.org/stable/modules/linear_model.html#logistic-regression\n",
      "  n_iter_i = _check_optimize_result(\n",
      "/Users/oslikdau/miniforge3/envs/time-series/lib/python3.8/site-packages/sklearn/linear_model/_logistic.py:814: ConvergenceWarning: lbfgs failed to converge (status=1):\n",
      "STOP: TOTAL NO. of ITERATIONS REACHED LIMIT.\n",
      "\n",
      "Increase the number of iterations (max_iter) or scale the data as shown in:\n",
      "    https://scikit-learn.org/stable/modules/preprocessing.html\n",
      "Please also refer to the documentation for alternative solver options:\n",
      "    https://scikit-learn.org/stable/modules/linear_model.html#logistic-regression\n",
      "  n_iter_i = _check_optimize_result(\n"
     ]
    },
    {
     "data": {
      "text/plain": [
       "LogisticRegressionCV()"
      ]
     },
     "execution_count": 221,
     "metadata": {},
     "output_type": "execute_result"
    }
   ],
   "source": [
    "logreg.fit(X_train, Y_train)"
   ]
  },
  {
   "cell_type": "code",
   "execution_count": null,
   "metadata": {},
   "outputs": [
    {
     "name": "stdout",
     "output_type": "stream",
     "text": [
      "Train F1: 0.005399932500843739\n",
      "Test F1: 0.002733173898189272\n",
      "Train ROC AUC: 0.5010002026264928\n",
      "Train ROC AUC: 0.5001678046267417\n"
     ]
    }
   ],
   "source": [
    "print(\"Train F1: \"+str(f1_score(Y_train, logreg.predict(X_train))))\n",
    "print(\"Test F1: \"+str(f1_score(Y_test, logreg.predict(X_test))))\n",
    "print(\"Train ROC AUC: \"+str(roc_auc_score(Y_train, logreg.predict(X_train))))\n",
    "print(\"Train ROC AUC: \"+str(roc_auc_score(Y_test, logreg.predict(X_test))))"
   ]
  },
  {
   "cell_type": "code",
   "execution_count": null,
   "metadata": {},
   "outputs": [
    {
     "name": "stdout",
     "output_type": "stream",
     "text": [
      "(array([0, 1]), array([54801,    57]))\n",
      "(array([0, 1]), array([18266,    20]))\n"
     ]
    }
   ],
   "source": [
    "print(np.unique(logreg.predict(X_train), return_counts=True))\n",
    "print(np.unique(logreg.predict(X_test), return_counts=True))"
   ]
  },
  {
   "cell_type": "markdown",
   "metadata": {},
   "source": [
    "### DT"
   ]
  },
  {
   "cell_type": "code",
   "execution_count": 118,
   "metadata": {},
   "outputs": [],
   "source": [
    "dt_c = DecisionTreeClassifier(random_state=42)"
   ]
  },
  {
   "cell_type": "code",
   "execution_count": 119,
   "metadata": {},
   "outputs": [
    {
     "data": {
      "text/plain": [
       "DecisionTreeClassifier(random_state=42)"
      ]
     },
     "execution_count": 119,
     "metadata": {},
     "output_type": "execute_result"
    }
   ],
   "source": [
    "dt_c.fit(X_train, Y_train)"
   ]
  },
  {
   "cell_type": "code",
   "execution_count": 122,
   "metadata": {},
   "outputs": [
    {
     "name": "stdout",
     "output_type": "stream",
     "text": [
      "Train F1: 1.0\n",
      "Test F1: 0.3182866556836903\n",
      "Train ROC AUC: 1.0\n",
      "Test ROC AUC: 0.5947220993660622\n",
      "Train Recall: 1.0\n",
      "Test Recall: 0.3323013415892673\n",
      "Train Precision: 1.0\n",
      "Test Precision: 0.30540625987986086\n"
     ]
    }
   ],
   "source": [
    "print(\"Train F1: \"+str(f1_score(Y_train, dt_c.predict(X_train))))\n",
    "print(\"Test F1: \"+str(f1_score(Y_test, dt_c.predict(X_test))))\n",
    "print(\"Train ROC AUC: \"+str(roc_auc_score(Y_train, dt_c.predict_proba(X_train)[:,1])))\n",
    "print(\"Test ROC AUC: \"+str(roc_auc_score(Y_test, dt_c.predict_proba(X_test)[:,1])))\n",
    "print(\"Train Recall: \"+str(recall_score(Y_train, dt_c.predict(X_train))))\n",
    "print(\"Test Recall: \"+str(recall_score(Y_test, dt_c.predict(X_test))))\n",
    "print(\"Train Precision: \"+str(precision_score(Y_train, dt_c.predict(X_train))))\n",
    "print(\"Test Precision: \"+str(precision_score(Y_test, dt_c.predict(X_test))))"
   ]
  },
  {
   "cell_type": "code",
   "execution_count": null,
   "metadata": {},
   "outputs": [
    {
     "name": "stdout",
     "output_type": "stream",
     "text": [
      "0    0.839003\n",
      "1    0.160997\n",
      "Name: 0, dtype: float64\n",
      "0    0.827409\n",
      "1    0.172591\n",
      "Name: 0, dtype: float64\n"
     ]
    }
   ],
   "source": [
    "# print(np.unique(dt_c.predict(X_train), return_counts=True))\n",
    "# print(np.unique(dt_c.predict(X_test), return_counts=True))\n",
    "\n",
    "\n",
    "print(pd.DataFrame(dt_c.predict(X_train))[0].value_counts(normalize=True))\n",
    "print(pd.DataFrame(dt_c.predict(X_test))[0].value_counts(normalize=True))"
   ]
  },
  {
   "cell_type": "markdown",
   "metadata": {},
   "source": [
    "### GradBoost"
   ]
  },
  {
   "cell_type": "code",
   "execution_count": 64,
   "metadata": {},
   "outputs": [],
   "source": [
    "gb_cl = GradientBoostingClassifier(loss='exponential', n_iter_no_change=5)"
   ]
  },
  {
   "cell_type": "code",
   "execution_count": 103,
   "metadata": {},
   "outputs": [
    {
     "data": {
      "text/plain": [
       "GradientBoostingClassifier(loss='exponential', n_iter_no_change=5)"
      ]
     },
     "execution_count": 103,
     "metadata": {},
     "output_type": "execute_result"
    }
   ],
   "source": [
    "gb_cl.fit(X_train, Y_train)"
   ]
  },
  {
   "cell_type": "code",
   "execution_count": 111,
   "metadata": {},
   "outputs": [
    {
     "name": "stdout",
     "output_type": "stream",
     "text": [
      "Train F1: 0.28140612226360245\n",
      "Test F1: 0.24979091162531364\n",
      "Train ROC AUC: 0.7901803356105591\n",
      "Test ROC AUC: 0.7737980210730133\n",
      "Train Recall: 0.17538496376811594\n",
      "Test Recall: 0.1541107671138631\n",
      "Train Precision: 0.7115296279283417\n",
      "Test Precision: 0.6588235294117647\n"
     ]
    }
   ],
   "source": [
    "print(\"Train F1: \"+str(f1_score(Y_train, gb_cl.predict(X_train))))\n",
    "print(\"Test F1: \"+str(f1_score(Y_test, gb_cl.predict(X_test))))\n",
    "print(\"Train ROC AUC: \"+str(roc_auc_score(Y_train, gb_cl.predict_proba(X_train)[:,1])))\n",
    "print(\"Test ROC AUC: \"+str(roc_auc_score(Y_test, gb_cl.predict_proba(X_test)[:,1])))\n",
    "print(\"Train Recall: \"+str(recall_score(Y_train, gb_cl.predict(X_train))))\n",
    "print(\"Test Recall: \"+str(recall_score(Y_test, gb_cl.predict(X_test))))\n",
    "print(\"Train Precision: \"+str(precision_score(Y_train, gb_cl.predict(X_train))))\n",
    "print(\"Test Precision: \"+str(precision_score(Y_test, gb_cl.predict(X_test))))"
   ]
  },
  {
   "cell_type": "code",
   "execution_count": 67,
   "metadata": {},
   "outputs": [
    {
     "name": "stdout",
     "output_type": "stream",
     "text": [
      "0    0.960626\n",
      "1    0.039374\n",
      "Name: 0, dtype: float64\n",
      "0    0.96243\n",
      "1    0.03757\n",
      "Name: 0, dtype: float64\n"
     ]
    }
   ],
   "source": [
    "print(pd.DataFrame(gb_cl.predict(X_train))[0].value_counts(normalize=True))\n",
    "print(pd.DataFrame(gb_cl.predict(X_test))[0].value_counts(normalize=True))"
   ]
  },
  {
   "cell_type": "markdown",
   "metadata": {},
   "source": [
    "### LightGBM"
   ]
  },
  {
   "cell_type": "code",
   "execution_count": 93,
   "metadata": {},
   "outputs": [],
   "source": [
    "from lightgbm import LGBMClassifier"
   ]
  },
  {
   "cell_type": "code",
   "execution_count": 110,
   "metadata": {},
   "outputs": [],
   "source": [
    "# убрать спец символы в названиях - LGBM ругается\n",
    "import re\n",
    "X_train = X_train.rename(columns = lambda x:re.sub('[^A-Za-z0-9_]+', '', x))\n",
    "X_test = X_test.rename(columns = lambda x:re.sub('[^A-Za-z0-9_]+', '', x))"
   ]
  },
  {
   "cell_type": "code",
   "execution_count": 74,
   "metadata": {},
   "outputs": [],
   "source": [
    "# train_data = lgb.Dataset(X_selected, label=Y)\n",
    "\n",
    "# # как проверить train_data?\n",
    "# # как использовать веса? чтобы 1 был более важным чем 0 - улучшить recall? - искать порог на ROC AUC\n",
    "# # как сделать validation set? выделить через sklearn? - сделать отдельный датасет\n",
    "\n",
    "# validation_data = train_data.create_valid('validation.svm')"
   ]
  },
  {
   "cell_type": "code",
   "execution_count": 117,
   "metadata": {},
   "outputs": [
    {
     "ename": "AttributeError",
     "evalue": "'LGBMClassifier' object has no attribute 'early_stopping'",
     "output_type": "error",
     "traceback": [
      "\u001b[0;31m---------------------------------------------------------------------------\u001b[0m",
      "\u001b[0;31mAttributeError\u001b[0m                            Traceback (most recent call last)",
      "\u001b[0;32m/var/folders/00/jtb7c8xn51902fgjqt4qh5h80000gp/T/ipykernel_79976/2432884793.py\u001b[0m in \u001b[0;36m<module>\u001b[0;34m\u001b[0m\n\u001b[1;32m      1\u001b[0m \u001b[0mlgbm\u001b[0m \u001b[0;34m=\u001b[0m \u001b[0mLGBMClassifier\u001b[0m\u001b[0;34m(\u001b[0m\u001b[0;34m)\u001b[0m\u001b[0;34m\u001b[0m\u001b[0;34m\u001b[0m\u001b[0m\n\u001b[0;32m----> 2\u001b[0;31m \u001b[0mlgbm\u001b[0m\u001b[0;34m.\u001b[0m\u001b[0mearly_stopping\u001b[0m\u001b[0;34m(\u001b[0m\u001b[0;36m200\u001b[0m\u001b[0;34m)\u001b[0m\u001b[0;34m\u001b[0m\u001b[0;34m\u001b[0m\u001b[0m\n\u001b[0m\u001b[1;32m      3\u001b[0m \u001b[0mlgbm\u001b[0m\u001b[0;34m.\u001b[0m\u001b[0mfit\u001b[0m\u001b[0;34m(\u001b[0m\u001b[0mX_train\u001b[0m\u001b[0;34m,\u001b[0m \u001b[0mY_train\u001b[0m\u001b[0;34m)\u001b[0m\u001b[0;34m\u001b[0m\u001b[0;34m\u001b[0m\u001b[0m\n",
      "\u001b[0;31mAttributeError\u001b[0m: 'LGBMClassifier' object has no attribute 'early_stopping'"
     ]
    }
   ],
   "source": [
    "lgbm = LGBMClassifier()\n",
    "# lgbm.early_stopping(200)\n",
    "lgbm.fit(X_train, Y_train)"
   ]
  },
  {
   "cell_type": "code",
   "execution_count": 104,
   "metadata": {},
   "outputs": [
    {
     "name": "stdout",
     "output_type": "stream",
     "text": [
      "Train F1: 0.41750321750321756\n",
      "Test F1: 0.2930714096097691\n",
      "Train ROC AUC: 0.8854305239296063\n",
      "Test ROC AUC: 0.774185747732563\n",
      "Train Recall: 0.27547554347826086\n",
      "Test Recall: 0.18988648090815274\n",
      "Train Precision: 0.8618490967056323\n",
      "Test Precision: 0.641860465116279\n"
     ]
    }
   ],
   "source": [
    "print(\"Train F1: \"+str(f1_score(Y_train, lgbm.predict(X_train))))\n",
    "print(\"Test F1: \"+str(f1_score(Y_test, lgbm.predict(X_test))))\n",
    "print(\"Train ROC AUC: \"+str(roc_auc_score(Y_train, lgbm.predict_proba(X_train)[:,1])))\n",
    "print(\"Test ROC AUC: \"+str(roc_auc_score(Y_test, lgbm.predict_proba(X_test)[:,1])))\n",
    "print(\"Train Recall: \"+str(recall_score(Y_train, lgbm.predict(X_train))))\n",
    "print(\"Test Recall: \"+str(recall_score(Y_test, lgbm.predict(X_test))))\n",
    "print(\"Train Precision: \"+str(precision_score(Y_train, lgbm.predict(X_train))))\n",
    "print(\"Test Precision: \"+str(precision_score(Y_test, lgbm.predict(X_test))))"
   ]
  },
  {
   "cell_type": "markdown",
   "metadata": {},
   "source": [
    "### RandomForrest"
   ]
  },
  {
   "cell_type": "code",
   "execution_count": 114,
   "metadata": {},
   "outputs": [],
   "source": [
    "rf_cl = RandomForestClassifier()"
   ]
  },
  {
   "cell_type": "code",
   "execution_count": 115,
   "metadata": {},
   "outputs": [
    {
     "data": {
      "text/plain": [
       "RandomForestClassifier()"
      ]
     },
     "execution_count": 115,
     "metadata": {},
     "output_type": "execute_result"
    }
   ],
   "source": [
    "rf_cl.fit(X_train, Y_train)"
   ]
  },
  {
   "cell_type": "code",
   "execution_count": 121,
   "metadata": {},
   "outputs": [
    {
     "name": "stdout",
     "output_type": "stream",
     "text": [
      "Train F1: 1.0\n",
      "Test F1: 0.2753623188405797\n",
      "Train ROC AUC: 1.0\n",
      "Test ROC AUC: 0.7636115957694354\n",
      "Train Recall: 1.0\n",
      "Test Recall: 0.17647058823529413\n",
      "Train Precision: 1.0\n",
      "Test Precision: 0.6263736263736264\n"
     ]
    }
   ],
   "source": [
    "print(\"Train F1: \"+str(f1_score(Y_train, rf_cl.predict(X_train))))\n",
    "print(\"Test F1: \"+str(f1_score(Y_test, rf_cl.predict(X_test))))\n",
    "print(\"Train ROC AUC: \"+str(roc_auc_score(Y_train, rf_cl.predict_proba(X_train)[:,1])))\n",
    "print(\"Test ROC AUC: \"+str(roc_auc_score(Y_test, rf_cl.predict_proba(X_test)[:,1])))\n",
    "print(\"Train Recall: \"+str(recall_score(Y_train, rf_cl.predict(X_train))))\n",
    "print(\"Test Recall: \"+str(recall_score(Y_test, rf_cl.predict(X_test))))\n",
    "print(\"Train Precision: \"+str(precision_score(Y_train, rf_cl.predict(X_train))))\n",
    "print(\"Test Precision: \"+str(precision_score(Y_test, rf_cl.predict(X_test))))"
   ]
  },
  {
   "cell_type": "code",
   "execution_count": null,
   "metadata": {},
   "outputs": [
    {
     "name": "stdout",
     "output_type": "stream",
     "text": [
      "(array([0, 1]), array([46026,  8832]))\n",
      "(array([0, 1]), array([17545,   741]))\n"
     ]
    }
   ],
   "source": [
    "print(np.unique(rf_cl.predict(X_train), return_counts=True))\n",
    "print(np.unique(rf_cl.predict(X_test), return_counts=True))"
   ]
  },
  {
   "cell_type": "markdown",
   "metadata": {},
   "source": [
    "## Model for 3 classes"
   ]
  },
  {
   "cell_type": "code",
   "execution_count": 160,
   "metadata": {},
   "outputs": [],
   "source": [
    "from sklearn.metrics import classification_report\n",
    "from sklearn.preprocessing import label_binarize"
   ]
  },
  {
   "cell_type": "code",
   "execution_count": 154,
   "metadata": {},
   "outputs": [
    {
     "data": {
      "text/plain": [
       "((54857, 166), (54857,))"
      ]
     },
     "execution_count": 154,
     "metadata": {},
     "output_type": "execute_result"
    }
   ],
   "source": [
    "X_train.shape, Y_train.shape"
   ]
  },
  {
   "cell_type": "markdown",
   "metadata": {},
   "source": [
    "### DT"
   ]
  },
  {
   "cell_type": "code",
   "execution_count": 156,
   "metadata": {},
   "outputs": [],
   "source": [
    "dt_c = DecisionTreeClassifier(random_state=42)"
   ]
  },
  {
   "cell_type": "code",
   "execution_count": 157,
   "metadata": {},
   "outputs": [
    {
     "data": {
      "text/plain": [
       "DecisionTreeClassifier(random_state=42)"
      ]
     },
     "execution_count": 157,
     "metadata": {},
     "output_type": "execute_result"
    }
   ],
   "source": [
    "dt_c.fit(X_train, Y_train)"
   ]
  },
  {
   "cell_type": "code",
   "execution_count": 161,
   "metadata": {},
   "outputs": [
    {
     "name": "stdout",
     "output_type": "stream",
     "text": [
      "              precision    recall  f1-score   support\n",
      "\n",
      "        down       0.20      0.18      0.19      1528\n",
      "        same       0.85      0.87      0.86     15090\n",
      "          up       0.22      0.19      0.20      1668\n",
      "\n",
      "    accuracy                           0.75     18286\n",
      "   macro avg       0.43      0.42      0.42     18286\n",
      "weighted avg       0.74      0.75      0.75     18286\n",
      "\n"
     ]
    }
   ],
   "source": [
    "print(classification_report(dt_c.predict(X_test), \\\n",
    "                            Y_test, labels = [-1,0,1], target_names = ['down', 'same', 'up']))"
   ]
  },
  {
   "cell_type": "code",
   "execution_count": 198,
   "metadata": {},
   "outputs": [
    {
     "name": "stderr",
     "output_type": "stream",
     "text": [
      "/Users/oslikdau/miniforge3/envs/time-series/lib/python3.8/site-packages/sklearn/base.py:493: FutureWarning: The feature names should match those that were passed during fit. Starting version 1.2, an error will be raised.\n",
      "Feature names unseen at fit time:\n",
      "- close_dif__agg_autocorrelation__f_agg_mean__maxlag_40\n",
      "- close_dif__agg_linear_trend__attr_intercept__chunk_len_10__f_agg_max\n",
      "- close_dif__agg_linear_trend__attr_intercept__chunk_len_10__f_agg_mean\n",
      "- close_dif__agg_linear_trend__attr_intercept__chunk_len_10__f_agg_min\n",
      "- close_dif__agg_linear_trend__attr_intercept__chunk_len_10__f_agg_var\n",
      "- ...\n",
      "Feature names seen at fit time, yet now missing:\n",
      "- close_dif__agg_autocorrelation__f_agg_\"mean\"__maxlag_40\n",
      "- close_dif__agg_linear_trend__attr_\"intercept\"__chunk_len_10__f_agg_\"max\"\n",
      "- close_dif__agg_linear_trend__attr_\"intercept\"__chunk_len_10__f_agg_\"mean\"\n",
      "- close_dif__agg_linear_trend__attr_\"intercept\"__chunk_len_10__f_agg_\"min\"\n",
      "- close_dif__agg_linear_trend__attr_\"intercept\"__chunk_len_10__f_agg_\"var\"\n",
      "- ...\n",
      "\n",
      "  warnings.warn(message, FutureWarning)\n"
     ]
    },
    {
     "data": {
      "text/plain": [
       "0.5902979981536952"
      ]
     },
     "execution_count": 198,
     "metadata": {},
     "output_type": "execute_result"
    }
   ],
   "source": [
    "labels = [-1, 0, 1]\n",
    "\n",
    "ytest = label_binarize(Y_test, classes=labels)\n",
    "# ypreds = label_binarize(dt_c.predict(X_test), classes=labels)\n",
    "roc_auc_score(ytest, dt_c.predict_proba(X_test), average='weighted',multi_class='ovr')"
   ]
  },
  {
   "cell_type": "markdown",
   "metadata": {},
   "source": [
    "### GradBoost"
   ]
  },
  {
   "cell_type": "code",
   "execution_count": 166,
   "metadata": {},
   "outputs": [],
   "source": [
    "gb_cl = GradientBoostingClassifier()"
   ]
  },
  {
   "cell_type": "code",
   "execution_count": 167,
   "metadata": {},
   "outputs": [
    {
     "data": {
      "text/plain": [
       "GradientBoostingClassifier()"
      ]
     },
     "execution_count": 167,
     "metadata": {},
     "output_type": "execute_result"
    }
   ],
   "source": [
    "gb_cl.fit(X_train, Y_train)"
   ]
  },
  {
   "cell_type": "code",
   "execution_count": 168,
   "metadata": {},
   "outputs": [
    {
     "name": "stdout",
     "output_type": "stream",
     "text": [
      "              precision    recall  f1-score   support\n",
      "\n",
      "        down       0.09      0.68      0.15       174\n",
      "        same       0.99      0.86      0.92     17857\n",
      "          up       0.11      0.64      0.19       255\n",
      "\n",
      "    accuracy                           0.85     18286\n",
      "   macro avg       0.40      0.72      0.42     18286\n",
      "weighted avg       0.97      0.85      0.90     18286\n",
      "\n"
     ]
    }
   ],
   "source": [
    "print(classification_report(gb_cl.predict(X_test), \\\n",
    "                            Y_test, labels = [-1,0,1], target_names = ['down', 'same', 'up']))"
   ]
  },
  {
   "cell_type": "code",
   "execution_count": 197,
   "metadata": {},
   "outputs": [
    {
     "name": "stderr",
     "output_type": "stream",
     "text": [
      "/Users/oslikdau/miniforge3/envs/time-series/lib/python3.8/site-packages/sklearn/base.py:493: FutureWarning: The feature names should match those that were passed during fit. Starting version 1.2, an error will be raised.\n",
      "Feature names unseen at fit time:\n",
      "- close_dif__agg_autocorrelation__f_agg_mean__maxlag_40\n",
      "- close_dif__agg_linear_trend__attr_intercept__chunk_len_10__f_agg_max\n",
      "- close_dif__agg_linear_trend__attr_intercept__chunk_len_10__f_agg_mean\n",
      "- close_dif__agg_linear_trend__attr_intercept__chunk_len_10__f_agg_min\n",
      "- close_dif__agg_linear_trend__attr_intercept__chunk_len_10__f_agg_var\n",
      "- ...\n",
      "Feature names seen at fit time, yet now missing:\n",
      "- close_dif__agg_autocorrelation__f_agg_\"mean\"__maxlag_40\n",
      "- close_dif__agg_linear_trend__attr_\"intercept\"__chunk_len_10__f_agg_\"max\"\n",
      "- close_dif__agg_linear_trend__attr_\"intercept\"__chunk_len_10__f_agg_\"mean\"\n",
      "- close_dif__agg_linear_trend__attr_\"intercept\"__chunk_len_10__f_agg_\"min\"\n",
      "- close_dif__agg_linear_trend__attr_\"intercept\"__chunk_len_10__f_agg_\"var\"\n",
      "- ...\n",
      "\n",
      "  warnings.warn(message, FutureWarning)\n"
     ]
    },
    {
     "data": {
      "text/plain": [
       "0.774231171205713"
      ]
     },
     "execution_count": 197,
     "metadata": {},
     "output_type": "execute_result"
    }
   ],
   "source": [
    "labels = [-1, 0, 1]\n",
    "\n",
    "ytest = label_binarize(Y_test, classes=labels)\n",
    "# ypreds = label_binarize(gb_cl.predict(X_test), classes=labels)\n",
    "roc_auc_score(ytest, gb_cl.predict_proba(X_test), average='weighted',multi_class='ovr')"
   ]
  },
  {
   "cell_type": "markdown",
   "metadata": {},
   "source": [
    "### LightGBM"
   ]
  },
  {
   "cell_type": "code",
   "execution_count": 169,
   "metadata": {},
   "outputs": [],
   "source": [
    "from lightgbm import LGBMClassifier"
   ]
  },
  {
   "cell_type": "code",
   "execution_count": 170,
   "metadata": {},
   "outputs": [],
   "source": [
    "# убрать спец символы в названиях - LGBM ругается\n",
    "import re\n",
    "X_train = X_train.rename(columns = lambda x:re.sub('[^A-Za-z0-9_]+', '', x))\n",
    "X_test = X_test.rename(columns = lambda x:re.sub('[^A-Za-z0-9_]+', '', x))"
   ]
  },
  {
   "cell_type": "code",
   "execution_count": 173,
   "metadata": {},
   "outputs": [
    {
     "data": {
      "text/plain": [
       "LGBMClassifier()"
      ]
     },
     "execution_count": 173,
     "metadata": {},
     "output_type": "execute_result"
    }
   ],
   "source": [
    "lgbm = LGBMClassifier()\n",
    "# lgbm.early_stopping(200)\n",
    "lgbm.fit(X_train, Y_train)"
   ]
  },
  {
   "cell_type": "code",
   "execution_count": 174,
   "metadata": {},
   "outputs": [
    {
     "name": "stdout",
     "output_type": "stream",
     "text": [
      "              precision    recall  f1-score   support\n",
      "\n",
      "        down       0.11      0.70      0.19       213\n",
      "        same       0.99      0.86      0.92     17820\n",
      "          up       0.12      0.68      0.20       253\n",
      "\n",
      "    accuracy                           0.86     18286\n",
      "   macro avg       0.41      0.75      0.44     18286\n",
      "weighted avg       0.97      0.86      0.90     18286\n",
      "\n"
     ]
    }
   ],
   "source": [
    "print(classification_report(lgbm.predict(X_test), \\\n",
    "                            Y_test, labels = [-1,0,1], target_names = ['down', 'same', 'up']))"
   ]
  },
  {
   "cell_type": "code",
   "execution_count": 195,
   "metadata": {},
   "outputs": [
    {
     "data": {
      "text/plain": [
       "0.7759442967551271"
      ]
     },
     "execution_count": 195,
     "metadata": {},
     "output_type": "execute_result"
    }
   ],
   "source": [
    "labels = [-1, 0, 1]\n",
    "\n",
    "ytest = label_binarize(Y_test, classes=labels)\n",
    "# ypreds = label_binarize(lgbm.predict_proba(X_test), classes=labels)\n",
    "roc_auc_score(ytest, lgbm.predict_proba(X_test), average='weighted',multi_class='ovr')"
   ]
  },
  {
   "cell_type": "code",
   "execution_count": 194,
   "metadata": {},
   "outputs": [
    {
     "data": {
      "text/plain": [
       "array([[0, 1, 0],\n",
       "       [0, 1, 0],\n",
       "       [0, 1, 0],\n",
       "       ...,\n",
       "       [0, 1, 0],\n",
       "       [0, 1, 0],\n",
       "       [0, 1, 0]])"
      ]
     },
     "execution_count": 194,
     "metadata": {},
     "output_type": "execute_result"
    }
   ],
   "source": [
    "ypreds"
   ]
  }
 ],
 "metadata": {
  "interpreter": {
   "hash": "f04e9d9503fc02916e732e0ca15418c91d0dcb99725da04f8a65fab59f1f0d78"
  },
  "kernelspec": {
   "display_name": "Python 3.9.7 64-bit ('base': conda)",
   "language": "python",
   "name": "python3"
  },
  "language_info": {
   "codemirror_mode": {
    "name": "ipython",
    "version": 3
   },
   "file_extension": ".py",
   "mimetype": "text/x-python",
   "name": "python",
   "nbconvert_exporter": "python",
   "pygments_lexer": "ipython3",
   "version": "3.8.12"
  },
  "orig_nbformat": 4
 },
 "nbformat": 4,
 "nbformat_minor": 2
}
